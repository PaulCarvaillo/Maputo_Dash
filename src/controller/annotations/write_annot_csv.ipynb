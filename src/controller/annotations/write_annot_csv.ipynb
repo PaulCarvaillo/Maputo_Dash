{
 "cells": [
  {
   "cell_type": "markdown",
   "metadata": {},
   "source": [
    "# read .excel, add few columns, save to .csv"
   ]
  },
  {
   "cell_type": "code",
   "execution_count": null,
   "metadata": {},
   "outputs": [],
   "source": [
    "import pandas as pd\n",
    "results = pd.read_excel('/Users/Paul/Paul/Desktop/My_projects/Bioacoustics/Maputo_Dash/datasets/tables/annot.xlsx',1)"
   ]
  },
  {
   "cell_type": "code",
   "execution_count": null,
   "metadata": {},
   "outputs": [],
   "source": [
    "results"
   ]
  },
  {
   "cell_type": "code",
   "execution_count": null,
   "metadata": {},
   "outputs": [],
   "source": [
    "results.loc[:,'id']=str(results.loc[:,'record'])\n",
    "results = results.dropna()\n",
    "results['sound_id']=results['record'].astype(int)\n",
    "results['sound_id']=results['sound_id'].astype(str)\n",
    "results['gen'] = results['SP'].apply(lambda x: x.split(\"_\", 1)[0])\n",
    "results['species'] = results['SP'].apply(lambda x: x.split(\"_\", 1)[1])\n",
    "results = results.drop(columns='SP')\n",
    "results = results.reset_index(drop=True)"
   ]
  },
  {
   "cell_type": "code",
   "execution_count": null,
   "metadata": {},
   "outputs": [],
   "source": [
    "results"
   ]
  },
  {
   "cell_type": "code",
   "execution_count": null,
   "metadata": {},
   "outputs": [],
   "source": [
    "results.to_csv('/Users/Paul/Paul/Desktop/My_projects/Bioacoustics/Maputo_Dash/datasets/tables/annot.csv')"
   ]
  }
 ],
 "metadata": {
  "interpreter": {
   "hash": "5f092c625b54717e6fbd4d91ce8d85fe7e6620ef8c41f32022d30ea320c9fdb9"
  },
  "kernelspec": {
   "display_name": "Python 3.8.9 64-bit ('.venv': venv)",
   "language": "python",
   "name": "python3"
  },
  "language_info": {
   "codemirror_mode": {
    "name": "ipython",
    "version": 3
   },
   "file_extension": ".py",
   "mimetype": "text/x-python",
   "name": "python",
   "nbconvert_exporter": "python",
   "pygments_lexer": "ipython3",
   "version": "3.8.9"
  },
  "orig_nbformat": 4
 },
 "nbformat": 4,
 "nbformat_minor": 2
}
