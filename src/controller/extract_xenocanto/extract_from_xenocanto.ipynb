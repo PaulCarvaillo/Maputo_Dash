{
 "cells": [
  {
   "cell_type": "markdown",
   "metadata": {},
   "source": [
    "# SCRIPT TO SEND QUERY TO XENOCANTO AND DOWNLOAD IT TO /DATASETS"
   ]
  },
  {
   "cell_type": "markdown",
   "metadata": {},
   "source": [
    "## Walkthrough importing sound data from xenocanto to .wav\n",
    "### Insert your own paths."
   ]
  },
  {
   "cell_type": "code",
   "execution_count": null,
   "metadata": {},
   "outputs": [],
   "source": [
    "from xenopy import Query\n",
    "import pandas as pd\n",
    "import os\n",
    "datapath_wav = '/Users/Paul/Paul/Desktop/My_projects/Bioacoustics/Maputo_dash/datasets/wav/xenocanto2/'\n",
    "datapath_table = '/Users/Paul/Paul/Desktop/My_projects/Bioacoustics/Maputo_Dash/datasets/tables/'\n",
    "relevant_features = ['loc','cnt','rec','length','gen','sp','q','type','lat','lng','bird-seen','time','date','uploaded']"
   ]
  },
  {
   "cell_type": "code",
   "execution_count": 6,
   "metadata": {},
   "outputs": [
    {
     "name": "stdout",
     "output_type": "stream",
     "text": [
      "query: cnt:mozambique box:-26,30,-25.55,35\n"
     ]
    }
   ],
   "source": [
    "#Query Xenocanto. List possible of arguments above ^\n",
    "'''\n",
    "    name: Species Name. Specify the name of bird you intend to retrieve data from. Both English names and Latin names are acceptable.\n",
    "    gen: Genus. Genus is part of a species' latin name, so it is searched by default when performing a basic search (as mentioned above).\n",
    "    ssp: subspecies\n",
    "    rec: recordist. Search for all recordings from a particular recordist.\n",
    "    cnt: country. Search for all recordings from a particular country.\n",
    "    loc: location. Search for all recordings from a specific location.\n",
    "    rmk: remarks. Many recordists leave remarks about the recording,and this field can be searched using the rmk tag. For example, rmk:playback will return a list of recordings for which the recordist left a comment about the use of playback. This field accepts a 'matches' operator.\n",
    "    lat: latitude.\n",
    "    lon: longtitude\n",
    "    box: search for recordings that occur within a given rectangle. The general format of the box tag is as follows: box:LAT_MIN,LON_MIN,LAT_MAX,LON_MAX. Note that there must not be any spaces between the coordinates.\n",
    "    also: To search for recordings that have a given species in the background.\n",
    "    type: Search for recordings of a particular sound type, e.g., type='song'\n",
    "    nr: number. To search for a known recording number, use the nr tag: for example nr:76967. You can also search for a range of numbers as nr:88888-88890.\n",
    "    lc: license.\n",
    "    q: quality ratings. \n",
    "    q_lt: quality ratings less than\n",
    "    q_gt: quality ratings better than\n",
    "        Usage Examples:\n",
    "            Recordings are rated by quality. Quality ratings range from A (highest quality) to E (lowest quality). To search for recordings that match a certain quality rating, use the q, q_lt, and q_gt tags. For example:\n",
    "                - q:A will return recordings with a quality rating of A.\n",
    "                - q:0 search explicitly for unrated recordings\n",
    "                - q_lt:C will return recordings with a quality rating of D or E.\n",
    "                - q_gt:C will return recordings with a quality rating of B or A.\n",
    "    len: recording length control parameter.\n",
    "    len_lt: recording length less than\n",
    "    len_gt: recording length greater than\n",
    "        Usage Examples:\n",
    "            len:10 will return recordings with a duration of 10 seconds (with a margin of 1%, so actually between 9.9 and 10.1 seconds)\n",
    "            len:10-15 will return recordings lasting between 10 and 15 seconds.\n",
    "            len_lt:30 will return recordings half a minute or shorter in length.\n",
    "            len_gt:120 will return recordings longer than two minutes in length.\n",
    "    area: continents. Valid values for this tag: africa, america, asia, australia, europe.\n",
    "    since: \n",
    "        Usage Examples:\n",
    "            - since=3, since the past three days\n",
    "            - since=YYYY-MM-DD, since the particular date\n",
    "    year: year\n",
    "    month: month. year and month tags allow you to search for recordings that were recorded on a certain date. \n",
    "    '''\n",
    "\n",
    "q = Query('''cnt:mozambique box:-26,30,-25.55,35''')"
   ]
  },
  {
   "cell_type": "markdown",
   "metadata": {},
   "source": [
    "## Inspect query results before downloading"
   ]
  },
  {
   "cell_type": "code",
   "execution_count": 7,
   "metadata": {},
   "outputs": [
    {
     "name": "stdout",
     "output_type": "stream",
     "text": [
      "... retrieving metadata ...\n",
      "https://www.xeno-canto.org/api/2/recordings?query=cnt:mozambique%20box:-26,30,-25.55,35&page=1\n"
     ]
    }
   ],
   "source": [
    "# retrieve metadata, store in df_metafiles as pandas DataFrame\n",
    "metafiles = q.retrieve_meta(verbose=True)\n",
    "df_metafiles = pd.DataFrame(metafiles['recordings'])\n"
   ]
  },
  {
   "cell_type": "code",
   "execution_count": 8,
   "metadata": {},
   "outputs": [
    {
     "data": {
      "text/html": [
       "<div>\n",
       "<style scoped>\n",
       "    .dataframe tbody tr th:only-of-type {\n",
       "        vertical-align: middle;\n",
       "    }\n",
       "\n",
       "    .dataframe tbody tr th {\n",
       "        vertical-align: top;\n",
       "    }\n",
       "\n",
       "    .dataframe thead th {\n",
       "        text-align: right;\n",
       "    }\n",
       "</style>\n",
       "<table border=\"1\" class=\"dataframe\">\n",
       "  <thead>\n",
       "    <tr style=\"text-align: right;\">\n",
       "      <th></th>\n",
       "      <th>id</th>\n",
       "      <th>gen</th>\n",
       "      <th>sp</th>\n",
       "      <th>ssp</th>\n",
       "      <th>group</th>\n",
       "      <th>en</th>\n",
       "      <th>rec</th>\n",
       "      <th>cnt</th>\n",
       "      <th>loc</th>\n",
       "      <th>lat</th>\n",
       "      <th>...</th>\n",
       "      <th>rmk</th>\n",
       "      <th>bird-seen</th>\n",
       "      <th>animal-seen</th>\n",
       "      <th>playback-used</th>\n",
       "      <th>temp</th>\n",
       "      <th>regnr</th>\n",
       "      <th>auto</th>\n",
       "      <th>dvc</th>\n",
       "      <th>mic</th>\n",
       "      <th>smp</th>\n",
       "    </tr>\n",
       "  </thead>\n",
       "  <tbody>\n",
       "    <tr>\n",
       "      <th>count</th>\n",
       "      <td>73</td>\n",
       "      <td>73</td>\n",
       "      <td>73</td>\n",
       "      <td>73</td>\n",
       "      <td>73</td>\n",
       "      <td>73</td>\n",
       "      <td>73</td>\n",
       "      <td>73</td>\n",
       "      <td>73</td>\n",
       "      <td>73</td>\n",
       "      <td>...</td>\n",
       "      <td>73</td>\n",
       "      <td>73</td>\n",
       "      <td>73</td>\n",
       "      <td>73</td>\n",
       "      <td>73</td>\n",
       "      <td>73</td>\n",
       "      <td>73</td>\n",
       "      <td>73</td>\n",
       "      <td>73</td>\n",
       "      <td>73</td>\n",
       "    </tr>\n",
       "    <tr>\n",
       "      <th>unique</th>\n",
       "      <td>73</td>\n",
       "      <td>31</td>\n",
       "      <td>36</td>\n",
       "      <td>6</td>\n",
       "      <td>1</td>\n",
       "      <td>36</td>\n",
       "      <td>8</td>\n",
       "      <td>1</td>\n",
       "      <td>12</td>\n",
       "      <td>18</td>\n",
       "      <td>...</td>\n",
       "      <td>62</td>\n",
       "      <td>3</td>\n",
       "      <td>3</td>\n",
       "      <td>3</td>\n",
       "      <td>1</td>\n",
       "      <td>1</td>\n",
       "      <td>1</td>\n",
       "      <td>1</td>\n",
       "      <td>1</td>\n",
       "      <td>2</td>\n",
       "    </tr>\n",
       "    <tr>\n",
       "      <th>top</th>\n",
       "      <td>457592</td>\n",
       "      <td>Mystery</td>\n",
       "      <td>mystery</td>\n",
       "      <td></td>\n",
       "      <td>birds</td>\n",
       "      <td>Identity unknown</td>\n",
       "      <td>Gary Allport</td>\n",
       "      <td>Mozambique</td>\n",
       "      <td>Dona Alice - Costa do Sol, Maputo</td>\n",
       "      <td>-25.9061</td>\n",
       "      <td>...</td>\n",
       "      <td>Editing: High-pass filter, cutoff frequency 1k...</td>\n",
       "      <td>yes</td>\n",
       "      <td>yes</td>\n",
       "      <td>no</td>\n",
       "      <td></td>\n",
       "      <td></td>\n",
       "      <td>no</td>\n",
       "      <td></td>\n",
       "      <td></td>\n",
       "      <td>44100</td>\n",
       "    </tr>\n",
       "    <tr>\n",
       "      <th>freq</th>\n",
       "      <td>1</td>\n",
       "      <td>10</td>\n",
       "      <td>10</td>\n",
       "      <td>58</td>\n",
       "      <td>73</td>\n",
       "      <td>10</td>\n",
       "      <td>30</td>\n",
       "      <td>73</td>\n",
       "      <td>19</td>\n",
       "      <td>19</td>\n",
       "      <td>...</td>\n",
       "      <td>5</td>\n",
       "      <td>40</td>\n",
       "      <td>40</td>\n",
       "      <td>59</td>\n",
       "      <td>73</td>\n",
       "      <td>73</td>\n",
       "      <td>73</td>\n",
       "      <td>73</td>\n",
       "      <td>73</td>\n",
       "      <td>52</td>\n",
       "    </tr>\n",
       "  </tbody>\n",
       "</table>\n",
       "<p>4 rows × 38 columns</p>\n",
       "</div>"
      ],
      "text/plain": [
       "            id      gen       sp ssp  group                en           rec  \\\n",
       "count       73       73       73  73     73                73            73   \n",
       "unique      73       31       36   6      1                36             8   \n",
       "top     457592  Mystery  mystery      birds  Identity unknown  Gary Allport   \n",
       "freq         1       10       10  58     73                10            30   \n",
       "\n",
       "               cnt                                loc       lat  ...  \\\n",
       "count           73                                 73        73  ...   \n",
       "unique           1                                 12        18  ...   \n",
       "top     Mozambique  Dona Alice - Costa do Sol, Maputo  -25.9061  ...   \n",
       "freq            73                                 19        19  ...   \n",
       "\n",
       "                                                      rmk bird-seen  \\\n",
       "count                                                  73        73   \n",
       "unique                                                 62         3   \n",
       "top     Editing: High-pass filter, cutoff frequency 1k...       yes   \n",
       "freq                                                    5        40   \n",
       "\n",
       "       animal-seen playback-used temp regnr auto dvc mic    smp  \n",
       "count           73            73   73    73   73  73  73     73  \n",
       "unique           3             3    1     1    1   1   1      2  \n",
       "top            yes            no              no          44100  \n",
       "freq            40            59   73    73   73  73  73     52  \n",
       "\n",
       "[4 rows x 38 columns]"
      ]
     },
     "execution_count": 8,
     "metadata": {},
     "output_type": "execute_result"
    }
   ],
   "source": [
    "df_metafiles.describe()"
   ]
  },
  {
   "cell_type": "code",
   "execution_count": 45,
   "metadata": {},
   "outputs": [
    {
     "data": {
      "text/plain": [
       "Index(['id', 'gen', 'sp', 'ssp', 'group', 'en', 'rec', 'cnt', 'loc', 'lat',\n",
       "       'lng', 'alt', 'type', 'sex', 'stage', 'method', 'url', 'file',\n",
       "       'file-name', 'sono', 'osci', 'lic', 'q', 'length', 'time', 'date',\n",
       "       'uploaded', 'also', 'rmk', 'bird-seen', 'animal-seen', 'playback-used',\n",
       "       'temp', 'regnr', 'auto', 'dvc', 'mic', 'smp'],\n",
       "      dtype='object')"
      ]
     },
     "execution_count": 45,
     "metadata": {},
     "output_type": "execute_result"
    }
   ],
   "source": [
    "df_metafiles.columns"
   ]
  },
  {
   "cell_type": "code",
   "execution_count": 46,
   "metadata": {},
   "outputs": [
    {
     "data": {
      "text/plain": [
       "array(['Inhaca island', 'Lopes, Matutuíne District, Maputo Province',\n",
       "       'Marracuene, Maputo', 'Dona Alice - Costa do Sol, Maputo',\n",
       "       'Golf Course, Maputo, Maputo',\n",
       "       'First Wetland Zone 4, Macaneta, Incomati Delta, Marracuene District, Maputo Province',\n",
       "       'Maputo, Marracuene, Cidade de Maputo', 'Maputo, Cidade de Maputo',\n",
       "       'Maputo', 'Marracuene District, Marracuene, Maputo',\n",
       "       'Matutuíne District, Maputo',\n",
       "       'Matutuíne District, Maputo Province',\n",
       "       'Gala Gala Eco Resort, Ponta do Ouro', 'Maputo, Maputo',\n",
       "       'Reserva Maputo, Maputo', 'Hotel Cardoso, Maputo',\n",
       "       'Ponta do Ouro, Matutuíne', 'Matutuíne, Maputo',\n",
       "       'Tunduru Botanical Gardens (near  Maputo), Maputo',\n",
       "       'Marracuene District, Marracuene District, Maputo Province'],\n",
       "      dtype=object)"
      ]
     },
     "execution_count": 46,
     "metadata": {},
     "output_type": "execute_result"
    }
   ],
   "source": [
    "df_metafiles.loc[:,'loc'].unique()"
   ]
  },
  {
   "cell_type": "code",
   "execution_count": 47,
   "metadata": {},
   "outputs": [
    {
     "data": {
      "text/html": [
       "<div>\n",
       "<style scoped>\n",
       "    .dataframe tbody tr th:only-of-type {\n",
       "        vertical-align: middle;\n",
       "    }\n",
       "\n",
       "    .dataframe tbody tr th {\n",
       "        vertical-align: top;\n",
       "    }\n",
       "\n",
       "    .dataframe thead th {\n",
       "        text-align: right;\n",
       "    }\n",
       "</style>\n",
       "<table border=\"1\" class=\"dataframe\">\n",
       "  <thead>\n",
       "    <tr style=\"text-align: right;\">\n",
       "      <th></th>\n",
       "      <th>loc</th>\n",
       "      <th>cnt</th>\n",
       "      <th>rec</th>\n",
       "      <th>length</th>\n",
       "      <th>gen</th>\n",
       "      <th>sp</th>\n",
       "      <th>q</th>\n",
       "      <th>type</th>\n",
       "      <th>lat</th>\n",
       "      <th>lng</th>\n",
       "      <th>bird-seen</th>\n",
       "      <th>time</th>\n",
       "      <th>date</th>\n",
       "      <th>uploaded</th>\n",
       "    </tr>\n",
       "  </thead>\n",
       "  <tbody>\n",
       "    <tr>\n",
       "      <th>count</th>\n",
       "      <td>127</td>\n",
       "      <td>127</td>\n",
       "      <td>127</td>\n",
       "      <td>127</td>\n",
       "      <td>127</td>\n",
       "      <td>127</td>\n",
       "      <td>127</td>\n",
       "      <td>127</td>\n",
       "      <td>127</td>\n",
       "      <td>127</td>\n",
       "      <td>127</td>\n",
       "      <td>127</td>\n",
       "      <td>127</td>\n",
       "      <td>127</td>\n",
       "    </tr>\n",
       "    <tr>\n",
       "      <th>unique</th>\n",
       "      <td>20</td>\n",
       "      <td>1</td>\n",
       "      <td>11</td>\n",
       "      <td>67</td>\n",
       "      <td>61</td>\n",
       "      <td>69</td>\n",
       "      <td>5</td>\n",
       "      <td>12</td>\n",
       "      <td>34</td>\n",
       "      <td>35</td>\n",
       "      <td>3</td>\n",
       "      <td>44</td>\n",
       "      <td>53</td>\n",
       "      <td>53</td>\n",
       "    </tr>\n",
       "    <tr>\n",
       "      <th>top</th>\n",
       "      <td>Inhaca island</td>\n",
       "      <td>Mozambique</td>\n",
       "      <td>Antonio Xeira</td>\n",
       "      <td>0:06</td>\n",
       "      <td>Mystery</td>\n",
       "      <td>mystery</td>\n",
       "      <td>B</td>\n",
       "      <td>song</td>\n",
       "      <td>-26.023</td>\n",
       "      <td>32.907</td>\n",
       "      <td>yes</td>\n",
       "      <td>06:00</td>\n",
       "      <td>2012-06-17</td>\n",
       "      <td>2010-08-15</td>\n",
       "    </tr>\n",
       "    <tr>\n",
       "      <th>freq</th>\n",
       "      <td>31</td>\n",
       "      <td>127</td>\n",
       "      <td>33</td>\n",
       "      <td>6</td>\n",
       "      <td>11</td>\n",
       "      <td>11</td>\n",
       "      <td>81</td>\n",
       "      <td>65</td>\n",
       "      <td>21</td>\n",
       "      <td>31</td>\n",
       "      <td>78</td>\n",
       "      <td>18</td>\n",
       "      <td>12</td>\n",
       "      <td>15</td>\n",
       "    </tr>\n",
       "  </tbody>\n",
       "</table>\n",
       "</div>"
      ],
      "text/plain": [
       "                  loc         cnt            rec length      gen       sp  \\\n",
       "count             127         127            127    127      127      127   \n",
       "unique             20           1             11     67       61       69   \n",
       "top     Inhaca island  Mozambique  Antonio Xeira   0:06  Mystery  mystery   \n",
       "freq               31         127             33      6       11       11   \n",
       "\n",
       "          q  type      lat     lng bird-seen   time        date    uploaded  \n",
       "count   127   127      127     127       127    127         127         127  \n",
       "unique    5    12       34      35         3     44          53          53  \n",
       "top       B  song  -26.023  32.907       yes  06:00  2012-06-17  2010-08-15  \n",
       "freq     81    65       21      31        78     18          12          15  "
      ]
     },
     "execution_count": 47,
     "metadata": {},
     "output_type": "execute_result"
    }
   ],
   "source": [
    "df_metafiles.loc[:,relevant_features].describe()\n"
   ]
  },
  {
   "cell_type": "markdown",
   "metadata": {},
   "source": [
    "## Create .csv in datasets/table"
   ]
  },
  {
   "cell_type": "code",
   "execution_count": 51,
   "metadata": {},
   "outputs": [],
   "source": [
    "df_metafiles.to_csv(datapath_table+'metafiles_xenocanto.csv')"
   ]
  },
  {
   "cell_type": "markdown",
   "metadata": {},
   "source": [
    "DOWNLOAD DATA, STORE IN xenocanto/wav/\n",
    "data sorted by gen-species into folders containing .wav(s)"
   ]
  },
  {
   "cell_type": "code",
   "execution_count": 52,
   "metadata": {},
   "outputs": [
    {
     "name": "stdout",
     "output_type": "stream",
     "text": [
      "... retrieving metadata ...\n"
     ]
    },
    {
     "name": "stderr",
     "output_type": "stream",
     "text": [
      "process 8437: 100%|██████████| 13/13 [00:43<00:00,  3.33s/it]\n",
      "/usr/local/Cellar/python@3.9/3.9.14/Frameworks/Python.framework/Versions/3.9/lib/python3.9/multiprocessing/resource_tracker.py:216: UserWarning: resource_tracker: There appear to be 1 leaked semaphore objects to clean up at shutdown\n",
      "  warnings.warn('resource_tracker: There appear to be %d '\n",
      "process 8434: 100%|██████████| 13/13 [00:56<00:00,  4.37s/it]\n",
      "/usr/local/Cellar/python@3.9/3.9.14/Frameworks/Python.framework/Versions/3.9/lib/python3.9/multiprocessing/resource_tracker.py:216: UserWarning: resource_tracker: There appear to be 1 leaked semaphore objects to clean up at shutdown\n",
      "  warnings.warn('resource_tracker: There appear to be %d '\n",
      "process 8444: 100%|██████████| 13/13 [00:59<00:00,  4.57s/it]\n",
      "/usr/local/Cellar/python@3.9/3.9.14/Frameworks/Python.framework/Versions/3.9/lib/python3.9/multiprocessing/resource_tracker.py:216: UserWarning: resource_tracker: There appear to be 1 leaked semaphore objects to clean up at shutdown\n",
      "  warnings.warn('resource_tracker: There appear to be %d '\n",
      "process 8441: 100%|██████████| 13/13 [01:06<00:00,  5.09s/it]\n",
      "/usr/local/Cellar/python@3.9/3.9.14/Frameworks/Python.framework/Versions/3.9/lib/python3.9/multiprocessing/resource_tracker.py:216: UserWarning: resource_tracker: There appear to be 1 leaked semaphore objects to clean up at shutdown\n",
      "  warnings.warn('resource_tracker: There appear to be %d '\n",
      "process 8450: 100%|██████████| 12/12 [01:11<00:00,  5.94s/it]\n",
      "/usr/local/Cellar/python@3.9/3.9.14/Frameworks/Python.framework/Versions/3.9/lib/python3.9/multiprocessing/resource_tracker.py:216: UserWarning: resource_tracker: There appear to be 1 leaked semaphore objects to clean up at shutdown\n",
      "  warnings.warn('resource_tracker: There appear to be %d '\n",
      "process 8446: 100%|██████████| 12/12 [01:14<00:00,  6.20s/it]\n",
      "process 8435:  85%|████████▍ | 11/13 [01:14<00:08,  4.02s/it]/usr/local/Cellar/python@3.9/3.9.14/Frameworks/Python.framework/Versions/3.9/lib/python3.9/multiprocessing/resource_tracker.py:216: UserWarning: resource_tracker: There appear to be 1 leaked semaphore objects to clean up at shutdown\n",
      "  warnings.warn('resource_tracker: There appear to be %d '\n",
      "process 8435: 100%|██████████| 13/13 [01:17<00:00,  5.97s/it]\n",
      "/usr/local/Cellar/python@3.9/3.9.14/Frameworks/Python.framework/Versions/3.9/lib/python3.9/multiprocessing/resource_tracker.py:216: UserWarning: resource_tracker: There appear to be 1 leaked semaphore objects to clean up at shutdown\n",
      "  warnings.warn('resource_tracker: There appear to be %d '\n",
      "process 8445: 100%|██████████| 13/13 [01:27<00:00,  6.73s/it]\n",
      "/usr/local/Cellar/python@3.9/3.9.14/Frameworks/Python.framework/Versions/3.9/lib/python3.9/multiprocessing/resource_tracker.py:216: UserWarning: resource_tracker: There appear to be 1 leaked semaphore objects to clean up at shutdown\n",
      "  warnings.warn('resource_tracker: There appear to be %d '\n",
      "process 8451: 100%|██████████| 12/12 [01:37<00:00,  8.13s/it]\n",
      "/usr/local/Cellar/python@3.9/3.9.14/Frameworks/Python.framework/Versions/3.9/lib/python3.9/multiprocessing/resource_tracker.py:216: UserWarning: resource_tracker: There appear to be 1 leaked semaphore objects to clean up at shutdown\n",
      "  warnings.warn('resource_tracker: There appear to be %d '\n",
      "process 8436: 100%|██████████| 13/13 [01:45<00:00,  8.09s/it]\n"
     ]
    },
    {
     "name": "stdout",
     "output_type": "stream",
     "text": [
      "... finished ...\n"
     ]
    },
    {
     "name": "stderr",
     "output_type": "stream",
     "text": [
      "/usr/local/Cellar/python@3.9/3.9.14/Frameworks/Python.framework/Versions/3.9/lib/python3.9/multiprocessing/resource_tracker.py:216: UserWarning: resource_tracker: There appear to be 1 leaked semaphore objects to clean up at shutdown\n",
      "  warnings.warn('resource_tracker: There appear to be %d '\n"
     ]
    }
   ],
   "source": [
    "# retrieve recordings\n",
    "os.chdir(datapath_wav)\n",
    "q.retrieve_recordings(multiprocess=True, nproc=10, attempts=10, outdir=datapath_wav)"
   ]
  },
  {
   "cell_type": "markdown",
   "metadata": {},
   "source": []
  }
 ],
 "metadata": {
  "interpreter": {
   "hash": "81690b64bbafc761d7138f0e52d97e26c5145b78c3c0378370557753364dbd2a"
  },
  "kernelspec": {
   "display_name": "Python 3.9.8 64-bit ('.venv': venv)",
   "language": "python",
   "name": "python3"
  },
  "language_info": {
   "codemirror_mode": {
    "name": "ipython",
    "version": 3
   },
   "file_extension": ".py",
   "mimetype": "text/x-python",
   "name": "python",
   "nbconvert_exporter": "python",
   "pygments_lexer": "ipython3",
   "version": "3.8.9"
  },
  "orig_nbformat": 4
 },
 "nbformat": 4,
 "nbformat_minor": 2
}
