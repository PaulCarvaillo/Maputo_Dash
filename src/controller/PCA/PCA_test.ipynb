{
 "cells": [
  {
   "cell_type": "markdown",
   "metadata": {},
   "source": [
    "# PCA PLAYGROUND"
   ]
  },
  {
   "cell_type": "code",
   "execution_count": 7,
   "metadata": {},
   "outputs": [],
   "source": [
    "import pandas as pd\n",
    "df_annot = pd.read_csv('/Users/Paul/Paul/Desktop/My_projects/Bioacoustics/Maputo_Dash/datasets/tables/annot_new.csv')"
   ]
  },
  {
   "cell_type": "code",
   "execution_count": 8,
   "metadata": {},
   "outputs": [],
   "source": [
    "import numpy as np\n",
    "import pandas as pd\n",
    "import plotly_express as px\n",
    "from sklearn.decomposition import PCA\n",
    "from sklearn.preprocessing import StandardScaler\n",
    "from plotly.express.colors import sample_colorscale\n",
    "from sklearn.preprocessing import minmax_scale\n",
    "\n"
   ]
  },
  {
   "cell_type": "code",
   "execution_count": 9,
   "metadata": {},
   "outputs": [],
   "source": [
    "GENERIC_FEATURES = ['min_t', 'max_t', 'min_f', 'max_f',\n",
    "                    'dt', 'df', 'min_y', 'min_x', 'max_y', 'max_x', 'centroid_x', 'duration_x', 'bandwidth_y', 'area_xy', 'centroid_f',\n",
    "                    'centroid_t', 'duration_t', 'bandwidth_f', 'area_tf']\n",
    "\n",
    "SHAPE_FEATURES = ['shp_002', 'shp_003', 'shp_004', 'shp_005', 'shp_006', 'shp_007',\n",
    "                  'shp_008', 'shp_009', 'shp_010', 'shp_011', 'shp_012', 'shp_013',\n",
    "                  'shp_014', 'shp_015', 'shp_016', 'shp_017', 'shp_018', 'shp_019',\n",
    "                  'shp_020', 'shp_021', 'shp_022', 'shp_023', 'shp_024', 'shp_025',\n",
    "                  'shp_026', 'shp_027', 'shp_028', 'shp_029', 'shp_030', 'shp_031',\n",
    "                  'shp_032', 'shp_033', 'shp_034', 'shp_035', 'shp_036', 'shp_037',\n",
    "                  'shp_038', 'shp_039', 'shp_040', 'shp_041', 'shp_042', 'shp_043',\n",
    "                  'shp_044', 'shp_045', 'shp_046', 'shp_047', 'shp_048']\n",
    "\n",
    "\n",
    "SPECTRAL_FEATURES = ['MEANf', 'VARf', 'SKEWf', 'KURTf', 'NBPEAKS', 'LEQf',\n",
    "                     'ENRf', 'BGNf', 'SNRf', 'Hf', 'EAS', 'ECU', 'ECV', 'EPS', 'EPS_KURT', 'EPS_SKEW', 'ACI',\n",
    "                     'NDSI', 'ROU']\n",
    "\n",
    "TEMPORAL_FEATURES = ['ZCR', 'MEANt', 'VARt',\n",
    "                     'SKEWt', 'KURTt', 'BGNt', 'SNRt', 'MED', 'Ht']\n",
    "\n"
   ]
  },
  {
   "cell_type": "code",
   "execution_count": 11,
   "metadata": {},
   "outputs": [
    {
     "data": {
      "text/plain": [
       "0      449420\n",
       "1      449420\n",
       "2      449420\n",
       "3      449420\n",
       "4      449420\n",
       "        ...  \n",
       "949    705357\n",
       "950    705357\n",
       "951    457592\n",
       "952    444840\n",
       "953     59739\n",
       "Name: sound_id, Length: 954, dtype: int64"
      ]
     },
     "execution_count": 11,
     "metadata": {},
     "output_type": "execute_result"
    }
   ],
   "source": [
    "df['sound_id']"
   ]
  },
  {
   "cell_type": "code",
   "execution_count": 4,
   "metadata": {},
   "outputs": [
    {
     "name": "stderr",
     "output_type": "stream",
     "text": [
      "/Users/Paul/Paul/Desktop/My_projects/Bioacoustics/Maputo_Dash/.venv/lib/python3.8/site-packages/plotly/express/_core.py:279: FutureWarning: iteritems is deprecated and will be removed in a future version. Use .items instead.\n",
      "  dims = [\n"
     ]
    }
   ],
   "source": [
    "features_options='basic'\n",
    "dimensions=2\n",
    "color=\"species\"\n",
    "\n",
    "df = df_annot.copy()\n",
    "df = df.reset_index()\n",
    "\n",
    "if features_options == 'basic':\n",
    "    features = GENERIC_FEATURES\n",
    "if features_options == 'shapes':\n",
    "    features = SHAPE_FEATURES+GENERIC_FEATURES\n",
    "if features_options == 'spectral':\n",
    "    features = SPECTRAL_FEATURES+GENERIC_FEATURES\n",
    "if features_options == 'temporal':\n",
    "    features = TEMPORAL_FEATURES+GENERIC_FEATURES\n",
    "if features_options == 'all':\n",
    "    features = GENERIC_FEATURES+SPECTRAL_FEATURES+TEMPORAL_FEATURES+SHAPE_FEATURES\n",
    "\n",
    "df = df.dropna(how='all')\n",
    "X = df.loc[:, features]\n",
    "\n",
    "# normalize data\n",
    "scaler = StandardScaler()\n",
    "scaler.fit(X)\n",
    "X = scaler.transform(X)\n",
    "# compute PCA, explained variance and weights\n",
    "pca = PCA()\n",
    "components = pca.fit_transform(X)\n",
    "total_var = pca.explained_variance_ratio_.sum() * 100\n",
    "\n",
    "indexPC = ['PC - '+str(i) for i in range(dimensions)]\n",
    "df_feature_weights = pd.DataFrame(pca.components_)\n",
    "\n",
    "# figure-----------------------\n",
    "labels = {\n",
    "    str(i): f\"PC {i+1} ({var:.1f}%) -- sound_id = {df.loc[:,'']}\"\n",
    "    for i, var in enumerate(pca.explained_variance_ratio_ * 100)\n",
    "}\n",
    "\n",
    "colors_ = np.linspace(0, 1, len(df[color].unique()))\n",
    "discrete_colors = sample_colorscale('Rainbow', minmax_scale(colors_))\n",
    "\n",
    "fig = px.scatter_matrix(\n",
    "    components,\n",
    "    height=1000,\n",
    "    labels=labels,\n",
    "    dimensions=range(dimensions),\n",
    "    color=df[color],\n",
    "    color_discrete_sequence=discrete_colors,\n",
    "    title=f'Principal component analysis of ROIs ---Total Explained Variance: {total_var:.2f}%',\n",
    ")\n",
    "fig.update_traces(diagonal_visible=False)\n",
    "\n",
    "fig2 = px.bar(df_feature_weights, title='Weights of features for each PC')\n",
    "\n",
    "\n"
   ]
  },
  {
   "cell_type": "code",
   "execution_count": 5,
   "metadata": {},
   "outputs": [
    {
     "data": {
      "text/plain": [
       "{'0': 'PC 1 (32.2%)',\n",
       " '1': 'PC 2 (29.9%)',\n",
       " '2': 'PC 3 (18.3%)',\n",
       " '3': 'PC 4 (10.1%)',\n",
       " '4': 'PC 5 (5.5%)',\n",
       " '5': 'PC 6 (2.2%)',\n",
       " '6': 'PC 7 (1.1%)',\n",
       " '7': 'PC 8 (0.5%)',\n",
       " '8': 'PC 9 (0.2%)',\n",
       " '9': 'PC 10 (0.0%)',\n",
       " '10': 'PC 11 (0.0%)',\n",
       " '11': 'PC 12 (0.0%)',\n",
       " '12': 'PC 13 (0.0%)',\n",
       " '13': 'PC 14 (0.0%)',\n",
       " '14': 'PC 15 (0.0%)',\n",
       " '15': 'PC 16 (0.0%)',\n",
       " '16': 'PC 17 (0.0%)',\n",
       " '17': 'PC 18 (0.0%)',\n",
       " '18': 'PC 19 (0.0%)'}"
      ]
     },
     "execution_count": 5,
     "metadata": {},
     "output_type": "execute_result"
    }
   ],
   "source": [
    "labels"
   ]
  },
  {
   "cell_type": "code",
   "execution_count": null,
   "metadata": {},
   "outputs": [],
   "source": [
    "from sklearn import preprocessing\n",
    "\n",
    "data_scaled = pd.DataFrame(preprocessing.scale(df_annot[features]),columns = df_annot[features].columns) \n",
    "\n",
    "# PCA\n",
    "pca = PCA(n_components=3)\n",
    "pca.fit_transform(data_scaled)\n",
    "\n",
    "# Dump components relations with features:\n",
    "weights = (pd.DataFrame(abs(pca.components_),columns=data_scaled.columns,index = ['PC-1','PC-2','PC-3']))\n"
   ]
  },
  {
   "cell_type": "code",
   "execution_count": null,
   "metadata": {},
   "outputs": [],
   "source": [
    "test = weights.reset_index()"
   ]
  },
  {
   "cell_type": "code",
   "execution_count": null,
   "metadata": {},
   "outputs": [],
   "source": [
    "test"
   ]
  },
  {
   "cell_type": "code",
   "execution_count": null,
   "metadata": {},
   "outputs": [],
   "source": [
    "px.bar(test,x=features, facet_col='index', barmode='group')"
   ]
  },
  {
   "cell_type": "code",
   "execution_count": null,
   "metadata": {},
   "outputs": [],
   "source": [
    "from plotly.subplots import make_subplots\n",
    "import plotly.graph_objects as go\n",
    "\n",
    "fig = make_subplots(cols=1, rows=dimensions,subplot_titles=([f'PC-{i+1}: abs weight of features' for i in range(dimensions)]))\n",
    "\n",
    "for i in range(dimensions):\n",
    "    fig.append_trace(go.Bar(x=features ,y = test[features].loc[i,:],text=features,textposition=\"inside\")\n",
    "    , col=1, row=i+1)\n",
    "    fig.update_layout(barmode='stack', xaxis={'categoryorder':'total descending'})\n",
    "    fig.update_xaxes({'categoryorder':'total descending'})\n",
    "    fig.update_xaxes(visible=False)\n",
    "\n",
    "\n",
    "fig.update_layout(height=800, width=1000, showlegend=False)\n",
    "fig.show()"
   ]
  },
  {
   "cell_type": "code",
   "execution_count": null,
   "metadata": {},
   "outputs": [],
   "source": [
    "for i in range(dimensions):\n",
    "    print(i)"
   ]
  },
  {
   "cell_type": "code",
   "execution_count": null,
   "metadata": {},
   "outputs": [],
   "source": []
  },
  {
   "cell_type": "code",
   "execution_count": null,
   "metadata": {},
   "outputs": [],
   "source": []
  },
  {
   "cell_type": "code",
   "execution_count": null,
   "metadata": {},
   "outputs": [],
   "source": [
    "abs(weights).reset_index().groupby('index').max()"
   ]
  },
  {
   "cell_type": "code",
   "execution_count": null,
   "metadata": {},
   "outputs": [],
   "source": [
    "weights = weights.transpose()"
   ]
  },
  {
   "cell_type": "code",
   "execution_count": null,
   "metadata": {},
   "outputs": [],
   "source": [
    "abs(weights)"
   ]
  },
  {
   "cell_type": "code",
   "execution_count": null,
   "metadata": {},
   "outputs": [],
   "source": [
    "px.bar(weights, barmode='group')"
   ]
  },
  {
   "cell_type": "code",
   "execution_count": null,
   "metadata": {},
   "outputs": [],
   "source": [
    "total_var = pca.explained_variance_ratio_.sum() * 100\n"
   ]
  },
  {
   "cell_type": "code",
   "execution_count": null,
   "metadata": {},
   "outputs": [],
   "source": [
    "total_var"
   ]
  },
  {
   "cell_type": "code",
   "execution_count": null,
   "metadata": {},
   "outputs": [],
   "source": [
    "weights['index']"
   ]
  },
  {
   "cell_type": "code",
   "execution_count": null,
   "metadata": {},
   "outputs": [],
   "source": [
    "weights = weights.reset_index()\n",
    "weights['PC'] = weights['index']"
   ]
  },
  {
   "cell_type": "code",
   "execution_count": null,
   "metadata": {},
   "outputs": [],
   "source": [
    "weights[features] = abs(weights[features])"
   ]
  },
  {
   "cell_type": "code",
   "execution_count": null,
   "metadata": {},
   "outputs": [],
   "source": [
    "fig2 = px.bar(weights, y=features,x=px.Constant('Relative features'), facet_col = 'index', barmode='group',title='Weights of features for each PC')"
   ]
  },
  {
   "cell_type": "code",
   "execution_count": null,
   "metadata": {},
   "outputs": [],
   "source": [
    "fig2.update_yaxes(type='category')\n"
   ]
  },
  {
   "cell_type": "code",
   "execution_count": null,
   "metadata": {},
   "outputs": [],
   "source": [
    "fig2.show()"
   ]
  },
  {
   "cell_type": "code",
   "execution_count": null,
   "metadata": {},
   "outputs": [],
   "source": [
    "weights"
   ]
  },
  {
   "cell_type": "code",
   "execution_count": null,
   "metadata": {},
   "outputs": [],
   "source": [
    "fig3 = px.bar(weights[features].loc[2,:].sort_values())\n",
    "fig3.update_layout(title = 'PC-1')\n"
   ]
  },
  {
   "cell_type": "code",
   "execution_count": null,
   "metadata": {},
   "outputs": [],
   "source": [
    "fig3.show()"
   ]
  },
  {
   "cell_type": "code",
   "execution_count": null,
   "metadata": {},
   "outputs": [],
   "source": []
  }
 ],
 "metadata": {
  "interpreter": {
   "hash": "5f092c625b54717e6fbd4d91ce8d85fe7e6620ef8c41f32022d30ea320c9fdb9"
  },
  "kernelspec": {
   "display_name": "Python 3.8.9 64-bit ('.venv': venv)",
   "language": "python",
   "name": "python3"
  },
  "language_info": {
   "codemirror_mode": {
    "name": "ipython",
    "version": 3
   },
   "file_extension": ".py",
   "mimetype": "text/x-python",
   "name": "python",
   "nbconvert_exporter": "python",
   "pygments_lexer": "ipython3",
   "version": "3.8.9"
  },
  "orig_nbformat": 4
 },
 "nbformat": 4,
 "nbformat_minor": 2
}
