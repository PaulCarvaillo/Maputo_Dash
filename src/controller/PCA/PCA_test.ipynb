{
 "cells": [
  {
   "cell_type": "markdown",
   "metadata": {},
   "source": [
    "# PCA PLAYGROUND"
   ]
  },
  {
   "cell_type": "code",
   "execution_count": 1,
   "metadata": {},
   "outputs": [],
   "source": [
    "import numpy as np\n",
    "import pandas as pd\n",
    "import plotly_express as px\n",
    "from sklearn.decomposition import PCA\n",
    "from sklearn.preprocessing import StandardScaler\n",
    "from plotly.express.colors import sample_colorscale\n",
    "from sklearn.preprocessing import minmax_scale\n",
    "from sklearn import preprocessing\n",
    "from pca import pca\n",
    "\n",
    "\n",
    "df_annot_final = pd.read_csv(\n",
    "    '/Users/Paul/Paul/Desktop/My_projects/Bioacoustics/Maputo_Dash/datasets/tables/annot_new2.csv')"
   ]
  },
  {
   "cell_type": "code",
   "execution_count": 2,
   "metadata": {},
   "outputs": [],
   "source": [
    "df_annot_final['species'] = df_annot_final['species'].replace('spelndens','splendens')"
   ]
  },
  {
   "cell_type": "markdown",
   "metadata": {},
   "source": [
    "# Select PCA features"
   ]
  },
  {
   "cell_type": "code",
   "execution_count": 3,
   "metadata": {},
   "outputs": [],
   "source": [
    "GENERIC_FEATURES = ['min_f', 'max_f', 'centroid_f',\n",
    "                    'duration_t', 'bandwidth_f', 'area_tf']\n",
    "\n",
    "SHAPE_FEATURES = ['shp_002', 'shp_003', 'shp_004', 'shp_005', 'shp_006', 'shp_007',\n",
    "                  'shp_008', 'shp_009', 'shp_010', 'shp_011', 'shp_012', 'shp_013',\n",
    "                  'shp_014', 'shp_015', 'shp_016', 'shp_017', 'shp_018', 'shp_019',\n",
    "                  'shp_020', 'shp_021', 'shp_022', 'shp_023', 'shp_024', 'shp_025',\n",
    "                  'shp_026', 'shp_027', 'shp_028', 'shp_029', 'shp_030', 'shp_031',\n",
    "                  'shp_032', 'shp_033', 'shp_034', 'shp_035', 'shp_036', 'shp_037',\n",
    "                  'shp_038', 'shp_039', 'shp_040', 'shp_041', 'shp_042', 'shp_043',\n",
    "                  'shp_044', 'shp_045', 'shp_046', 'shp_047', 'shp_048']\n",
    "\n",
    "\n",
    "SPECTRAL_FEATURES = ['MEANf', 'VARf', 'SKEWf', 'KURTf', 'NBPEAKS', 'LEQf',\n",
    "                     'ENRf', 'BGNf', 'SNRf', 'Hf', 'EAS', 'ECU', 'ECV', 'EPS', 'EPS_KURT', 'EPS_SKEW', 'ACI',\n",
    "                     'NDSI', 'ROU']\n",
    "\n",
    "TEMPORAL_FEATURES = ['ZCR', 'MEANt', 'VARt',\n",
    "                     'SKEWt', 'KURTt', 'Ht']\n"
   ]
  },
  {
   "cell_type": "markdown",
   "metadata": {},
   "source": [
    "# Compute PCA"
   ]
  },
  {
   "cell_type": "code",
   "execution_count": 4,
   "metadata": {},
   "outputs": [],
   "source": [
    "df = df_annot_final.copy()\n",
    "df = df.reset_index()\n",
    "color = 'biotope'\n",
    "features = GENERIC_FEATURES\n",
    "\n",
    "df = df.dropna(how='all')\n",
    "# Scale Features\n",
    "data_scaled = pd.DataFrame(preprocessing.scale(\n",
    "    df[features]), columns=df[features].columns)\n",
    "# PCA\n",
    "pca = PCA(n_components=3)\n",
    "components = pca.fit_transform(data_scaled)\n",
    "total_var = pca.explained_variance_ratio_.sum() * 100\n",
    "\n",
    "loadings = pca.components_.T * np.sqrt(pca.explained_variance_)\n",
    "\n",
    "# Dump components relations with features:\n",
    "weights = (pd.DataFrame(pca.components_,\n",
    "            columns=data_scaled.columns, index=[f'PC-{i+1}' for i in range(3)]))\n",
    "weights = weights.reset_index()\n",
    "\n",
    "# figures-----------------------\n",
    "labels = {\n",
    "    str(i): f\"PC {i+1} ({var1:.1f}%) - EV = {var2:.1f}\" for i, (var1, var2) in enumerate(zip(pca.explained_variance_ratio_ * 100, pca.explained_variance_))\n",
    "}\n",
    "\n",
    "colors_ = np.linspace(0, 1, len(df[color].unique()))\n",
    "discrete_colors = sample_colorscale('Rainbow', minmax_scale(colors_))"
   ]
  },
  {
   "cell_type": "code",
   "execution_count": 5,
   "metadata": {},
   "outputs": [],
   "source": [
    "ROI_PC_coordinates = pd.DataFrame(components)\n",
    "ROI_PC_coordinates.columns = ['PC1', 'PC2','PC3']\n",
    "ROI_coordinates = pd.concat([df[['species', 'genus', 'family', 'order','biotope', 'sound_id']],ROI_PC_coordinates],axis=1)\n"
   ]
  },
  {
   "cell_type": "markdown",
   "metadata": {},
   "source": [
    "# Compute ellipses and overlap"
   ]
  },
  {
   "cell_type": "code",
   "execution_count": 6,
   "metadata": {},
   "outputs": [
    {
     "data": {
      "text/html": [
       "<div>\n",
       "<style scoped>\n",
       "    .dataframe tbody tr th:only-of-type {\n",
       "        vertical-align: middle;\n",
       "    }\n",
       "\n",
       "    .dataframe tbody tr th {\n",
       "        vertical-align: top;\n",
       "    }\n",
       "\n",
       "    .dataframe thead th {\n",
       "        text-align: right;\n",
       "    }\n",
       "</style>\n",
       "<table border=\"1\" class=\"dataframe\">\n",
       "  <thead>\n",
       "    <tr style=\"text-align: right;\">\n",
       "      <th></th>\n",
       "      <th>species</th>\n",
       "      <th>genus</th>\n",
       "      <th>family</th>\n",
       "      <th>order</th>\n",
       "      <th>biotope</th>\n",
       "      <th>sound_id</th>\n",
       "      <th>PC1</th>\n",
       "      <th>PC2</th>\n",
       "      <th>PC3</th>\n",
       "    </tr>\n",
       "  </thead>\n",
       "  <tbody>\n",
       "    <tr>\n",
       "      <th>0</th>\n",
       "      <td>africanoides</td>\n",
       "      <td>Calendulauda</td>\n",
       "      <td>Alaudidae</td>\n",
       "      <td>Passeriformes</td>\n",
       "      <td>Grasslands</td>\n",
       "      <td>449420</td>\n",
       "      <td>2.801196</td>\n",
       "      <td>1.412692</td>\n",
       "      <td>-0.897027</td>\n",
       "    </tr>\n",
       "    <tr>\n",
       "      <th>1</th>\n",
       "      <td>africanoides</td>\n",
       "      <td>Calendulauda</td>\n",
       "      <td>Alaudidae</td>\n",
       "      <td>Passeriformes</td>\n",
       "      <td>Grasslands</td>\n",
       "      <td>449420</td>\n",
       "      <td>3.214773</td>\n",
       "      <td>2.153596</td>\n",
       "      <td>-0.401168</td>\n",
       "    </tr>\n",
       "  </tbody>\n",
       "</table>\n",
       "</div>"
      ],
      "text/plain": [
       "        species         genus     family          order     biotope  sound_id  \\\n",
       "0  africanoides  Calendulauda  Alaudidae  Passeriformes  Grasslands    449420   \n",
       "1  africanoides  Calendulauda  Alaudidae  Passeriformes  Grasslands    449420   \n",
       "\n",
       "        PC1       PC2       PC3  \n",
       "0  2.801196  1.412692 -0.897027  \n",
       "1  3.214773  2.153596 -0.401168  "
      ]
     },
     "execution_count": 6,
     "metadata": {},
     "output_type": "execute_result"
    }
   ],
   "source": [
    "ROI_coordinates.head(2)"
   ]
  },
  {
   "cell_type": "code",
   "execution_count": 13,
   "metadata": {},
   "outputs": [
    {
     "data": {
      "text/html": [
       "<div>\n",
       "<style scoped>\n",
       "    .dataframe tbody tr th:only-of-type {\n",
       "        vertical-align: middle;\n",
       "    }\n",
       "\n",
       "    .dataframe tbody tr th {\n",
       "        vertical-align: top;\n",
       "    }\n",
       "\n",
       "    .dataframe thead th {\n",
       "        text-align: right;\n",
       "    }\n",
       "</style>\n",
       "<table border=\"1\" class=\"dataframe\">\n",
       "  <thead>\n",
       "    <tr style=\"text-align: right;\">\n",
       "      <th></th>\n",
       "      <th>PC1</th>\n",
       "      <th>PC2</th>\n",
       "    </tr>\n",
       "  </thead>\n",
       "  <tbody>\n",
       "    <tr>\n",
       "      <th>0</th>\n",
       "      <td>2.801196</td>\n",
       "      <td>1.412692</td>\n",
       "    </tr>\n",
       "    <tr>\n",
       "      <th>1</th>\n",
       "      <td>3.214773</td>\n",
       "      <td>2.153596</td>\n",
       "    </tr>\n",
       "    <tr>\n",
       "      <th>2</th>\n",
       "      <td>1.271617</td>\n",
       "      <td>1.391316</td>\n",
       "    </tr>\n",
       "    <tr>\n",
       "      <th>3</th>\n",
       "      <td>3.760102</td>\n",
       "      <td>2.606550</td>\n",
       "    </tr>\n",
       "    <tr>\n",
       "      <th>4</th>\n",
       "      <td>3.713450</td>\n",
       "      <td>3.906413</td>\n",
       "    </tr>\n",
       "    <tr>\n",
       "      <th>...</th>\n",
       "      <td>...</td>\n",
       "      <td>...</td>\n",
       "    </tr>\n",
       "    <tr>\n",
       "      <th>3366</th>\n",
       "      <td>-1.143976</td>\n",
       "      <td>0.161063</td>\n",
       "    </tr>\n",
       "    <tr>\n",
       "      <th>3367</th>\n",
       "      <td>-1.548343</td>\n",
       "      <td>0.120652</td>\n",
       "    </tr>\n",
       "    <tr>\n",
       "      <th>3368</th>\n",
       "      <td>-1.249593</td>\n",
       "      <td>0.446849</td>\n",
       "    </tr>\n",
       "    <tr>\n",
       "      <th>3369</th>\n",
       "      <td>-1.337027</td>\n",
       "      <td>0.623907</td>\n",
       "    </tr>\n",
       "    <tr>\n",
       "      <th>3370</th>\n",
       "      <td>-1.244953</td>\n",
       "      <td>0.695778</td>\n",
       "    </tr>\n",
       "  </tbody>\n",
       "</table>\n",
       "<p>151 rows × 2 columns</p>\n",
       "</div>"
      ],
      "text/plain": [
       "           PC1       PC2\n",
       "0     2.801196  1.412692\n",
       "1     3.214773  2.153596\n",
       "2     1.271617  1.391316\n",
       "3     3.760102  2.606550\n",
       "4     3.713450  3.906413\n",
       "...        ...       ...\n",
       "3366 -1.143976  0.161063\n",
       "3367 -1.548343  0.120652\n",
       "3368 -1.249593  0.446849\n",
       "3369 -1.337027  0.623907\n",
       "3370 -1.244953  0.695778\n",
       "\n",
       "[151 rows x 2 columns]"
      ]
     },
     "execution_count": 13,
     "metadata": {},
     "output_type": "execute_result"
    }
   ],
   "source": [
    "ROI_coordinates[ROI_coordinates['biotope']=='Grasslands'].loc[:,['PC1','PC2']]"
   ]
  },
  {
   "cell_type": "code",
   "execution_count": 30,
   "metadata": {},
   "outputs": [
    {
     "data": {
      "text/html": [
       "<div>\n",
       "<style scoped>\n",
       "    .dataframe tbody tr th:only-of-type {\n",
       "        vertical-align: middle;\n",
       "    }\n",
       "\n",
       "    .dataframe tbody tr th {\n",
       "        vertical-align: top;\n",
       "    }\n",
       "\n",
       "    .dataframe thead th {\n",
       "        text-align: right;\n",
       "    }\n",
       "</style>\n",
       "<table border=\"1\" class=\"dataframe\">\n",
       "  <thead>\n",
       "    <tr style=\"text-align: right;\">\n",
       "      <th></th>\n",
       "      <th>PC1</th>\n",
       "      <th>PC2</th>\n",
       "    </tr>\n",
       "  </thead>\n",
       "  <tbody>\n",
       "    <tr>\n",
       "      <th>0</th>\n",
       "      <td>2.801196</td>\n",
       "      <td>1.412692</td>\n",
       "    </tr>\n",
       "    <tr>\n",
       "      <th>1</th>\n",
       "      <td>3.214773</td>\n",
       "      <td>2.153596</td>\n",
       "    </tr>\n",
       "    <tr>\n",
       "      <th>2</th>\n",
       "      <td>1.271617</td>\n",
       "      <td>1.391316</td>\n",
       "    </tr>\n",
       "    <tr>\n",
       "      <th>3</th>\n",
       "      <td>3.760102</td>\n",
       "      <td>2.606550</td>\n",
       "    </tr>\n",
       "    <tr>\n",
       "      <th>4</th>\n",
       "      <td>3.713450</td>\n",
       "      <td>3.906413</td>\n",
       "    </tr>\n",
       "    <tr>\n",
       "      <th>...</th>\n",
       "      <td>...</td>\n",
       "      <td>...</td>\n",
       "    </tr>\n",
       "    <tr>\n",
       "      <th>3366</th>\n",
       "      <td>-1.143976</td>\n",
       "      <td>0.161063</td>\n",
       "    </tr>\n",
       "    <tr>\n",
       "      <th>3367</th>\n",
       "      <td>-1.548343</td>\n",
       "      <td>0.120652</td>\n",
       "    </tr>\n",
       "    <tr>\n",
       "      <th>3368</th>\n",
       "      <td>-1.249593</td>\n",
       "      <td>0.446849</td>\n",
       "    </tr>\n",
       "    <tr>\n",
       "      <th>3369</th>\n",
       "      <td>-1.337027</td>\n",
       "      <td>0.623907</td>\n",
       "    </tr>\n",
       "    <tr>\n",
       "      <th>3370</th>\n",
       "      <td>-1.244953</td>\n",
       "      <td>0.695778</td>\n",
       "    </tr>\n",
       "  </tbody>\n",
       "</table>\n",
       "<p>151 rows × 2 columns</p>\n",
       "</div>"
      ],
      "text/plain": [
       "           PC1       PC2\n",
       "0     2.801196  1.412692\n",
       "1     3.214773  2.153596\n",
       "2     1.271617  1.391316\n",
       "3     3.760102  2.606550\n",
       "4     3.713450  3.906413\n",
       "...        ...       ...\n",
       "3366 -1.143976  0.161063\n",
       "3367 -1.548343  0.120652\n",
       "3368 -1.249593  0.446849\n",
       "3369 -1.337027  0.623907\n",
       "3370 -1.244953  0.695778\n",
       "\n",
       "[151 rows x 2 columns]"
      ]
     },
     "execution_count": 30,
     "metadata": {},
     "output_type": "execute_result"
    }
   ],
   "source": [
    "group1"
   ]
  },
  {
   "cell_type": "code",
   "execution_count": 24,
   "metadata": {},
   "outputs": [
    {
     "data": {
      "text/html": [
       "<div>\n",
       "<style scoped>\n",
       "    .dataframe tbody tr th:only-of-type {\n",
       "        vertical-align: middle;\n",
       "    }\n",
       "\n",
       "    .dataframe tbody tr th {\n",
       "        vertical-align: top;\n",
       "    }\n",
       "\n",
       "    .dataframe thead th {\n",
       "        text-align: right;\n",
       "    }\n",
       "</style>\n",
       "<table border=\"1\" class=\"dataframe\">\n",
       "  <thead>\n",
       "    <tr style=\"text-align: right;\">\n",
       "      <th></th>\n",
       "      <th>0</th>\n",
       "      <th>1</th>\n",
       "    </tr>\n",
       "  </thead>\n",
       "  <tbody>\n",
       "    <tr>\n",
       "      <th>0</th>\n",
       "      <td>2</td>\n",
       "      <td>1</td>\n",
       "    </tr>\n",
       "    <tr>\n",
       "      <th>1</th>\n",
       "      <td>3</td>\n",
       "      <td>2</td>\n",
       "    </tr>\n",
       "    <tr>\n",
       "      <th>2</th>\n",
       "      <td>4</td>\n",
       "      <td>1</td>\n",
       "    </tr>\n",
       "    <tr>\n",
       "      <th>3</th>\n",
       "      <td>5</td>\n",
       "      <td>2</td>\n",
       "    </tr>\n",
       "    <tr>\n",
       "      <th>4</th>\n",
       "      <td>6</td>\n",
       "      <td>1</td>\n",
       "    </tr>\n",
       "  </tbody>\n",
       "</table>\n",
       "</div>"
      ],
      "text/plain": [
       "   0  1\n",
       "0  2  1\n",
       "1  3  2\n",
       "2  4  1\n",
       "3  5  2\n",
       "4  6  1"
      ]
     },
     "execution_count": 24,
     "metadata": {},
     "output_type": "execute_result"
    }
   ],
   "source": [
    "pd.DataFrame(group2)"
   ]
  },
  {
   "cell_type": "code",
   "execution_count": 29,
   "metadata": {},
   "outputs": [
    {
     "data": {
      "text/plain": [
       "[2, 3, 4, 5, 6]"
      ]
     },
     "execution_count": 29,
     "metadata": {},
     "output_type": "execute_result"
    }
   ],
   "source": [
    "[x[0] for x in group2]"
   ]
  },
  {
   "cell_type": "code",
   "execution_count": 40,
   "metadata": {},
   "outputs": [
    {
     "ename": "AttributeError",
     "evalue": "module 'plotly.express' has no attribute 'scatter_ellipse'",
     "output_type": "error",
     "traceback": [
      "\u001b[0;31m---------------------------------------------------------------------------\u001b[0m",
      "\u001b[0;31mAttributeError\u001b[0m                            Traceback (most recent call last)",
      "Cell \u001b[0;32mIn [40], line 14\u001b[0m\n\u001b[1;32m     11\u001b[0m \u001b[38;5;66;03m# Add ellipses around the points in each group\u001b[39;00m\n\u001b[1;32m     12\u001b[0m \u001b[38;5;28;01mfor\u001b[39;00m i \u001b[38;5;129;01min\u001b[39;00m \u001b[38;5;28mrange\u001b[39m(\u001b[38;5;241m1\u001b[39m, \u001b[38;5;241m3\u001b[39m):\n\u001b[1;32m     13\u001b[0m     \u001b[38;5;66;03m# group = data[data['group'] == i]\u001b[39;00m\n\u001b[0;32m---> 14\u001b[0m     ellipse \u001b[38;5;241m=\u001b[39m \u001b[43mpx\u001b[49m\u001b[38;5;241;43m.\u001b[39;49m\u001b[43mscatter_ellipse\u001b[49m(group, \u001b[38;5;124m'\u001b[39m\u001b[38;5;124mx\u001b[39m\u001b[38;5;124m'\u001b[39m, \u001b[38;5;124m'\u001b[39m\u001b[38;5;124my\u001b[39m\u001b[38;5;124m'\u001b[39m)\n\u001b[1;32m     15\u001b[0m     fig\u001b[38;5;241m.\u001b[39madd_trace(ellipse)\n\u001b[1;32m     17\u001b[0m fig\u001b[38;5;241m.\u001b[39mshow()\n",
      "\u001b[0;31mAttributeError\u001b[0m: module 'plotly.express' has no attribute 'scatter_ellipse'"
     ]
    }
   ],
   "source": [
    "import plotly.express as px\n",
    "\n",
    "# Create some data\n",
    "data = {'x': [1, 2, 3, 4, 5, 6, 7, 8, 9],\n",
    "        'y': [1, 2, 3, 4, 5, 6, 7, 8, 9],\n",
    "        'group': [1, 1, 1, 2, 2, 2, 3, 3, 3]}\n",
    "\n",
    "# Use plotly express to create the plot\n",
    "fig = px.scatter(data, x='x', y='y', color='group')\n",
    "\n",
    "# Add ellipses around the points in each group\n",
    "for i in range(1, 3):\n",
    "    # group = data[data['group'] == i]\n",
    "    ellipse = px.scatter_ellipse(group, 'x', 'y')\n",
    "    fig.add_trace(ellipse)\n",
    "\n",
    "fig.show()"
   ]
  },
  {
   "cell_type": "code",
   "execution_count": 34,
   "metadata": {},
   "outputs": [
    {
     "ename": "ValueError",
     "evalue": "x and y must be the same size",
     "output_type": "error",
     "traceback": [
      "\u001b[0;31m---------------------------------------------------------------------------\u001b[0m",
      "\u001b[0;31mValueError\u001b[0m                                Traceback (most recent call last)",
      "Cell \u001b[0;32mIn [34], line 23\u001b[0m\n\u001b[1;32m     18\u001b[0m group1_ellipse \u001b[38;5;241m=\u001b[39m Ellipse(group1_mean, group1_cov[\u001b[38;5;241m0\u001b[39m, \u001b[38;5;241m0\u001b[39m], group1_cov[\u001b[38;5;241m1\u001b[39m, \u001b[38;5;241m1\u001b[39m], facecolor\u001b[38;5;241m=\u001b[39m\u001b[38;5;124m'\u001b[39m\u001b[38;5;124mr\u001b[39m\u001b[38;5;124m'\u001b[39m, alpha\u001b[38;5;241m=\u001b[39m\u001b[38;5;241m0.1\u001b[39m)\n\u001b[1;32m     19\u001b[0m \u001b[38;5;66;03m# group2_ellipse = Ellipse(group2_mean, group2_cov[0, 0], group2_cov[1, 1], facecolor='g', alpha=0.1)\u001b[39;00m\n\u001b[1;32m     20\u001b[0m \u001b[38;5;66;03m# group3_ellipse = Ellipse(group3_mean, group3_cov[0, 0], group3_cov[1, 1], facecolor='b', alpha=0.1)\u001b[39;00m\n\u001b[1;32m     21\u001b[0m \n\u001b[1;32m     22\u001b[0m \u001b[38;5;66;03m# Create the scatter plot and add the ellipses\u001b[39;00m\n\u001b[0;32m---> 23\u001b[0m \u001b[43mplt\u001b[49m\u001b[38;5;241;43m.\u001b[39;49m\u001b[43mscatter\u001b[49m\u001b[43m(\u001b[49m\u001b[43mgroup1\u001b[49m\u001b[43m,\u001b[49m\u001b[43my\u001b[49m\u001b[38;5;241;43m=\u001b[39;49m\u001b[38;5;124;43m'\u001b[39;49m\u001b[38;5;124;43mPC2\u001b[39;49m\u001b[38;5;124;43m'\u001b[39;49m\u001b[43m)\u001b[49m\n\u001b[1;32m     24\u001b[0m ax \u001b[38;5;241m=\u001b[39m plt\u001b[38;5;241m.\u001b[39mgca()\n\u001b[1;32m     25\u001b[0m ax\u001b[38;5;241m.\u001b[39madd_patch(group1_ellipse)\n",
      "File \u001b[0;32m~/Desktop/My_projects/Bioacoustics/Maputo_Dash/venv/lib/python3.10/site-packages/matplotlib/pyplot.py:2790\u001b[0m, in \u001b[0;36mscatter\u001b[0;34m(x, y, s, c, marker, cmap, norm, vmin, vmax, alpha, linewidths, edgecolors, plotnonfinite, data, **kwargs)\u001b[0m\n\u001b[1;32m   2785\u001b[0m \u001b[38;5;129m@_copy_docstring_and_deprecators\u001b[39m(Axes\u001b[38;5;241m.\u001b[39mscatter)\n\u001b[1;32m   2786\u001b[0m \u001b[38;5;28;01mdef\u001b[39;00m \u001b[38;5;21mscatter\u001b[39m(\n\u001b[1;32m   2787\u001b[0m         x, y, s\u001b[38;5;241m=\u001b[39m\u001b[38;5;28;01mNone\u001b[39;00m, c\u001b[38;5;241m=\u001b[39m\u001b[38;5;28;01mNone\u001b[39;00m, marker\u001b[38;5;241m=\u001b[39m\u001b[38;5;28;01mNone\u001b[39;00m, cmap\u001b[38;5;241m=\u001b[39m\u001b[38;5;28;01mNone\u001b[39;00m, norm\u001b[38;5;241m=\u001b[39m\u001b[38;5;28;01mNone\u001b[39;00m,\n\u001b[1;32m   2788\u001b[0m         vmin\u001b[38;5;241m=\u001b[39m\u001b[38;5;28;01mNone\u001b[39;00m, vmax\u001b[38;5;241m=\u001b[39m\u001b[38;5;28;01mNone\u001b[39;00m, alpha\u001b[38;5;241m=\u001b[39m\u001b[38;5;28;01mNone\u001b[39;00m, linewidths\u001b[38;5;241m=\u001b[39m\u001b[38;5;28;01mNone\u001b[39;00m, \u001b[38;5;241m*\u001b[39m,\n\u001b[1;32m   2789\u001b[0m         edgecolors\u001b[38;5;241m=\u001b[39m\u001b[38;5;28;01mNone\u001b[39;00m, plotnonfinite\u001b[38;5;241m=\u001b[39m\u001b[38;5;28;01mFalse\u001b[39;00m, data\u001b[38;5;241m=\u001b[39m\u001b[38;5;28;01mNone\u001b[39;00m, \u001b[38;5;241m*\u001b[39m\u001b[38;5;241m*\u001b[39mkwargs):\n\u001b[0;32m-> 2790\u001b[0m     __ret \u001b[38;5;241m=\u001b[39m \u001b[43mgca\u001b[49m\u001b[43m(\u001b[49m\u001b[43m)\u001b[49m\u001b[38;5;241;43m.\u001b[39;49m\u001b[43mscatter\u001b[49m\u001b[43m(\u001b[49m\n\u001b[1;32m   2791\u001b[0m \u001b[43m        \u001b[49m\u001b[43mx\u001b[49m\u001b[43m,\u001b[49m\u001b[43m \u001b[49m\u001b[43my\u001b[49m\u001b[43m,\u001b[49m\u001b[43m \u001b[49m\u001b[43ms\u001b[49m\u001b[38;5;241;43m=\u001b[39;49m\u001b[43ms\u001b[49m\u001b[43m,\u001b[49m\u001b[43m \u001b[49m\u001b[43mc\u001b[49m\u001b[38;5;241;43m=\u001b[39;49m\u001b[43mc\u001b[49m\u001b[43m,\u001b[49m\u001b[43m \u001b[49m\u001b[43mmarker\u001b[49m\u001b[38;5;241;43m=\u001b[39;49m\u001b[43mmarker\u001b[49m\u001b[43m,\u001b[49m\u001b[43m \u001b[49m\u001b[43mcmap\u001b[49m\u001b[38;5;241;43m=\u001b[39;49m\u001b[43mcmap\u001b[49m\u001b[43m,\u001b[49m\u001b[43m \u001b[49m\u001b[43mnorm\u001b[49m\u001b[38;5;241;43m=\u001b[39;49m\u001b[43mnorm\u001b[49m\u001b[43m,\u001b[49m\n\u001b[1;32m   2792\u001b[0m \u001b[43m        \u001b[49m\u001b[43mvmin\u001b[49m\u001b[38;5;241;43m=\u001b[39;49m\u001b[43mvmin\u001b[49m\u001b[43m,\u001b[49m\u001b[43m \u001b[49m\u001b[43mvmax\u001b[49m\u001b[38;5;241;43m=\u001b[39;49m\u001b[43mvmax\u001b[49m\u001b[43m,\u001b[49m\u001b[43m \u001b[49m\u001b[43malpha\u001b[49m\u001b[38;5;241;43m=\u001b[39;49m\u001b[43malpha\u001b[49m\u001b[43m,\u001b[49m\u001b[43m \u001b[49m\u001b[43mlinewidths\u001b[49m\u001b[38;5;241;43m=\u001b[39;49m\u001b[43mlinewidths\u001b[49m\u001b[43m,\u001b[49m\n\u001b[1;32m   2793\u001b[0m \u001b[43m        \u001b[49m\u001b[43medgecolors\u001b[49m\u001b[38;5;241;43m=\u001b[39;49m\u001b[43medgecolors\u001b[49m\u001b[43m,\u001b[49m\u001b[43m \u001b[49m\u001b[43mplotnonfinite\u001b[49m\u001b[38;5;241;43m=\u001b[39;49m\u001b[43mplotnonfinite\u001b[49m\u001b[43m,\u001b[49m\n\u001b[1;32m   2794\u001b[0m \u001b[43m        \u001b[49m\u001b[38;5;241;43m*\u001b[39;49m\u001b[38;5;241;43m*\u001b[39;49m\u001b[43m(\u001b[49m\u001b[43m{\u001b[49m\u001b[38;5;124;43m\"\u001b[39;49m\u001b[38;5;124;43mdata\u001b[39;49m\u001b[38;5;124;43m\"\u001b[39;49m\u001b[43m:\u001b[49m\u001b[43m \u001b[49m\u001b[43mdata\u001b[49m\u001b[43m}\u001b[49m\u001b[43m \u001b[49m\u001b[38;5;28;43;01mif\u001b[39;49;00m\u001b[43m \u001b[49m\u001b[43mdata\u001b[49m\u001b[43m \u001b[49m\u001b[38;5;129;43;01mis\u001b[39;49;00m\u001b[43m \u001b[49m\u001b[38;5;129;43;01mnot\u001b[39;49;00m\u001b[43m \u001b[49m\u001b[38;5;28;43;01mNone\u001b[39;49;00m\u001b[43m \u001b[49m\u001b[38;5;28;43;01melse\u001b[39;49;00m\u001b[43m \u001b[49m\u001b[43m{\u001b[49m\u001b[43m}\u001b[49m\u001b[43m)\u001b[49m\u001b[43m,\u001b[49m\u001b[43m \u001b[49m\u001b[38;5;241;43m*\u001b[39;49m\u001b[38;5;241;43m*\u001b[39;49m\u001b[43mkwargs\u001b[49m\u001b[43m)\u001b[49m\n\u001b[1;32m   2795\u001b[0m     sci(__ret)\n\u001b[1;32m   2796\u001b[0m     \u001b[38;5;28;01mreturn\u001b[39;00m __ret\n",
      "File \u001b[0;32m~/Desktop/My_projects/Bioacoustics/Maputo_Dash/venv/lib/python3.10/site-packages/matplotlib/__init__.py:1423\u001b[0m, in \u001b[0;36m_preprocess_data.<locals>.inner\u001b[0;34m(ax, data, *args, **kwargs)\u001b[0m\n\u001b[1;32m   1420\u001b[0m \u001b[38;5;129m@functools\u001b[39m\u001b[38;5;241m.\u001b[39mwraps(func)\n\u001b[1;32m   1421\u001b[0m \u001b[38;5;28;01mdef\u001b[39;00m \u001b[38;5;21minner\u001b[39m(ax, \u001b[38;5;241m*\u001b[39margs, data\u001b[38;5;241m=\u001b[39m\u001b[38;5;28;01mNone\u001b[39;00m, \u001b[38;5;241m*\u001b[39m\u001b[38;5;241m*\u001b[39mkwargs):\n\u001b[1;32m   1422\u001b[0m     \u001b[38;5;28;01mif\u001b[39;00m data \u001b[38;5;129;01mis\u001b[39;00m \u001b[38;5;28;01mNone\u001b[39;00m:\n\u001b[0;32m-> 1423\u001b[0m         \u001b[38;5;28;01mreturn\u001b[39;00m \u001b[43mfunc\u001b[49m\u001b[43m(\u001b[49m\u001b[43max\u001b[49m\u001b[43m,\u001b[49m\u001b[43m \u001b[49m\u001b[38;5;241;43m*\u001b[39;49m\u001b[38;5;28;43mmap\u001b[39;49m\u001b[43m(\u001b[49m\u001b[43msanitize_sequence\u001b[49m\u001b[43m,\u001b[49m\u001b[43m \u001b[49m\u001b[43margs\u001b[49m\u001b[43m)\u001b[49m\u001b[43m,\u001b[49m\u001b[43m \u001b[49m\u001b[38;5;241;43m*\u001b[39;49m\u001b[38;5;241;43m*\u001b[39;49m\u001b[43mkwargs\u001b[49m\u001b[43m)\u001b[49m\n\u001b[1;32m   1425\u001b[0m     bound \u001b[38;5;241m=\u001b[39m new_sig\u001b[38;5;241m.\u001b[39mbind(ax, \u001b[38;5;241m*\u001b[39margs, \u001b[38;5;241m*\u001b[39m\u001b[38;5;241m*\u001b[39mkwargs)\n\u001b[1;32m   1426\u001b[0m     auto_label \u001b[38;5;241m=\u001b[39m (bound\u001b[38;5;241m.\u001b[39marguments\u001b[38;5;241m.\u001b[39mget(label_namer)\n\u001b[1;32m   1427\u001b[0m                   \u001b[38;5;129;01mor\u001b[39;00m bound\u001b[38;5;241m.\u001b[39mkwargs\u001b[38;5;241m.\u001b[39mget(label_namer))\n",
      "File \u001b[0;32m~/Desktop/My_projects/Bioacoustics/Maputo_Dash/venv/lib/python3.10/site-packages/matplotlib/axes/_axes.py:4520\u001b[0m, in \u001b[0;36mAxes.scatter\u001b[0;34m(self, x, y, s, c, marker, cmap, norm, vmin, vmax, alpha, linewidths, edgecolors, plotnonfinite, **kwargs)\u001b[0m\n\u001b[1;32m   4518\u001b[0m y \u001b[38;5;241m=\u001b[39m np\u001b[38;5;241m.\u001b[39mma\u001b[38;5;241m.\u001b[39mravel(y)\n\u001b[1;32m   4519\u001b[0m \u001b[38;5;28;01mif\u001b[39;00m x\u001b[38;5;241m.\u001b[39msize \u001b[38;5;241m!=\u001b[39m y\u001b[38;5;241m.\u001b[39msize:\n\u001b[0;32m-> 4520\u001b[0m     \u001b[38;5;28;01mraise\u001b[39;00m \u001b[38;5;167;01mValueError\u001b[39;00m(\u001b[38;5;124m\"\u001b[39m\u001b[38;5;124mx and y must be the same size\u001b[39m\u001b[38;5;124m\"\u001b[39m)\n\u001b[1;32m   4522\u001b[0m \u001b[38;5;28;01mif\u001b[39;00m s \u001b[38;5;129;01mis\u001b[39;00m \u001b[38;5;28;01mNone\u001b[39;00m:\n\u001b[1;32m   4523\u001b[0m     s \u001b[38;5;241m=\u001b[39m (\u001b[38;5;241m20\u001b[39m \u001b[38;5;28;01mif\u001b[39;00m mpl\u001b[38;5;241m.\u001b[39mrcParams[\u001b[38;5;124m'\u001b[39m\u001b[38;5;124m_internal.classic_mode\u001b[39m\u001b[38;5;124m'\u001b[39m] \u001b[38;5;28;01melse\u001b[39;00m\n\u001b[1;32m   4524\u001b[0m          mpl\u001b[38;5;241m.\u001b[39mrcParams[\u001b[38;5;124m'\u001b[39m\u001b[38;5;124mlines.markersize\u001b[39m\u001b[38;5;124m'\u001b[39m] \u001b[38;5;241m*\u001b[39m\u001b[38;5;241m*\u001b[39m \u001b[38;5;241m2.0\u001b[39m)\n",
      "\u001b[0;31mValueError\u001b[0m: x and y must be the same size"
     ]
    },
    {
     "data": {
      "image/png": "[encoded data removed]",
      "text/plain": [
       "<Figure size 640x480 with 1 Axes>"
      ]
     },
     "metadata": {},
     "output_type": "display_data"
    }
   ],
   "source": [
    "import matplotlib.pyplot as plt\n",
    "from matplotlib.patches import Ellipse\n",
    "\n",
    "# Define the coordinates of the points in each group\n",
    "group1 = ROI_coordinates[ROI_coordinates['biotope']=='Grasslands'][['PC1','PC2']]\n",
    "# group2 = [(2, 1), (3, 2), (4, 1), (5, 2), (6, 1)]\n",
    "# group3 = [(3, 2), (4, 3), (5, 2), (6, 3), (7, 2)\n",
    "\n",
    "# Calculate the mean and covariance of the points in each group\n",
    "group1_mean = (group1.PC1.mean(), group1.PC2.mean())\n",
    "group1_cov = np.cov(group1)\n",
    "# group2_mean = (sum(x[0] for x in group2) / len(group2), sum(x[1] for x in group2) / len(group2))\n",
    "# group2_cov = np.cov(group2)\n",
    "# group3_mean = (sum(x[0] for x in group3) / len(group3), sum(x[1] for x in group3) / len(group3))\n",
    "# group3_cov = np.cov(group3)\n",
    "\n",
    "# Create the ellipses\n",
    "group1_ellipse = Ellipse(group1_mean, group1_cov[0, 0], group1_cov[1, 1], facecolor='r', alpha=0.1)\n",
    "# group2_ellipse = Ellipse(group2_mean, group2_cov[0, 0], group2_cov[1, 1], facecolor='g', alpha=0.1)\n",
    "# group3_ellipse = Ellipse(group3_mean, group3_cov[0, 0], group3_cov[1, 1], facecolor='b', alpha=0.1)\n",
    "\n",
    "# Create the scatter plot and add the ellipses\n",
    "plt.scatter(group1,y='PC2')\n",
    "ax = plt.gca()\n",
    "ax.add_patch(group1_ellipse)\n",
    "# ax.add_patch(group2_ellipse)\n",
    "# ax.add_patch(group3_ellipse)\n",
    "\n",
    "# Compute the area overlap between the ellipses\n",
    "group1_area = np.pi * group1_cov[0, 0] * group1_cov[1, 1]\n",
    "# group2_area = np.pi * group2_cov[0, 0] * group2_cov[1, 1]\n",
    "# group3_area = np.pi * group3_cov[0, 0] * group3_cov[1, 1]\n",
    "# overlap12 = group1_ellipse.intersection(group2_ellipse).area\n",
    "# overlap13 = group1_ellipse.intersection(group3_ellipse).area\n",
    "# overlap23 = group2_ellipse.intersection(group3_ellipse).area"
   ]
  },
  {
   "cell_type": "markdown",
   "metadata": {},
   "source": [
    "# Get barycenters of various groups"
   ]
  },
  {
   "cell_type": "code",
   "execution_count": null,
   "metadata": {},
   "outputs": [],
   "source": [
    "ROI_coordinates[ROI_coordinates.genus == 'Corvus']"
   ]
  },
  {
   "cell_type": "markdown",
   "metadata": {},
   "source": [
    "## Get barycenter for Biotopes, and then for species and families inside of that biotope"
   ]
  },
  {
   "cell_type": "code",
   "execution_count": null,
   "metadata": {},
   "outputs": [],
   "source": [
    "df_biotope_barycenter = pd.DataFrame()\n",
    "barycenters_biotope_family = pd.DataFrame()\n",
    "barycenters_biotope_species = pd.DataFrame()\n",
    "results=pd.DataFrame()\n",
    "results2=pd.DataFrame()\n",
    "i=0\n",
    "j=0\n",
    "\n",
    "for b in ROI_coordinates['biotope'].unique():\n",
    "    dff = ROI_coordinates[ROI_coordinates['biotope']==b]\n",
    "    df_biotope_barycenter.loc[i,'biotope'] = str(b)\n",
    "    df_biotope_barycenter.loc[i,'PC1_barycenter']=dff['PC1'].sum()/dff['PC1'].count()\n",
    "    df_biotope_barycenter.loc[i,'PC2_barycenter']=dff['PC2'].mean()\n",
    "    df_biotope_barycenter.loc[i,'PC3_barycenter']=dff['PC3'].mean()\n",
    "    i+=1\n",
    "    for f in dff['family'].unique():\n",
    "        dff2 = dff[dff['family']==f]\n",
    "        \n",
    "        results.loc[j,'biotope']=str(b)\n",
    "        results.loc[j,'family']=str(f)\n",
    "        results.loc[j,'PC1_barycenter']=dff2['PC1'].mean()\n",
    "        results.loc[j,'PC2_barycenter']=dff2['PC2'].mean()\n",
    "        results.loc[j,'PC3_barycenter']=dff2['PC3'].mean()\n",
    "        j+=1\n",
    "    barycenters_biotope_family = pd.concat([barycenters_biotope_family,results], axis=0).drop_duplicates()\n",
    "    \n",
    "    for s in dff['species'].unique():\n",
    "        dff3 = dff[dff['species']==s]\n",
    "        \n",
    "        results2.loc[j,'biotope']=str(b)\n",
    "        results2.loc[j,'species']=str(s)\n",
    "        results2.loc[j,'PC1_barycenter']=dff3['PC1'].mean()\n",
    "        results2.loc[j,'PC2_barycenter']=dff3['PC2'].mean()\n",
    "        results2.loc[j,'PC3_barycenter']=dff3['PC3'].mean()\n",
    "        j+=1\n",
    "    barycenters_biotope_species = pd.concat([barycenters_biotope_species,results2], axis=0).drop_duplicates()\n"
   ]
  },
  {
   "cell_type": "code",
   "execution_count": null,
   "metadata": {},
   "outputs": [],
   "source": [
    "df_biotope_barycenter"
   ]
  },
  {
   "cell_type": "code",
   "execution_count": null,
   "metadata": {},
   "outputs": [],
   "source": [
    "barycenters_biotope_family"
   ]
  },
  {
   "cell_type": "code",
   "execution_count": null,
   "metadata": {},
   "outputs": [],
   "source": [
    "barycenters_biotope_species"
   ]
  },
  {
   "cell_type": "markdown",
   "metadata": {},
   "source": [
    "## write to csv"
   ]
  },
  {
   "cell_type": "code",
   "execution_count": null,
   "metadata": {},
   "outputs": [],
   "source": [
    "barycenters_biotope_family.to_csv('biotope_family_centroids.csv')\n",
    "barycenters_biotope_species.to_csv('biotope_species_centroids.csv')\n",
    "df_biotope_barycenter.to_csv('biotope_centroids.csv')\n"
   ]
  },
  {
   "cell_type": "markdown",
   "metadata": {},
   "source": [
    "# PLOT THE PCA - SHOW CENTROIDS - COMPUTE DISTANCES"
   ]
  },
  {
   "cell_type": "code",
   "execution_count": null,
   "metadata": {},
   "outputs": [],
   "source": [
    "import plotly.graph_objects as go\n",
    "import plotly_express as px\n",
    "import itertools\n"
   ]
  },
  {
   "cell_type": "markdown",
   "metadata": {},
   "source": [
    "# standard 2D PC with loadings"
   ]
  },
  {
   "cell_type": "code",
   "execution_count": null,
   "metadata": {},
   "outputs": [],
   "source": [
    "figtest = go.Figure()\n",
    "figtest.add_shape(type='circle',x0=-1, x1=1, y0=-1,y1=1)\n",
    "\n",
    "for i, feature in enumerate(features):\n",
    "    figtest.add_shape(\n",
    "        type='line',\n",
    "        x0=0, y0=0,\n",
    "        x1=loadings[i, 0],\n",
    "        y1=loadings[i, 1]\n",
    "    )\n",
    "    figtest.add_annotation(\n",
    "        x=loadings[i, 0],\n",
    "        y=loadings[i, 1],\n",
    "        ax=0, ay=0,\n",
    "        xanchor=\"center\",\n",
    "        yanchor=\"bottom\",\n",
    "        text=feature,\n",
    "    )\n",
    "figtest.update_layout(yaxis_range=[-1,1])\n",
    "figtest.update_layout(xaxis_range=[-1,1], height=400, width = 400, title ='PCA Correlation circle' , xaxis_title='PC1', yaxis_title='PC2')\n",
    "\n",
    "figtest.show()\n"
   ]
  },
  {
   "cell_type": "code",
   "execution_count": null,
   "metadata": {},
   "outputs": [],
   "source": [
    "fig = px.scatter(ROI_coordinates,x='PC1',y='PC2',color='biotope', height = 1000)\n",
    "\n",
    "\n",
    "\n",
    "for i, feature in enumerate(features):\n",
    "    fig.add_shape(\n",
    "        type='line',\n",
    "        x0=0, y0=0,\n",
    "        x1=loadings[i, 0],\n",
    "        y1=loadings[i, 1]\n",
    "    )\n",
    "    fig.add_annotation(\n",
    "        x=loadings[i, 0],\n",
    "        y=loadings[i, 1],\n",
    "        ax=0, ay=0,\n",
    "        xanchor=\"center\",\n",
    "        yanchor=\"bottom\",\n",
    "        text=feature,\n",
    "    )\n",
    "fig.show()"
   ]
  },
  {
   "cell_type": "markdown",
   "metadata": {},
   "source": [
    "# all families"
   ]
  },
  {
   "cell_type": "code",
   "execution_count": null,
   "metadata": {},
   "outputs": [],
   "source": [
    "px.scatter(ROI_coordinates, x='PC1',y='PC2',color='biotope',facet_col='family',facet_col_wrap=4, height=2000)"
   ]
  },
  {
   "cell_type": "code",
   "execution_count": null,
   "metadata": {},
   "outputs": [],
   "source": []
  },
  {
   "cell_type": "markdown",
   "metadata": {},
   "source": [
    "# all biotopes"
   ]
  },
  {
   "cell_type": "code",
   "execution_count": null,
   "metadata": {},
   "outputs": [],
   "source": [
    "\n",
    "colors_ = np.linspace(0, 1, len(ROI_coordinates['family'].unique()))\n",
    "discrete_colors = sample_colorscale('turbo', minmax_scale(colors_))\n",
    "\n",
    "px.scatter(ROI_coordinates, x='PC1',y='PC2',facet_col='biotope',color='family',\n",
    "        color_discrete_sequence=discrete_colors, height=750)"
   ]
  },
  {
   "cell_type": "code",
   "execution_count": null,
   "metadata": {},
   "outputs": [],
   "source": [
    "barycenters_biotope_family"
   ]
  },
  {
   "cell_type": "markdown",
   "metadata": {},
   "source": [
    "# All biotopes and families + centroids"
   ]
  },
  {
   "cell_type": "code",
   "execution_count": null,
   "metadata": {},
   "outputs": [],
   "source": [
    "data = []\n",
    "\n",
    "colors_ = np.linspace(0, 1, len(ROI_coordinates['family'].unique()))\n",
    "discrete_colors = sample_colorscale('turbo', minmax_scale(colors_))\n",
    "col_pal_iterator = itertools.cycle(discrete_colors) \n",
    "\n",
    "for b in ROI_coordinates['biotope'].unique():\n",
    "    df_biotope_filter = ROI_coordinates[ROI_coordinates['biotope'] == b]\n",
    "\n",
    "    for f in df_biotope_filter['family'].unique():\n",
    "        new_colour = next(col_pal_iterator)\n",
    "        df_biotope_and_family_filter = df_biotope_filter[df_biotope_filter['family'] == f]\n",
    "        trace = go.Scatter(x=df_biotope_and_family_filter['PC1'], \n",
    "                            y=df_biotope_and_family_filter['PC2'],\n",
    "                            mode='markers',\n",
    "                            marker=dict(size=4, color=new_colour),\n",
    "                            name=f)\n",
    "        data.append(trace)    \n",
    "        \n",
    "        df_group_BARYCENTER = barycenters_biotope_family[barycenters_biotope_family['family'] == f]\n",
    "        \n",
    "        trace2 = go.Scatter(x=df_group_BARYCENTER['PC1_barycenter'], \n",
    "                            y=df_group_BARYCENTER['PC2_barycenter'],\n",
    "                            mode='markers',\n",
    "                            marker=dict(size=10,line=dict(width=2,color='DarkSlateGrey'), color=new_colour),\n",
    "                            name=f+'_'+b+'_BARYCENTER')\n",
    "        data.append(trace2)\n",
    "    \n",
    "# Layout of the plot\n",
    "layout = go.Layout(title='PCA - All biotopes with centroids', height=1000)\n",
    "fig = go.Figure(data=data, layout=layout)\n",
    "\n",
    "fig.show()"
   ]
  },
  {
   "cell_type": "markdown",
   "metadata": {},
   "source": [
    "# Subplots by biotope with centroids"
   ]
  },
  {
   "cell_type": "code",
   "execution_count": null,
   "metadata": {},
   "outputs": [],
   "source": [
    "from plotly.subplots import make_subplots\n",
    "\n",
    "colors_ = np.linspace(0, 1, len(ROI_coordinates['family'].unique()))\n",
    "discrete_colors = sample_colorscale('turbo', minmax_scale(colors_))\n",
    "col_pal_iterator = itertools.cycle(discrete_colors) \n",
    "row=0\n",
    "fig = make_subplots(rows=5, cols=1,subplot_titles=list(ROI_coordinates['biotope'].unique()),shared_xaxes=True)\n",
    "\n",
    "for b in ROI_coordinates['biotope'].unique():\n",
    "    row+=1\n",
    "    df_biotope_filter = ROI_coordinates[ROI_coordinates['biotope'] == b]\n",
    "    df_barycenters_biotope_filter = barycenters_biotope_family[barycenters_biotope_family['biotope'] == b]\n",
    "    data = []   \n",
    "    for f in df_biotope_filter['family'].unique():\n",
    "        new_colour = next(col_pal_iterator)\n",
    "        df_biotope_and_family_filter = df_biotope_filter[df_biotope_filter['family'] == f]\n",
    "        \n",
    "        trace = go.Scatter(x=df_biotope_and_family_filter['PC1'], \n",
    "                            y=df_biotope_and_family_filter['PC2'],\n",
    "                            mode='markers',\n",
    "                            marker=dict(size=4, color=new_colour),\n",
    "                            name=f,legendgroup=str(row))\n",
    "        data.append(trace)    \n",
    "        \n",
    "        df_group_BARYCENTER = df_barycenters_biotope_filter[df_barycenters_biotope_filter['family'] == f]\n",
    "        \n",
    "        \n",
    "        trace2 = go.Scatter(x=df_group_BARYCENTER['PC1_barycenter'], \n",
    "                            y=df_group_BARYCENTER['PC2_barycenter'],\n",
    "                            mode='markers',\n",
    "                            marker=dict(size=10,line=dict(width=2,color='DarkSlateGrey'), color=new_colour),legendgroup=str(row),\n",
    "                            name=f+'_'+b+'_BARYCENTER')\n",
    "        data.append(trace2)\n",
    "        fig.add_trace(trace, col=1,row=row)\n",
    "        fig.add_trace(trace2, col=1,row=row)\n",
    "\n",
    "fig.update_layout(height=1600, width=1000, title_text=\"PCA of all biotopes with centroids and family division\",legend_tracegroupgap=180)\n",
    "\n",
    "# Layout of the plot\n",
    "\n",
    "# fig = go.Figure(data=data, layout=layout)\n",
    "\n",
    "fig.show()\n"
   ]
  },
  {
   "cell_type": "code",
   "execution_count": null,
   "metadata": {},
   "outputs": [],
   "source": [
    "weights"
   ]
  },
  {
   "cell_type": "code",
   "execution_count": null,
   "metadata": {},
   "outputs": [],
   "source": [
    "df_annot_final.sound_id.nunique()"
   ]
  },
  {
   "cell_type": "code",
   "execution_count": null,
   "metadata": {},
   "outputs": [],
   "source": [
    "fig = go.Figure(go.Indicator(\n",
    "    mode = \"number+delta\",\n",
    "    value = 400,\n",
    "    number = {'prefix': \"$\"},\n",
    "    delta = {'position': \"top\", 'reference': 320},\n",
    "    domain = {'x': [0, 1], 'y': [0, 1]}))\n",
    "\n",
    "fig.update_layout(paper_bgcolor = \"lightgray\")\n",
    "\n",
    "fig.show()"
   ]
  },
  {
   "cell_type": "code",
   "execution_count": null,
   "metadata": {},
   "outputs": [],
   "source": [
    "data = []\n",
    "\n",
    "for group in df_biotope_barycenter['biotope']:\n",
    "    df_group = ROI_coordinates[ROI_coordinates['biotope'] == group]\n",
    "    trace = go.Scatter(x=df_group['PC1'], \n",
    "                        y=df_group['PC2'],\n",
    "                        mode='markers',\n",
    "                        marker=dict(size=3, colorscale='rainbow'),\n",
    "                        name=group)\n",
    "    data.append(trace)\n",
    "    \n",
    "for group in df_biotope_barycenter['biotope']:\n",
    "    df_group_BARYCENTER = df_biotope_barycenter[df_biotope_barycenter['biotope'] == group]\n",
    "    trace2 = go.Scatter(x=df_group_BARYCENTER['PC1_barycenter'], \n",
    "                        y=df_group_BARYCENTER['PC2_barycenter'],\n",
    "                        mode='markers',\n",
    "                        marker=dict(size=10,line=dict(width=2,color='DarkSlateGrey'), colorscale='rainbow'),\n",
    "                        name=group+'_BARYCENTER')\n",
    "    data.append(trace2)\n",
    "    \n",
    "# Layout of the plot\n",
    "layout = go.Layout(title='PCA - All biotopes with centroids', height=1000)\n",
    "fig = go.Figure(data=data, layout=layout)\n",
    "\n",
    "fig.show()"
   ]
  },
  {
   "cell_type": "code",
   "execution_count": null,
   "metadata": {},
   "outputs": [],
   "source": [
    "barycenters_biotope_family"
   ]
  },
  {
   "cell_type": "code",
   "execution_count": null,
   "metadata": {},
   "outputs": [],
   "source": [
    "barycenters_biotope_family['family'].unique()"
   ]
  },
  {
   "cell_type": "code",
   "execution_count": null,
   "metadata": {},
   "outputs": [],
   "source": [
    "\n"
   ]
  },
  {
   "cell_type": "code",
   "execution_count": null,
   "metadata": {},
   "outputs": [],
   "source": [
    "data = []\n",
    "\n",
    "filtered_by_forest = ROI_coordinates[ROI_coordinates['biotope'] == 'Forest'].drop_duplicates()\n",
    "barycenters_filtered_by_forest = barycenters_biotope_family[barycenters_biotope_family['biotope'] == 'Forest'].drop_duplicates()\n",
    "\n",
    "\n",
    "for f in ROI_coordinates['family'].unique():\n",
    "    new_colour = next(col_pal_iterator)\n",
    "    df_group = filtered_by_forest[filtered_by_forest['family'] == f]\n",
    "    trace = go.Scatter(x=df_group['PC1'], \n",
    "                        y=df_group['PC2'],\n",
    "                        mode='markers',\n",
    "                        marker=dict(size=3, color=new_colour),\n",
    "                        name=f)\n",
    "    \n",
    "    df_group_BARYCENTER = barycenters_filtered_by_forest[barycenters_filtered_by_forest['family'] == f]\n",
    "    trace2 = go.Scatter(x=df_group_BARYCENTER['PC1_barycenter'], \n",
    "                        y=df_group_BARYCENTER['PC2_barycenter'],\n",
    "                        mode='markers',\n",
    "                        marker=dict(size=8,color=new_colour,line=dict(width=2,color='DarkSlateGrey')),\n",
    "                        name=f+'_BARYCENTER')\n",
    "    data.append(trace)\n",
    "    data.append(trace2)\n",
    "    \n",
    "    \n",
    "# Layout of the plot\n",
    "layout = go.Layout(title='PCA - Forest biotope - colored by family with centroids', height=1000)\n",
    "fig = go.Figure(data=data, layout=layout)\n",
    "\n",
    "fig.show()"
   ]
  },
  {
   "cell_type": "code",
   "execution_count": null,
   "metadata": {},
   "outputs": [],
   "source": [
    "data = []\n",
    "\n",
    "filtered_by_Woodlands = ROI_coordinates[ROI_coordinates['biotope'] == 'Woodlands'].drop_duplicates()\n",
    "barycenters_filtered_by_Woodlands = barycenters_biotope_family[barycenters_biotope_family['biotope'] == 'Woodlands'].drop_duplicates()\n",
    "\n",
    "\n",
    "for f in ROI_coordinates['family'].unique():\n",
    "    new_colour = next(col_pal_iterator)\n",
    "    df_group = filtered_by_Woodlands[filtered_by_Woodlands['family'] == f]\n",
    "    trace = go.Scatter(x=df_group['PC1'], \n",
    "                        y=df_group['PC2'],\n",
    "                        mode='markers',\n",
    "                        marker=dict(size=3, color=new_colour),\n",
    "                        name=f)\n",
    "    \n",
    "    df_group_BARYCENTER = barycenters_filtered_by_Woodlands[barycenters_filtered_by_Woodlands['family'] == f]\n",
    "    trace2 = go.Scatter(x=df_group_BARYCENTER['PC1_barycenter'], \n",
    "                        y=df_group_BARYCENTER['PC2_barycenter'],\n",
    "                        mode='markers',\n",
    "                        marker=dict(size=8,color=new_colour,line=dict(width=2,color='DarkSlateGrey')),\n",
    "                        name=f+'_BARYCENTER')\n",
    "    data.append(trace)\n",
    "    data.append(trace2)\n",
    "    \n",
    "    \n",
    "# Layout of the plot\n",
    "layout = go.Layout(title='PCA - Woodlands biotope - colored by family with centroids', height=1000)\n",
    "fig = go.Figure(data=data, layout=layout)\n",
    "\n",
    "fig.show()"
   ]
  },
  {
   "cell_type": "code",
   "execution_count": null,
   "metadata": {},
   "outputs": [],
   "source": [
    "data = []\n",
    "\n",
    "filtered_by_forest = ROI_coordinates[ROI_coordinates['biotope'] == 'Wetlands'].drop_duplicates()\n",
    "barycenters_filtered_by_forest = barycenters_biotope_family[barycenters_biotope_family['biotope'] == 'Wetlands'].drop_duplicates()\n",
    "\n",
    "\n",
    "for f in ROI_coordinates['family'].unique():\n",
    "    new_colour = next(col_pal_iterator)\n",
    "    df_group = filtered_by_forest[filtered_by_forest['family'] == f]\n",
    "    trace = go.Scatter(x=df_group['PC1'], \n",
    "                        y=df_group['PC2'],\n",
    "                        mode='markers',\n",
    "                        marker=dict(size=3, color=new_colour),\n",
    "                        name=f)\n",
    "    \n",
    "    df_group_BARYCENTER = barycenters_filtered_by_forest[barycenters_filtered_by_forest['family'] == f]\n",
    "    trace2 = go.Scatter(x=df_group_BARYCENTER['PC1_barycenter'], \n",
    "                        y=df_group_BARYCENTER['PC2_barycenter'],\n",
    "                        mode='markers',\n",
    "                        marker=dict(size=8,color=new_colour,line=dict(width=2,color='DarkSlateGrey')),\n",
    "                        name=f+'_BARYCENTER')\n",
    "    data.append(trace)\n",
    "    data.append(trace2)\n",
    "    \n",
    "    \n",
    "# Layout of the plot\n",
    "layout = go.Layout(title='PCA - Wetlands biotope - colored by family with centroids', height=1000)\n",
    "fig = go.Figure(data=data, layout=layout)\n",
    "\n",
    "fig.show()"
   ]
  },
  {
   "cell_type": "code",
   "execution_count": null,
   "metadata": {},
   "outputs": [],
   "source": [
    "data = []\n",
    "\n",
    "filtered_by_forest = ROI_coordinates[ROI_coordinates['biotope'] == 'Grasslands'].drop_duplicates()\n",
    "barycenters_filtered_by_forest = barycenters_biotope_family[barycenters_biotope_family['biotope'] == 'Grasslands'].drop_duplicates()\n",
    "\n",
    "\n",
    "for f in ROI_coordinates['family'].unique():\n",
    "    new_colour = next(col_pal_iterator)\n",
    "    df_group = filtered_by_forest[filtered_by_forest['family'] == f]\n",
    "    trace = go.Scatter(x=df_group['PC1'], \n",
    "                        y=df_group['PC2'],\n",
    "                        mode='markers',\n",
    "                        marker=dict(size=3, color=new_colour),\n",
    "                        name=f)\n",
    "    \n",
    "    df_group_BARYCENTER = barycenters_filtered_by_forest[barycenters_filtered_by_forest['family'] == f]\n",
    "    trace2 = go.Scatter(x=df_group_BARYCENTER['PC1_barycenter'], \n",
    "                        y=df_group_BARYCENTER['PC2_barycenter'],\n",
    "                        mode='markers',\n",
    "                        marker=dict(size=8,color=new_colour,line=dict(width=2,color='DarkSlateGrey')),\n",
    "                        name=f+'_BARYCENTER')\n",
    "    data.append(trace)\n",
    "    data.append(trace2)\n",
    "    \n",
    "    \n",
    "# Layout of the plot\n",
    "layout = go.Layout(title='PCA - Grasslands biotope - colored by family with centroids', height=1000)\n",
    "fig = go.Figure(data=data, layout=layout)\n",
    "\n",
    "fig.show()"
   ]
  },
  {
   "cell_type": "code",
   "execution_count": null,
   "metadata": {},
   "outputs": [],
   "source": [
    "data = []\n",
    "\n",
    "filtered_by_forest = ROI_coordinates[ROI_coordinates['biotope'] == 'Marshlands'].drop_duplicates()\n",
    "barycenters_filtered_by_forest = barycenters_biotope_family[barycenters_biotope_family['biotope'] == 'Marshlands'].drop_duplicates()\n",
    "\n",
    "\n",
    "for f in ROI_coordinates['family'].unique():\n",
    "    new_colour = next(col_pal_iterator)\n",
    "    df_group = filtered_by_forest[filtered_by_forest['family'] == f]\n",
    "    trace = go.Scatter(x=df_group['PC1'], \n",
    "                        y=df_group['PC2'],\n",
    "                        mode='markers',\n",
    "                        marker=dict(size=3, color=new_colour),\n",
    "                        name=f)\n",
    "    \n",
    "    df_group_BARYCENTER = barycenters_filtered_by_forest[barycenters_filtered_by_forest['family'] == f]\n",
    "    trace2 = go.Scatter(x=df_group_BARYCENTER['PC1_barycenter'], \n",
    "                        y=df_group_BARYCENTER['PC2_barycenter'],\n",
    "                        mode='markers',\n",
    "                        marker=dict(size=8,color=new_colour,line=dict(width=2,color='DarkSlateGrey')),\n",
    "                        name=f+'_BARYCENTER')\n",
    "    data.append(trace)\n",
    "    data.append(trace2)\n",
    "    \n",
    "    \n",
    "# Layout of the plot\n",
    "layout = go.Layout(title='PCA - Marshland biotope - colored by family with centroids', height=1000)\n",
    "fig = go.Figure(data=data, layout=layout)\n",
    "\n",
    "fig.show()"
   ]
  },
  {
   "cell_type": "code",
   "execution_count": null,
   "metadata": {},
   "outputs": [],
   "source": [
    "scatter = go.Figure()\n",
    "\n",
    "scatter.add_trace(go.Scatter(x=ROI_coordinates['PC1'],y=ROI_coordinates['PC2'],mode='markers'))\n",
    "scatter.add_trace(go.Scatter(x=df_biotope_barycenter['PC1_barycenter'],y=df_biotope_barycenter['PC2_barycenter'],mode='markers',name='barycenters',\n",
    "                              marker=dict(size=10)))\n",
    "# scatter.data = (scatter.data[5],scatter.data[3])\n",
    "\n",
    "# scatter.data = scatter.data[::-1]"
   ]
  },
  {
   "cell_type": "code",
   "execution_count": null,
   "metadata": {},
   "outputs": [],
   "source": [
    "px.colors.qualitative.Plotly"
   ]
  },
  {
   "cell_type": "code",
   "execution_count": null,
   "metadata": {},
   "outputs": [],
   "source": [
    "scatter = px.scatter(components, x=0,y=1,height=1000)\n"
   ]
  },
  {
   "cell_type": "code",
   "execution_count": null,
   "metadata": {},
   "outputs": [],
   "source": [
    "scatter.show()"
   ]
  },
  {
   "cell_type": "code",
   "execution_count": null,
   "metadata": {},
   "outputs": [],
   "source": [
    "for_glenn = pd.concat([df[['species', 'genus', 'family', 'order','biotope', 'sound_id']],pd.DataFrame(components)],axis=1)"
   ]
  },
  {
   "cell_type": "code",
   "execution_count": null,
   "metadata": {},
   "outputs": [],
   "source": [
    "ROI_coordinates.to_csv('PC_results_glenn.csv')"
   ]
  },
  {
   "cell_type": "code",
   "execution_count": null,
   "metadata": {},
   "outputs": [],
   "source": [
    "fig = px.scatter_matrix(\n",
    "    components,\n",
    "    height=1000,\n",
    "    labels=labels,\n",
    "    dimensions=range(dimensions),\n",
    "    color=df[color],\n",
    "    color_discrete_sequence=discrete_colors,\n",
    "    title=f'Principal component analysis of ROIs ---Total Explained Variance: {total_var:.2f}%',\n",
    ")\n",
    "fig.update_traces(diagonal_visible=False)\n"
   ]
  },
  {
   "cell_type": "code",
   "execution_count": null,
   "metadata": {},
   "outputs": [],
   "source": [
    "features_options='basic'\n",
    "dimensions=2\n",
    "color=\"species\"\n",
    "\n",
    "df = df_annot.copy()\n",
    "df = df.reset_index()\n",
    "\n",
    "if features_options == 'basic':\n",
    "    features = GENERIC_FEATURES\n",
    "if features_options == 'shapes':\n",
    "    features = SHAPE_FEATURES+GENERIC_FEATURES\n",
    "if features_options == 'spectral':\n",
    "    features = SPECTRAL_FEATURES+GENERIC_FEATURES\n",
    "if features_options == 'temporal':\n",
    "    features = TEMPORAL_FEATURES+GENERIC_FEATURES\n",
    "if features_options == 'all':\n",
    "    features = GENERIC_FEATURES+SPECTRAL_FEATURES+TEMPORAL_FEATURES+SHAPE_FEATURES\n",
    "\n",
    "df = df.dropna(how='all')\n",
    "X = df.loc[:, features]\n",
    "\n",
    "# normalize data\n",
    "scaler = StandardScaler()\n",
    "scaler.fit(X)\n",
    "X = scaler.transform(X)\n",
    "# compute PCA, explained variance and weights\n",
    "pca = PCA()\n",
    "components = pca.fit_transform(X)\n",
    "total_var = pca.explained_variance_ratio_.sum() * 100\n",
    "\n",
    "indexPC = ['PC - '+str(i) for i in range(dimensions)]\n",
    "df_feature_weights = pd.DataFrame(pca.components_)\n",
    "\n",
    "# figure-----------------------\n",
    "labels = {\n",
    "    str(i): f\"PC {i+1} ({var:.1f}%) -- sound_id = {df.loc[:,'']}\"\n",
    "    for i, var in enumerate(pca.explained_variance_ratio_ * 100)\n",
    "}\n",
    "\n",
    "colors_ = np.linspace(0, 1, len(df[color].unique()))\n",
    "discrete_colors = sample_colorscale('Rainbow', minmax_scale(colors_))\n",
    "\n",
    "fig = px.scatter_matrix(\n",
    "    components,\n",
    "    height=1000,\n",
    "    labels=labels,\n",
    "    dimensions=range(dimensions),\n",
    "    color=df[color],\n",
    "    color_discrete_sequence=discrete_colors,\n",
    "    title=f'Principal component analysis of ROIs ---Total Explained Variance: {total_var:.2f}%',\n",
    ")\n",
    "fig.update_traces(diagonal_visible=False)\n",
    "\n",
    "fig2 = px.bar(df_feature_weights, title='Weights of features for each PC')\n",
    "\n",
    "\n"
   ]
  },
  {
   "cell_type": "code",
   "execution_count": null,
   "metadata": {},
   "outputs": [],
   "source": [
    "fig.show()"
   ]
  },
  {
   "cell_type": "code",
   "execution_count": null,
   "metadata": {},
   "outputs": [],
   "source": [
    "labels"
   ]
  },
  {
   "cell_type": "code",
   "execution_count": null,
   "metadata": {},
   "outputs": [],
   "source": [
    "from sklearn import preprocessing\n",
    "\n",
    "data_scaled = pd.DataFrame(preprocessing.scale(df_annot[features]),columns = df_annot[features].columns) \n",
    "\n",
    "# PCA\n",
    "pca = PCA(n_components=3)\n",
    "pca.fit_transform(data_scaled)\n",
    "\n",
    "# Dump components relations with features:\n",
    "weights = (pd.DataFrame(abs(pca.components_),columns=data_scaled.columns,index = ['PC-1','PC-2','PC-3']))\n"
   ]
  },
  {
   "cell_type": "code",
   "execution_count": null,
   "metadata": {},
   "outputs": [],
   "source": [
    "test = weights.reset_index()"
   ]
  },
  {
   "cell_type": "code",
   "execution_count": null,
   "metadata": {},
   "outputs": [],
   "source": [
    "test"
   ]
  },
  {
   "cell_type": "code",
   "execution_count": null,
   "metadata": {},
   "outputs": [],
   "source": [
    "px.bar(test,x=features, facet_col='index', barmode='group')"
   ]
  },
  {
   "cell_type": "code",
   "execution_count": null,
   "metadata": {},
   "outputs": [],
   "source": [
    "from plotly.subplots import make_subplots\n",
    "import plotly.graph_objects as go\n",
    "\n",
    "fig = make_subplots(cols=1, rows=dimensions,subplot_titles=([f'PC-{i+1}: abs weight of features' for i in range(dimensions)]))\n",
    "\n",
    "for i in range(dimensions):\n",
    "    fig.append_trace(go.Bar(x=features ,y = test[features].loc[i,:],text=features,textposition=\"inside\")\n",
    "    , col=1, row=i+1)\n",
    "    fig.update_layout(barmode='stack', xaxis={'categoryorder':'total descending'})\n",
    "    fig.update_xaxes({'categoryorder':'total descending'})\n",
    "    fig.update_xaxes(visible=False)\n",
    "\n",
    "\n",
    "fig.update_layout(height=800, width=1000, showlegend=False)\n",
    "fig.show()"
   ]
  },
  {
   "cell_type": "code",
   "execution_count": null,
   "metadata": {},
   "outputs": [],
   "source": [
    "for i in range(dimensions):\n",
    "    print(i)"
   ]
  },
  {
   "cell_type": "code",
   "execution_count": null,
   "metadata": {},
   "outputs": [],
   "source": []
  },
  {
   "cell_type": "code",
   "execution_count": null,
   "metadata": {},
   "outputs": [],
   "source": []
  },
  {
   "cell_type": "code",
   "execution_count": null,
   "metadata": {},
   "outputs": [],
   "source": [
    "abs(weights).reset_index().groupby('index').max()"
   ]
  },
  {
   "cell_type": "code",
   "execution_count": null,
   "metadata": {},
   "outputs": [],
   "source": [
    "weights = weights.transpose()"
   ]
  },
  {
   "cell_type": "code",
   "execution_count": null,
   "metadata": {},
   "outputs": [],
   "source": [
    "abs(weights)"
   ]
  },
  {
   "cell_type": "code",
   "execution_count": null,
   "metadata": {},
   "outputs": [],
   "source": [
    "px.bar(weights, barmode='group')"
   ]
  },
  {
   "cell_type": "code",
   "execution_count": null,
   "metadata": {},
   "outputs": [],
   "source": [
    "total_var = pca.explained_variance_ratio_.sum() * 100\n"
   ]
  },
  {
   "cell_type": "code",
   "execution_count": null,
   "metadata": {},
   "outputs": [],
   "source": [
    "total_var"
   ]
  },
  {
   "cell_type": "code",
   "execution_count": null,
   "metadata": {},
   "outputs": [],
   "source": [
    "weights['index']"
   ]
  },
  {
   "cell_type": "code",
   "execution_count": null,
   "metadata": {},
   "outputs": [],
   "source": [
    "weights = weights.reset_index()\n",
    "weights['PC'] = weights['index']"
   ]
  },
  {
   "cell_type": "code",
   "execution_count": null,
   "metadata": {},
   "outputs": [],
   "source": [
    "weights[features] = abs(weights[features])"
   ]
  },
  {
   "cell_type": "code",
   "execution_count": null,
   "metadata": {},
   "outputs": [],
   "source": [
    "fig2 = px.bar(weights, y=features,x=px.Constant('Relative features'), facet_col = 'index', barmode='group',title='Weights of features for each PC')"
   ]
  },
  {
   "cell_type": "code",
   "execution_count": null,
   "metadata": {},
   "outputs": [],
   "source": [
    "fig2.update_yaxes(type='category')\n"
   ]
  },
  {
   "cell_type": "code",
   "execution_count": null,
   "metadata": {},
   "outputs": [],
   "source": [
    "fig2.show()"
   ]
  },
  {
   "cell_type": "code",
   "execution_count": null,
   "metadata": {},
   "outputs": [],
   "source": [
    "weights"
   ]
  },
  {
   "cell_type": "code",
   "execution_count": null,
   "metadata": {},
   "outputs": [],
   "source": [
    "fig3 = px.bar(weights[features].loc[2,:].sort_values())\n",
    "fig3.update_layout(title = 'PC-1')\n"
   ]
  },
  {
   "cell_type": "code",
   "execution_count": null,
   "metadata": {},
   "outputs": [],
   "source": [
    "fig3.show()"
   ]
  },
  {
   "cell_type": "code",
   "execution_count": null,
   "metadata": {},
   "outputs": [],
   "source": []
  }
 ],
 "metadata": {
  "interpreter": {
   "hash": "5f092c625b54717e6fbd4d91ce8d85fe7e6620ef8c41f32022d30ea320c9fdb9"
  },
  "kernelspec": {
   "display_name": "Python 3.8.9 64-bit ('.venv': venv)",
   "language": "python",
   "name": "python3"
  },
  "language_info": {
   "codemirror_mode": {
    "name": "ipython",
    "version": 3
   },
   "file_extension": ".py",
   "mimetype": "text/x-python",
   "name": "python",
   "nbconvert_exporter": "python",
   "pygments_lexer": "ipython3",
   "version": "3.10.8"
  },
  "orig_nbformat": 4
 },
 "nbformat": 4,
 "nbformat_minor": 2
}
