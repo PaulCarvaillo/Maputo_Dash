{
 "cells": [
  {
   "cell_type": "markdown",
   "metadata": {},
   "source": [
    "#Exploring Julie Ellie and Theunissen's Biosound algorythms for analyzing birdsounds (Neuroacoustics of zebra finch)\n",
    "\n",
    "#Exploring HDF5 format for our purposes?"
   ]
  },
  {
   "cell_type": "code",
   "execution_count": 1,
   "metadata": {},
   "outputs": [],
   "source": [
    "import numpy as np\n",
    "import soundfile as sf\n",
    "import matplotlib.pyplot as plt\n",
    "from soundsig.sound import BioSound \n",
    "from soundsig.sound import WavFile\n",
    "import librosa\n",
    "import os\n"
   ]
  },
  {
   "cell_type": "markdown",
   "metadata": {},
   "source": []
  },
  {
   "cell_type": "code",
   "execution_count": 5,
   "metadata": {},
   "outputs": [],
   "source": [
    "# Go to the folder that has the wav files\n",
    "os.chdir('/Users/Paul/Paul/Desktop/My_projects/Bioacoustics/Maputo_Dash/datasets/wav')\n",
    "sounds_root_path = '/Users/Paul/Paul/Desktop/My_projects/Bioacoustics/Maputo_Dash/datasets/wav'\n",
    "# This will be the output directory8\n",
    "if not os.path.exists('h5files'):\n",
    "    os.makedirs('h5files')\n",
    "    "
   ]
  },
  {
   "cell_type": "code",
   "execution_count": 6,
   "metadata": {},
   "outputs": [
    {
     "name": "stderr",
     "output_type": "stream",
     "text": [
      "/Users/Paul/Paul/Desktop/My_projects/Bioacoustics/.venv/lib/python3.9/site-packages/librosa/util/decorators.py:88: UserWarning: PySoundFile failed. Trying audioread instead.\n",
      "  return f(*args, **kwargs)\n",
      "/Users/Paul/Paul/Desktop/My_projects/Bioacoustics/.venv/lib/python3.9/site-packages/librosa/util/decorators.py:88: UserWarning: PySoundFile failed. Trying audioread instead.\n",
      "  return f(*args, **kwargs)\n",
      "/Users/Paul/Paul/Desktop/My_projects/Bioacoustics/.venv/lib/python3.9/site-packages/soundsig/sound.py:279: RuntimeWarning: divide by zero encountered in log10\n",
      "  self.spectro = 20*np.log10(np.abs(spec))\n"
     ]
    }
   ],
   "source": [
    "\n",
    "for root, dirs, files in os.walk(sounds_root_path):\n",
    "    dirname = root.split(os.path.sep)[-1]\n",
    "    \n",
    "    for file in files:\n",
    "        if file.endswith('.wav'):\n",
    "            filepath = os.path.join(str(root),str(file))\n",
    "            outputname = dirname + '_' + str(file)\n",
    "\n",
    "            #workaround RIFF ID Bug on WavFile:\n",
    "            temp,sr = librosa.load(filepath)\n",
    "            \n",
    "            sf.write('tmp.wav', temp, sr)\n",
    "            path,extension = os.path.splitext(filepath)\n",
    "            birdname = path.rsplit(sep='/')[-2]\n",
    "            soundId = path.rsplit(sep='/')[-1]\n",
    "            outputfilename = birdname+'_'+soundId+extension\n",
    "            soundIn = WavFile('tmp.wav')\n",
    "            #normalize\n",
    "            maxAmp=np.abs(soundIn.data).max()\n",
    "            #makeBiosound object\n",
    "            calltype = 'calls'\n",
    "            myBioSound = BioSound(soundWave=soundIn.data.astype(float)/maxAmp, fs=float(soundIn.sample_rate), emitter=birdname, calltype = calltype)\n",
    "            \n",
    "            #insert data to compute here:\n",
    "            myBioSound.spectroCalc(spec_sample_rate=1000, freq_spacing = 50, min_freq=0, max_freq=10000)\n",
    "            myBioSound.spectrum(f_high=10000)\n",
    "            myBioSound.rms = myBioSound.sound.std()\n",
    "            \n",
    "\n",
    "        # Save the results\n",
    "            fh5name = 'h5files/%s.h5' % (birdname+'_'+soundId)\n",
    "            myBioSound.saveh5(fh5name)\n"
   ]
  }
 ],
 "metadata": {
  "interpreter": {
   "hash": "81690b64bbafc761d7138f0e52d97e26c5145b78c3c0378370557753364dbd2a"
  },
  "kernelspec": {
   "display_name": "Python 3.9.8 64-bit ('.venv': venv)",
   "language": "python",
   "name": "python3"
  },
  "language_info": {
   "codemirror_mode": {
    "name": "ipython",
    "version": 3
   },
   "file_extension": ".py",
   "mimetype": "text/x-python",
   "name": "python",
   "nbconvert_exporter": "python",
   "pygments_lexer": "ipython3",
   "version": "3.8.9"
  },
  "orig_nbformat": 4
 },
 "nbformat": 4,
 "nbformat_minor": 2
}
