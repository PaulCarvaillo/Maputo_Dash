{
 "cells": [
  {
   "cell_type": "code",
   "execution_count": 41,
   "metadata": {},
   "outputs": [],
   "source": [
    "import plotly_express as px\n",
    "import pandas as pd\n",
    "import plotly.graph_objects as go\n",
    "from plotly.subplots import make_subplots"
   ]
  },
  {
   "cell_type": "code",
   "execution_count": 42,
   "metadata": {},
   "outputs": [],
   "source": [
    "df_final = pd.read_csv('/Users/Paul/Paul/Desktop/My_projects/Bioacoustics/Maputo_Dash/datasets/tables/df_ROI_final.csv')"
   ]
  },
  {
   "cell_type": "code",
   "execution_count": 43,
   "metadata": {},
   "outputs": [
    {
     "data": {
      "text/html": [
       "<div>\n",
       "<style scoped>\n",
       "    .dataframe tbody tr th:only-of-type {\n",
       "        vertical-align: middle;\n",
       "    }\n",
       "\n",
       "    .dataframe tbody tr th {\n",
       "        vertical-align: top;\n",
       "    }\n",
       "\n",
       "    .dataframe thead th {\n",
       "        text-align: right;\n",
       "    }\n",
       "</style>\n",
       "<table border=\"1\" class=\"dataframe\">\n",
       "  <thead>\n",
       "    <tr style=\"text-align: right;\">\n",
       "      <th></th>\n",
       "      <th>Unnamed: 0</th>\n",
       "      <th>ROI_id</th>\n",
       "      <th>min_y</th>\n",
       "      <th>min_x</th>\n",
       "      <th>max_y</th>\n",
       "      <th>max_x</th>\n",
       "      <th>min_f</th>\n",
       "      <th>min_t</th>\n",
       "      <th>max_f</th>\n",
       "      <th>max_t</th>\n",
       "      <th>...</th>\n",
       "      <th>Ht</th>\n",
       "      <th>ACTtFraction</th>\n",
       "      <th>ACTtCount</th>\n",
       "      <th>ACTtMean</th>\n",
       "      <th>EVNtFraction</th>\n",
       "      <th>EVNtMean</th>\n",
       "      <th>EVNtCount</th>\n",
       "      <th>gen</th>\n",
       "      <th>species</th>\n",
       "      <th>sound_id</th>\n",
       "    </tr>\n",
       "  </thead>\n",
       "  <tbody>\n",
       "    <tr>\n",
       "      <th>0</th>\n",
       "      <td>0</td>\n",
       "      <td>1</td>\n",
       "      <td>0</td>\n",
       "      <td>343</td>\n",
       "      <td>137</td>\n",
       "      <td>434</td>\n",
       "      <td>0.000000</td>\n",
       "      <td>3.993832</td>\n",
       "      <td>5900.097656</td>\n",
       "      <td>5.050340</td>\n",
       "      <td>...</td>\n",
       "      <td>0.902865</td>\n",
       "      <td>0.246032</td>\n",
       "      <td>31.0</td>\n",
       "      <td>5.892072</td>\n",
       "      <td>0.206349</td>\n",
       "      <td>0.050310</td>\n",
       "      <td>4.134375</td>\n",
       "      <td>Calendulauda</td>\n",
       "      <td>africanoides</td>\n",
       "      <td>449420</td>\n",
       "    </tr>\n",
       "    <tr>\n",
       "      <th>1</th>\n",
       "      <td>1</td>\n",
       "      <td>2</td>\n",
       "      <td>4</td>\n",
       "      <td>463</td>\n",
       "      <td>406</td>\n",
       "      <td>589</td>\n",
       "      <td>172.265625</td>\n",
       "      <td>5.387029</td>\n",
       "      <td>17484.960938</td>\n",
       "      <td>6.849887</td>\n",
       "      <td>...</td>\n",
       "      <td>0.862541</td>\n",
       "      <td>0.187500</td>\n",
       "      <td>3.0</td>\n",
       "      <td>4.398765</td>\n",
       "      <td>0.187500</td>\n",
       "      <td>0.034830</td>\n",
       "      <td>5.742187</td>\n",
       "      <td>Calendulauda</td>\n",
       "      <td>africanoides</td>\n",
       "      <td>449420</td>\n",
       "    </tr>\n",
       "    <tr>\n",
       "      <th>2</th>\n",
       "      <td>2</td>\n",
       "      <td>3</td>\n",
       "      <td>12</td>\n",
       "      <td>328</td>\n",
       "      <td>31</td>\n",
       "      <td>344</td>\n",
       "      <td>516.796875</td>\n",
       "      <td>3.819683</td>\n",
       "      <td>1335.058594</td>\n",
       "      <td>4.005442</td>\n",
       "      <td>...</td>\n",
       "      <td>0.842645</td>\n",
       "      <td>0.388889</td>\n",
       "      <td>14.0</td>\n",
       "      <td>7.238912</td>\n",
       "      <td>0.388889</td>\n",
       "      <td>0.054180</td>\n",
       "      <td>7.382812</td>\n",
       "      <td>Calendulauda</td>\n",
       "      <td>africanoides</td>\n",
       "      <td>449420</td>\n",
       "    </tr>\n",
       "    <tr>\n",
       "      <th>3</th>\n",
       "      <td>3</td>\n",
       "      <td>4</td>\n",
       "      <td>81</td>\n",
       "      <td>87</td>\n",
       "      <td>110</td>\n",
       "      <td>123</td>\n",
       "      <td>3488.378906</td>\n",
       "      <td>1.021678</td>\n",
       "      <td>4737.304688</td>\n",
       "      <td>1.439637</td>\n",
       "      <td>...</td>\n",
       "      <td>0.922238</td>\n",
       "      <td>0.195122</td>\n",
       "      <td>8.0</td>\n",
       "      <td>4.768629</td>\n",
       "      <td>0.170732</td>\n",
       "      <td>0.027090</td>\n",
       "      <td>6.459961</td>\n",
       "      <td>Calendulauda</td>\n",
       "      <td>africanoides</td>\n",
       "      <td>449420</td>\n",
       "    </tr>\n",
       "    <tr>\n",
       "      <th>4</th>\n",
       "      <td>4</td>\n",
       "      <td>5</td>\n",
       "      <td>82</td>\n",
       "      <td>12</td>\n",
       "      <td>115</td>\n",
       "      <td>53</td>\n",
       "      <td>3531.445312</td>\n",
       "      <td>0.150930</td>\n",
       "      <td>4952.636719</td>\n",
       "      <td>0.626939</td>\n",
       "      <td>...</td>\n",
       "      <td>0.906963</td>\n",
       "      <td>0.233333</td>\n",
       "      <td>7.0</td>\n",
       "      <td>4.913164</td>\n",
       "      <td>0.233333</td>\n",
       "      <td>0.040635</td>\n",
       "      <td>5.940194</td>\n",
       "      <td>Calendulauda</td>\n",
       "      <td>africanoides</td>\n",
       "      <td>449420</td>\n",
       "    </tr>\n",
       "    <tr>\n",
       "      <th>...</th>\n",
       "      <td>...</td>\n",
       "      <td>...</td>\n",
       "      <td>...</td>\n",
       "      <td>...</td>\n",
       "      <td>...</td>\n",
       "      <td>...</td>\n",
       "      <td>...</td>\n",
       "      <td>...</td>\n",
       "      <td>...</td>\n",
       "      <td>...</td>\n",
       "      <td>...</td>\n",
       "      <td>...</td>\n",
       "      <td>...</td>\n",
       "      <td>...</td>\n",
       "      <td>...</td>\n",
       "      <td>...</td>\n",
       "      <td>...</td>\n",
       "      <td>...</td>\n",
       "      <td>...</td>\n",
       "      <td>...</td>\n",
       "      <td>...</td>\n",
       "    </tr>\n",
       "    <tr>\n",
       "      <th>4215</th>\n",
       "      <td>4215</td>\n",
       "      <td>14</td>\n",
       "      <td>135</td>\n",
       "      <td>530</td>\n",
       "      <td>207</td>\n",
       "      <td>565</td>\n",
       "      <td>5813.964844</td>\n",
       "      <td>6.164898</td>\n",
       "      <td>8914.746094</td>\n",
       "      <td>6.571247</td>\n",
       "      <td>...</td>\n",
       "      <td>0.957063</td>\n",
       "      <td>0.136364</td>\n",
       "      <td>3.0</td>\n",
       "      <td>3.546711</td>\n",
       "      <td>0.090909</td>\n",
       "      <td>0.023220</td>\n",
       "      <td>4.101562</td>\n",
       "      <td>Treron</td>\n",
       "      <td>calvus</td>\n",
       "      <td>104019</td>\n",
       "    </tr>\n",
       "    <tr>\n",
       "      <th>4216</th>\n",
       "      <td>4216</td>\n",
       "      <td>15</td>\n",
       "      <td>137</td>\n",
       "      <td>304</td>\n",
       "      <td>289</td>\n",
       "      <td>326</td>\n",
       "      <td>5900.097656</td>\n",
       "      <td>3.541043</td>\n",
       "      <td>12446.191406</td>\n",
       "      <td>3.796463</td>\n",
       "      <td>...</td>\n",
       "      <td>0.952035</td>\n",
       "      <td>0.100000</td>\n",
       "      <td>2.0</td>\n",
       "      <td>3.745972</td>\n",
       "      <td>0.000000</td>\n",
       "      <td>0.000000</td>\n",
       "      <td>0.000000</td>\n",
       "      <td>Treron</td>\n",
       "      <td>calvus</td>\n",
       "      <td>104019</td>\n",
       "    </tr>\n",
       "    <tr>\n",
       "      <th>4217</th>\n",
       "      <td>4217</td>\n",
       "      <td>16</td>\n",
       "      <td>139</td>\n",
       "      <td>87</td>\n",
       "      <td>276</td>\n",
       "      <td>107</td>\n",
       "      <td>5986.230469</td>\n",
       "      <td>1.021678</td>\n",
       "      <td>11886.328125</td>\n",
       "      <td>1.253878</td>\n",
       "      <td>...</td>\n",
       "      <td>0.938043</td>\n",
       "      <td>0.040000</td>\n",
       "      <td>1.0</td>\n",
       "      <td>3.114189</td>\n",
       "      <td>0.000000</td>\n",
       "      <td>0.000000</td>\n",
       "      <td>0.000000</td>\n",
       "      <td>Treron</td>\n",
       "      <td>calvus</td>\n",
       "      <td>104019</td>\n",
       "    </tr>\n",
       "    <tr>\n",
       "      <th>4218</th>\n",
       "      <td>4218</td>\n",
       "      <td>17</td>\n",
       "      <td>357</td>\n",
       "      <td>371</td>\n",
       "      <td>498</td>\n",
       "      <td>396</td>\n",
       "      <td>15374.707031</td>\n",
       "      <td>4.318912</td>\n",
       "      <td>21447.070312</td>\n",
       "      <td>4.609161</td>\n",
       "      <td>...</td>\n",
       "      <td>0.945133</td>\n",
       "      <td>0.043478</td>\n",
       "      <td>1.0</td>\n",
       "      <td>4.814023</td>\n",
       "      <td>0.000000</td>\n",
       "      <td>0.000000</td>\n",
       "      <td>0.000000</td>\n",
       "      <td>Treron</td>\n",
       "      <td>calvus</td>\n",
       "      <td>104019</td>\n",
       "    </tr>\n",
       "    <tr>\n",
       "      <th>4219</th>\n",
       "      <td>4219</td>\n",
       "      <td>18</td>\n",
       "      <td>367</td>\n",
       "      <td>493</td>\n",
       "      <td>503</td>\n",
       "      <td>516</td>\n",
       "      <td>15805.371094</td>\n",
       "      <td>5.735329</td>\n",
       "      <td>21662.402344</td>\n",
       "      <td>6.002358</td>\n",
       "      <td>...</td>\n",
       "      <td>NaN</td>\n",
       "      <td>NaN</td>\n",
       "      <td>NaN</td>\n",
       "      <td>NaN</td>\n",
       "      <td>NaN</td>\n",
       "      <td>NaN</td>\n",
       "      <td>NaN</td>\n",
       "      <td>Treron</td>\n",
       "      <td>calvus</td>\n",
       "      <td>104019</td>\n",
       "    </tr>\n",
       "  </tbody>\n",
       "</table>\n",
       "<p>4220 rows × 131 columns</p>\n",
       "</div>"
      ],
      "text/plain": [
       "      Unnamed: 0  ROI_id  min_y  min_x  max_y  max_x         min_f     min_t  \\\n",
       "0              0       1      0    343    137    434      0.000000  3.993832   \n",
       "1              1       2      4    463    406    589    172.265625  5.387029   \n",
       "2              2       3     12    328     31    344    516.796875  3.819683   \n",
       "3              3       4     81     87    110    123   3488.378906  1.021678   \n",
       "4              4       5     82     12    115     53   3531.445312  0.150930   \n",
       "...          ...     ...    ...    ...    ...    ...           ...       ...   \n",
       "4215        4215      14    135    530    207    565   5813.964844  6.164898   \n",
       "4216        4216      15    137    304    289    326   5900.097656  3.541043   \n",
       "4217        4217      16    139     87    276    107   5986.230469  1.021678   \n",
       "4218        4218      17    357    371    498    396  15374.707031  4.318912   \n",
       "4219        4219      18    367    493    503    516  15805.371094  5.735329   \n",
       "\n",
       "             max_f     max_t  ...        Ht  ACTtFraction  ACTtCount  \\\n",
       "0      5900.097656  5.050340  ...  0.902865      0.246032       31.0   \n",
       "1     17484.960938  6.849887  ...  0.862541      0.187500        3.0   \n",
       "2      1335.058594  4.005442  ...  0.842645      0.388889       14.0   \n",
       "3      4737.304688  1.439637  ...  0.922238      0.195122        8.0   \n",
       "4      4952.636719  0.626939  ...  0.906963      0.233333        7.0   \n",
       "...            ...       ...  ...       ...           ...        ...   \n",
       "4215   8914.746094  6.571247  ...  0.957063      0.136364        3.0   \n",
       "4216  12446.191406  3.796463  ...  0.952035      0.100000        2.0   \n",
       "4217  11886.328125  1.253878  ...  0.938043      0.040000        1.0   \n",
       "4218  21447.070312  4.609161  ...  0.945133      0.043478        1.0   \n",
       "4219  21662.402344  6.002358  ...       NaN           NaN        NaN   \n",
       "\n",
       "      ACTtMean  EVNtFraction  EVNtMean  EVNtCount           gen       species  \\\n",
       "0     5.892072      0.206349  0.050310   4.134375  Calendulauda  africanoides   \n",
       "1     4.398765      0.187500  0.034830   5.742187  Calendulauda  africanoides   \n",
       "2     7.238912      0.388889  0.054180   7.382812  Calendulauda  africanoides   \n",
       "3     4.768629      0.170732  0.027090   6.459961  Calendulauda  africanoides   \n",
       "4     4.913164      0.233333  0.040635   5.940194  Calendulauda  africanoides   \n",
       "...        ...           ...       ...        ...           ...           ...   \n",
       "4215  3.546711      0.090909  0.023220   4.101562        Treron        calvus   \n",
       "4216  3.745972      0.000000  0.000000   0.000000        Treron        calvus   \n",
       "4217  3.114189      0.000000  0.000000   0.000000        Treron        calvus   \n",
       "4218  4.814023      0.000000  0.000000   0.000000        Treron        calvus   \n",
       "4219       NaN           NaN       NaN        NaN        Treron        calvus   \n",
       "\n",
       "      sound_id  \n",
       "0       449420  \n",
       "1       449420  \n",
       "2       449420  \n",
       "3       449420  \n",
       "4       449420  \n",
       "...        ...  \n",
       "4215    104019  \n",
       "4216    104019  \n",
       "4217    104019  \n",
       "4218    104019  \n",
       "4219    104019  \n",
       "\n",
       "[4220 rows x 131 columns]"
      ]
     },
     "execution_count": 43,
     "metadata": {},
     "output_type": "execute_result"
    }
   ],
   "source": [
    "df_final"
   ]
  },
  {
   "cell_type": "code",
   "execution_count": 71,
   "metadata": {},
   "outputs": [],
   "source": [
    "gen = ['Andropadus','Macronyx']"
   ]
  },
  {
   "cell_type": "code",
   "execution_count": 47,
   "metadata": {},
   "outputs": [
    {
     "data": {
      "text/plain": [
       "Index(['sound_id', 'Unnamed: 0', 'ROI_id', 'min_y', 'min_x', 'max_y', 'max_x',\n",
       "       'min_f', 'min_t', 'max_f',\n",
       "       ...\n",
       "       'BGNt', 'SNRt', 'MED', 'Ht', 'ACTtFraction', 'ACTtCount', 'ACTtMean',\n",
       "       'EVNtFraction', 'EVNtMean', 'EVNtCount'],\n",
       "      dtype='object', length=129)"
      ]
     },
     "execution_count": 47,
     "metadata": {},
     "output_type": "execute_result"
    }
   ],
   "source": [
    "# dff_grouped.columns"
   ]
  },
  {
   "cell_type": "code",
   "execution_count": 73,
   "metadata": {},
   "outputs": [
    {
     "data": {
      "application/vnd.plotly.v1+json": {
       "config": {
        "plotlyServerURL": "https://plot.ly"
       },
       "data": [
        {
         "alignmentgroup": "True",
         "hovertemplate": "sound_id=316661<br>species=ameliae<br>gen=Macronyx<br>ROI_id=%{x}<br>bandwidth_f=%{y}<extra></extra>",
         "legendgroup": "316661",
         "marker": {
          "color": "#636efa",
          "pattern": {
           "shape": ""
          }
         },
         "name": "316661",
         "offsetgroup": "316661",
         "orientation": "v",
         "showlegend": true,
         "textposition": "auto",
         "type": "bar",
         "x": [
          1,
          2,
          3,
          4,
          5,
          6
         ],
         "xaxis": "x5",
         "y": [
          9517.67578125,
          7838.0859375,
          22006.93359375,
          22006.93359375,
          9087.01171875,
          17571.09375
         ],
         "yaxis": "y5"
        },
        {
         "alignmentgroup": "True",
         "hovertemplate": "sound_id=316658<br>species=ameliae<br>gen=Macronyx<br>ROI_id=%{x}<br>bandwidth_f=%{y}<extra></extra>",
         "legendgroup": "316658",
         "marker": {
          "color": "#EF553B",
          "pattern": {
           "shape": ""
          }
         },
         "name": "316658",
         "offsetgroup": "316658",
         "orientation": "v",
         "showlegend": true,
         "textposition": "auto",
         "type": "bar",
         "x": [
          1,
          2,
          3,
          4,
          5,
          6,
          7,
          8,
          9,
          10,
          11,
          12,
          13,
          14
         ],
         "xaxis": "x5",
         "y": [
          10594.3359375,
          16925.09765625,
          8656.34765625,
          6589.16015625,
          8268.75,
          16063.76953125,
          18475.48828125,
          22006.93359375,
          5943.1640625,
          3229.98046875,
          2583.984375,
          2583.984375,
          2368.65234375,
          1981.0546875
         ],
         "yaxis": "y5"
        },
        {
         "alignmentgroup": "True",
         "hovertemplate": "sound_id=452898<br>species=croceus<br>gen=Macronyx<br>ROI_id=%{x}<br>bandwidth_f=%{y}<extra></extra>",
         "legendgroup": "452898",
         "marker": {
          "color": "#00cc96",
          "pattern": {
           "shape": ""
          }
         },
         "name": "452898",
         "offsetgroup": "452898",
         "orientation": "v",
         "showlegend": true,
         "textposition": "auto",
         "type": "bar",
         "x": [
          1,
          2,
          3,
          4,
          5,
          6,
          7,
          8,
          9,
          10,
          11,
          12,
          13,
          14,
          15,
          16,
          17,
          18,
          19,
          20,
          21,
          22,
          23,
          24,
          25,
          26,
          27,
          28,
          29,
          30,
          31,
          32,
          33,
          34,
          35,
          36,
          37,
          38
         ],
         "xaxis": "x3",
         "y": [
          6933.69140625,
          301.46484375,
          22006.93359375,
          215.33203125,
          1421.19140625,
          14771.77734375,
          4651.171875,
          1033.59375,
          2368.65234375,
          2627.05078125,
          2153.3203125,
          7795.01953125,
          9819.140625,
          6287.6953125,
          5641.69921875,
          2368.65234375,
          4608.10546875,
          2670.1171875,
          4608.10546875,
          3531.4453125,
          5986.23046875,
          7536.62109375,
          3143.84765625,
          4263.57421875,
          5211.03515625,
          5555.56640625,
          4478.90625,
          5297.16796875,
          5038.76953125,
          3919.04296875,
          1119.7265625,
          5211.03515625,
          2756.25,
          4263.57421875,
          2885.44921875,
          3660.64453125,
          5684.765625,
          1937.98828125
         ],
         "yaxis": "y3"
        },
        {
         "alignmentgroup": "True",
         "hovertemplate": "sound_id=453958<br>species=croceus<br>gen=Macronyx<br>ROI_id=%{x}<br>bandwidth_f=%{y}<extra></extra>",
         "legendgroup": "453958",
         "marker": {
          "color": "#ab63fa",
          "pattern": {
           "shape": ""
          }
         },
         "name": "453958",
         "offsetgroup": "453958",
         "orientation": "v",
         "showlegend": true,
         "textposition": "auto",
         "type": "bar",
         "x": [
          2,
          3,
          4,
          5,
          6,
          7,
          8,
          9,
          10,
          11,
          12,
          13,
          14,
          15,
          16,
          17,
          18,
          19,
          20,
          21,
          22,
          23,
          24,
          25,
          26,
          27,
          28,
          29,
          30,
          31,
          32,
          33,
          34,
          35,
          36,
          37,
          38,
          39,
          40,
          41,
          42,
          43,
          44,
          45,
          46,
          47,
          48,
          49,
          50,
          51,
          52,
          53,
          54
         ],
         "xaxis": "x3",
         "y": [
          301.46484375,
          258.3984375,
          344.53125,
          258.3984375,
          430.6640625,
          559.86328125,
          4263.57421875,
          990.52734375,
          473.73046875,
          645.99609375,
          4091.30859375,
          1464.2578125,
          3789.84375,
          645.99609375,
          4263.57421875,
          5426.3671875,
          1808.7890625,
          3746.77734375,
          732.12890625,
          4866.50390625,
          1248.92578125,
          3660.64453125,
          3488.37890625,
          3962.109375,
          3703.7109375,
          2842.3828125,
          2583.984375,
          2885.44921875,
          2540.91796875,
          1335.05859375,
          1076.66015625,
          904.39453125,
          3789.84375,
          4780.37109375,
          2024.12109375,
          1765.72265625,
          4263.57421875,
          947.4609375,
          2928.515625,
          1335.05859375,
          3186.9140625,
          2971.58203125,
          3057.71484375,
          5340.234375,
          2153.3203125,
          2497.8515625,
          2325.5859375,
          2842.3828125,
          2282.51953125,
          1937.98828125,
          1722.65625,
          1076.66015625,
          4995.703125
         ],
         "yaxis": "y3"
        },
        {
         "alignmentgroup": "True",
         "hovertemplate": "sound_id=452897<br>species=croceus<br>gen=Macronyx<br>ROI_id=%{x}<br>bandwidth_f=%{y}<extra></extra>",
         "legendgroup": "452897",
         "marker": {
          "color": "#FFA15A",
          "pattern": {
           "shape": ""
          }
         },
         "name": "452897",
         "offsetgroup": "452897",
         "orientation": "v",
         "showlegend": true,
         "textposition": "auto",
         "type": "bar",
         "x": [
          1,
          2,
          3,
          4,
          5,
          6,
          7,
          8,
          9
         ],
         "xaxis": "x3",
         "y": [
          1679.58984375,
          1636.5234375,
          8268.75,
          8871.6796875,
          7493.5546875,
          6933.69140625,
          6761.42578125,
          7407.421875,
          6933.69140625
         ],
         "yaxis": "y3"
        },
        {
         "alignmentgroup": "True",
         "hovertemplate": "sound_id=104020<br>species=importunus<br>gen=Andropadus<br>ROI_id=%{x}<br>bandwidth_f=%{y}<extra></extra>",
         "legendgroup": "104020",
         "marker": {
          "color": "#19d3f3",
          "pattern": {
           "shape": ""
          }
         },
         "name": "104020",
         "offsetgroup": "104020",
         "orientation": "v",
         "showlegend": true,
         "textposition": "auto",
         "type": "bar",
         "x": [
          1,
          2,
          3,
          4,
          5,
          6,
          7,
          8,
          9,
          10
         ],
         "xaxis": "x2",
         "y": [
          7924.21875,
          7364.35546875,
          7665.8203125,
          6503.02734375,
          12144.7265625,
          1033.59375,
          11111.1328125,
          11111.1328125,
          10422.0703125,
          3186.9140625
         ],
         "yaxis": "y2"
        },
        {
         "alignmentgroup": "True",
         "hovertemplate": "sound_id=104018<br>species=importunus<br>gen=Andropadus<br>ROI_id=%{x}<br>bandwidth_f=%{y}<extra></extra>",
         "legendgroup": "104018",
         "marker": {
          "color": "#FF6692",
          "pattern": {
           "shape": ""
          }
         },
         "name": "104018",
         "offsetgroup": "104018",
         "orientation": "v",
         "showlegend": true,
         "textposition": "auto",
         "type": "bar",
         "x": [
          1,
          2,
          3,
          4,
          5,
          6,
          7,
          8,
          9,
          10,
          11,
          12,
          13,
          14,
          15,
          16,
          17,
          18,
          19,
          20,
          21,
          22,
          23,
          24,
          25,
          26,
          27,
          28,
          29,
          30,
          31,
          32,
          33,
          34,
          35,
          36,
          37,
          38,
          39,
          40,
          41,
          42,
          43,
          44,
          45,
          46,
          47,
          48,
          49,
          50,
          51,
          52,
          53,
          54,
          55,
          56,
          57,
          58,
          59,
          60,
          61,
          62,
          63,
          64,
          65,
          66,
          67,
          68,
          69,
          70,
          71,
          72,
          73,
          74,
          75,
          76,
          77,
          78,
          79,
          80,
          81,
          82,
          83,
          84,
          85,
          86,
          87,
          88,
          89,
          90,
          91,
          92,
          93
         ],
         "xaxis": "x2",
         "y": [
          516.796875,
          775.1953125,
          1119.7265625,
          1162.79296875,
          775.1953125,
          2411.71875,
          1593.45703125,
          818.26171875,
          1464.2578125,
          904.39453125,
          1291.9921875,
          947.4609375,
          689.0625,
          516.796875,
          387.59765625,
          904.39453125,
          947.4609375,
          947.4609375,
          20585.7421875,
          1851.85546875,
          8699.4140625,
          7751.953125,
          10379.00390625,
          6890.625,
          6546.09375,
          6503.02734375,
          5727.83203125,
          6761.42578125,
          6244.62890625,
          12661.5234375,
          6459.9609375,
          5986.23046875,
          5426.3671875,
          4565.0390625,
          3962.109375,
          4306.640625,
          2411.71875,
          2153.3203125,
          8484.08203125,
          3229.98046875,
          1076.66015625,
          6158.49609375,
          2497.8515625,
          2885.44921875,
          4220.5078125,
          4737.3046875,
          4737.3046875,
          4694.23828125,
          7235.15625,
          4306.640625,
          4177.44140625,
          4177.44140625,
          4694.23828125,
          16580.56640625,
          9431.54296875,
          3789.84375,
          4995.703125,
          3789.84375,
          3229.98046875,
          4091.30859375,
          2713.18359375,
          4521.97265625,
          5297.16796875,
          3186.9140625,
          2325.5859375,
          3186.9140625,
          15891.50390625,
          2670.1171875,
          1851.85546875,
          8311.81640625,
          13910.44921875,
          1076.66015625,
          947.4609375,
          861.328125,
          1033.59375,
          775.1953125,
          7622.75390625,
          12101.66015625,
          1033.59375,
          10034.47265625,
          9733.0078125,
          8527.1484375,
          1937.98828125,
          5813.96484375,
          5426.3671875,
          5124.90234375,
          4005.17578125,
          3832.91015625,
          3703.7109375,
          3660.64453125,
          3229.98046875,
          2713.18359375,
          818.26171875
         ],
         "yaxis": "y2"
        },
        {
         "alignmentgroup": "True",
         "hovertemplate": "sound_id=59737<br>species=importunus<br>gen=Andropadus<br>ROI_id=%{x}<br>bandwidth_f=%{y}<extra></extra>",
         "legendgroup": "59737",
         "marker": {
          "color": "#B6E880",
          "pattern": {
           "shape": ""
          }
         },
         "name": "59737",
         "offsetgroup": "59737",
         "orientation": "v",
         "showlegend": true,
         "textposition": "auto",
         "type": "bar",
         "x": [
          1,
          2,
          3,
          4,
          5,
          6,
          7,
          8,
          9,
          10,
          11,
          12,
          13,
          14,
          15,
          16,
          17,
          18,
          19,
          20,
          21,
          22,
          23,
          24,
          25,
          26,
          27,
          28,
          29,
          30,
          31,
          32,
          33,
          34,
          35
         ],
         "xaxis": "x2",
         "y": [
          8010.3515625,
          7493.5546875,
          7105.95703125,
          7278.22265625,
          8096.484375,
          10551.26953125,
          6804.4921875,
          5727.83203125,
          5943.1640625,
          5943.1640625,
          6632.2265625,
          4694.23828125,
          4823.4375,
          5684.765625,
          4306.640625,
          4909.5703125,
          6503.02734375,
          6459.9609375,
          4392.7734375,
          6503.02734375,
          5684.765625,
          5900.09765625,
          8613.28125,
          3746.77734375,
          3832.91015625,
          3057.71484375,
          4521.97265625,
          4694.23828125,
          4737.3046875,
          1765.72265625,
          1076.66015625,
          2282.51953125,
          344.53125,
          1981.0546875,
          1679.58984375
         ],
         "yaxis": "y2"
        },
        {
         "alignmentgroup": "True",
         "hovertemplate": "sound_id=392008<br>species=importunus<br>gen=Andropadus<br>ROI_id=%{x}<br>bandwidth_f=%{y}<extra></extra>",
         "legendgroup": "392008",
         "marker": {
          "color": "#FF97FF",
          "pattern": {
           "shape": ""
          }
         },
         "name": "392008",
         "offsetgroup": "392008",
         "orientation": "v",
         "showlegend": true,
         "textposition": "auto",
         "type": "bar",
         "x": [
          1,
          2,
          3,
          4,
          5,
          6,
          7,
          8,
          9,
          10,
          11,
          12,
          13,
          14,
          15,
          16,
          17,
          18,
          19,
          20,
          21,
          22,
          23,
          24,
          25,
          26,
          27,
          28
         ],
         "xaxis": "x2",
         "y": [
          10379.00390625,
          904.39453125,
          9862.20703125,
          10594.3359375,
          20973.33984375,
          18906.15234375,
          7536.62109375,
          7192.08984375,
          6804.4921875,
          7062.890625,
          6804.4921875,
          7019.82421875,
          6718.359375,
          6718.359375,
          6589.16015625,
          7407.421875,
          6933.69140625,
          7924.21875,
          4780.37109375,
          2583.984375,
          2842.3828125,
          818.26171875,
          2799.31640625,
          1636.5234375,
          2153.3203125,
          7493.5546875,
          1291.9921875,
          1076.66015625
         ],
         "yaxis": "y2"
        }
       ],
       "layout": {
        "annotations": [
         {
          "font": {},
          "showarrow": false,
          "text": "gen=Macronyx",
          "x": 0.24,
          "xanchor": "center",
          "xref": "paper",
          "y": 0.9999999999999998,
          "yanchor": "bottom",
          "yref": "paper"
         },
         {
          "font": {},
          "showarrow": false,
          "text": "gen=Andropadus",
          "x": 0.74,
          "xanchor": "center",
          "xref": "paper",
          "y": 0.9999999999999998,
          "yanchor": "bottom",
          "yref": "paper"
         },
         {
          "font": {},
          "showarrow": false,
          "text": "species=importunus",
          "textangle": 90,
          "x": 0.98,
          "xanchor": "left",
          "xref": "paper",
          "y": 0.15666666666666665,
          "yanchor": "middle",
          "yref": "paper"
         },
         {
          "font": {},
          "showarrow": false,
          "text": "species=croceus",
          "textangle": 90,
          "x": 0.98,
          "xanchor": "left",
          "xref": "paper",
          "y": 0.4999999999999999,
          "yanchor": "middle",
          "yref": "paper"
         },
         {
          "font": {},
          "showarrow": false,
          "text": "species=ameliae",
          "textangle": 90,
          "x": 0.98,
          "xanchor": "left",
          "xref": "paper",
          "y": 0.8433333333333332,
          "yanchor": "middle",
          "yref": "paper"
         }
        ],
        "barmode": "relative",
        "height": 1000,
        "legend": {
         "title": {
          "text": "sound_id"
         },
         "tracegroupgap": 0
        },
        "template": {
         "data": {
          "bar": [
           {
            "error_x": {
             "color": "#2a3f5f"
            },
            "error_y": {
             "color": "#2a3f5f"
            },
            "marker": {
             "line": {
              "color": "#E5ECF6",
              "width": 0.5
             },
             "pattern": {
              "fillmode": "overlay",
              "size": 10,
              "solidity": 0.2
             }
            },
            "type": "bar"
           }
          ],
          "barpolar": [
           {
            "marker": {
             "line": {
              "color": "#E5ECF6",
              "width": 0.5
             },
             "pattern": {
              "fillmode": "overlay",
              "size": 10,
              "solidity": 0.2
             }
            },
            "type": "barpolar"
           }
          ],
          "carpet": [
           {
            "aaxis": {
             "endlinecolor": "#2a3f5f",
             "gridcolor": "white",
             "linecolor": "white",
             "minorgridcolor": "white",
             "startlinecolor": "#2a3f5f"
            },
            "baxis": {
             "endlinecolor": "#2a3f5f",
             "gridcolor": "white",
             "linecolor": "white",
             "minorgridcolor": "white",
             "startlinecolor": "#2a3f5f"
            },
            "type": "carpet"
           }
          ],
          "choropleth": [
           {
            "colorbar": {
             "outlinewidth": 0,
             "ticks": ""
            },
            "type": "choropleth"
           }
          ],
          "contour": [
           {
            "colorbar": {
             "outlinewidth": 0,
             "ticks": ""
            },
            "colorscale": [
             [
              0,
              "#0d0887"
             ],
             [
              0.1111111111111111,
              "#46039f"
             ],
             [
              0.2222222222222222,
              "#7201a8"
             ],
             [
              0.3333333333333333,
              "#9c179e"
             ],
             [
              0.4444444444444444,
              "#bd3786"
             ],
             [
              0.5555555555555556,
              "#d8576b"
             ],
             [
              0.6666666666666666,
              "#ed7953"
             ],
             [
              0.7777777777777778,
              "#fb9f3a"
             ],
             [
              0.8888888888888888,
              "#fdca26"
             ],
             [
              1,
              "#f0f921"
             ]
            ],
            "type": "contour"
           }
          ],
          "contourcarpet": [
           {
            "colorbar": {
             "outlinewidth": 0,
             "ticks": ""
            },
            "type": "contourcarpet"
           }
          ],
          "heatmap": [
           {
            "colorbar": {
             "outlinewidth": 0,
             "ticks": ""
            },
            "colorscale": [
             [
              0,
              "#0d0887"
             ],
             [
              0.1111111111111111,
              "#46039f"
             ],
             [
              0.2222222222222222,
              "#7201a8"
             ],
             [
              0.3333333333333333,
              "#9c179e"
             ],
             [
              0.4444444444444444,
              "#bd3786"
             ],
             [
              0.5555555555555556,
              "#d8576b"
             ],
             [
              0.6666666666666666,
              "#ed7953"
             ],
             [
              0.7777777777777778,
              "#fb9f3a"
             ],
             [
              0.8888888888888888,
              "#fdca26"
             ],
             [
              1,
              "#f0f921"
             ]
            ],
            "type": "heatmap"
           }
          ],
          "heatmapgl": [
           {
            "colorbar": {
             "outlinewidth": 0,
             "ticks": ""
            },
            "colorscale": [
             [
              0,
              "#0d0887"
             ],
             [
              0.1111111111111111,
              "#46039f"
             ],
             [
              0.2222222222222222,
              "#7201a8"
             ],
             [
              0.3333333333333333,
              "#9c179e"
             ],
             [
              0.4444444444444444,
              "#bd3786"
             ],
             [
              0.5555555555555556,
              "#d8576b"
             ],
             [
              0.6666666666666666,
              "#ed7953"
             ],
             [
              0.7777777777777778,
              "#fb9f3a"
             ],
             [
              0.8888888888888888,
              "#fdca26"
             ],
             [
              1,
              "#f0f921"
             ]
            ],
            "type": "heatmapgl"
           }
          ],
          "histogram": [
           {
            "marker": {
             "pattern": {
              "fillmode": "overlay",
              "size": 10,
              "solidity": 0.2
             }
            },
            "type": "histogram"
           }
          ],
          "histogram2d": [
           {
            "colorbar": {
             "outlinewidth": 0,
             "ticks": ""
            },
            "colorscale": [
             [
              0,
              "#0d0887"
             ],
             [
              0.1111111111111111,
              "#46039f"
             ],
             [
              0.2222222222222222,
              "#7201a8"
             ],
             [
              0.3333333333333333,
              "#9c179e"
             ],
             [
              0.4444444444444444,
              "#bd3786"
             ],
             [
              0.5555555555555556,
              "#d8576b"
             ],
             [
              0.6666666666666666,
              "#ed7953"
             ],
             [
              0.7777777777777778,
              "#fb9f3a"
             ],
             [
              0.8888888888888888,
              "#fdca26"
             ],
             [
              1,
              "#f0f921"
             ]
            ],
            "type": "histogram2d"
           }
          ],
          "histogram2dcontour": [
           {
            "colorbar": {
             "outlinewidth": 0,
             "ticks": ""
            },
            "colorscale": [
             [
              0,
              "#0d0887"
             ],
             [
              0.1111111111111111,
              "#46039f"
             ],
             [
              0.2222222222222222,
              "#7201a8"
             ],
             [
              0.3333333333333333,
              "#9c179e"
             ],
             [
              0.4444444444444444,
              "#bd3786"
             ],
             [
              0.5555555555555556,
              "#d8576b"
             ],
             [
              0.6666666666666666,
              "#ed7953"
             ],
             [
              0.7777777777777778,
              "#fb9f3a"
             ],
             [
              0.8888888888888888,
              "#fdca26"
             ],
             [
              1,
              "#f0f921"
             ]
            ],
            "type": "histogram2dcontour"
           }
          ],
          "mesh3d": [
           {
            "colorbar": {
             "outlinewidth": 0,
             "ticks": ""
            },
            "type": "mesh3d"
           }
          ],
          "parcoords": [
           {
            "line": {
             "colorbar": {
              "outlinewidth": 0,
              "ticks": ""
             }
            },
            "type": "parcoords"
           }
          ],
          "pie": [
           {
            "automargin": true,
            "type": "pie"
           }
          ],
          "scatter": [
           {
            "fillpattern": {
             "fillmode": "overlay",
             "size": 10,
             "solidity": 0.2
            },
            "type": "scatter"
           }
          ],
          "scatter3d": [
           {
            "line": {
             "colorbar": {
              "outlinewidth": 0,
              "ticks": ""
             }
            },
            "marker": {
             "colorbar": {
              "outlinewidth": 0,
              "ticks": ""
             }
            },
            "type": "scatter3d"
           }
          ],
          "scattercarpet": [
           {
            "marker": {
             "colorbar": {
              "outlinewidth": 0,
              "ticks": ""
             }
            },
            "type": "scattercarpet"
           }
          ],
          "scattergeo": [
           {
            "marker": {
             "colorbar": {
              "outlinewidth": 0,
              "ticks": ""
             }
            },
            "type": "scattergeo"
           }
          ],
          "scattergl": [
           {
            "marker": {
             "colorbar": {
              "outlinewidth": 0,
              "ticks": ""
             }
            },
            "type": "scattergl"
           }
          ],
          "scattermapbox": [
           {
            "marker": {
             "colorbar": {
              "outlinewidth": 0,
              "ticks": ""
             }
            },
            "type": "scattermapbox"
           }
          ],
          "scatterpolar": [
           {
            "marker": {
             "colorbar": {
              "outlinewidth": 0,
              "ticks": ""
             }
            },
            "type": "scatterpolar"
           }
          ],
          "scatterpolargl": [
           {
            "marker": {
             "colorbar": {
              "outlinewidth": 0,
              "ticks": ""
             }
            },
            "type": "scatterpolargl"
           }
          ],
          "scatterternary": [
           {
            "marker": {
             "colorbar": {
              "outlinewidth": 0,
              "ticks": ""
             }
            },
            "type": "scatterternary"
           }
          ],
          "surface": [
           {
            "colorbar": {
             "outlinewidth": 0,
             "ticks": ""
            },
            "colorscale": [
             [
              0,
              "#0d0887"
             ],
             [
              0.1111111111111111,
              "#46039f"
             ],
             [
              0.2222222222222222,
              "#7201a8"
             ],
             [
              0.3333333333333333,
              "#9c179e"
             ],
             [
              0.4444444444444444,
              "#bd3786"
             ],
             [
              0.5555555555555556,
              "#d8576b"
             ],
             [
              0.6666666666666666,
              "#ed7953"
             ],
             [
              0.7777777777777778,
              "#fb9f3a"
             ],
             [
              0.8888888888888888,
              "#fdca26"
             ],
             [
              1,
              "#f0f921"
             ]
            ],
            "type": "surface"
           }
          ],
          "table": [
           {
            "cells": {
             "fill": {
              "color": "#EBF0F8"
             },
             "line": {
              "color": "white"
             }
            },
            "header": {
             "fill": {
              "color": "#C8D4E3"
             },
             "line": {
              "color": "white"
             }
            },
            "type": "table"
           }
          ]
         },
         "layout": {
          "annotationdefaults": {
           "arrowcolor": "#2a3f5f",
           "arrowhead": 0,
           "arrowwidth": 1
          },
          "autotypenumbers": "strict",
          "coloraxis": {
           "colorbar": {
            "outlinewidth": 0,
            "ticks": ""
           }
          },
          "colorscale": {
           "diverging": [
            [
             0,
             "#8e0152"
            ],
            [
             0.1,
             "#c51b7d"
            ],
            [
             0.2,
             "#de77ae"
            ],
            [
             0.3,
             "#f1b6da"
            ],
            [
             0.4,
             "#fde0ef"
            ],
            [
             0.5,
             "#f7f7f7"
            ],
            [
             0.6,
             "#e6f5d0"
            ],
            [
             0.7,
             "#b8e186"
            ],
            [
             0.8,
             "#7fbc41"
            ],
            [
             0.9,
             "#4d9221"
            ],
            [
             1,
             "#276419"
            ]
           ],
           "sequential": [
            [
             0,
             "#0d0887"
            ],
            [
             0.1111111111111111,
             "#46039f"
            ],
            [
             0.2222222222222222,
             "#7201a8"
            ],
            [
             0.3333333333333333,
             "#9c179e"
            ],
            [
             0.4444444444444444,
             "#bd3786"
            ],
            [
             0.5555555555555556,
             "#d8576b"
            ],
            [
             0.6666666666666666,
             "#ed7953"
            ],
            [
             0.7777777777777778,
             "#fb9f3a"
            ],
            [
             0.8888888888888888,
             "#fdca26"
            ],
            [
             1,
             "#f0f921"
            ]
           ],
           "sequentialminus": [
            [
             0,
             "#0d0887"
            ],
            [
             0.1111111111111111,
             "#46039f"
            ],
            [
             0.2222222222222222,
             "#7201a8"
            ],
            [
             0.3333333333333333,
             "#9c179e"
            ],
            [
             0.4444444444444444,
             "#bd3786"
            ],
            [
             0.5555555555555556,
             "#d8576b"
            ],
            [
             0.6666666666666666,
             "#ed7953"
            ],
            [
             0.7777777777777778,
             "#fb9f3a"
            ],
            [
             0.8888888888888888,
             "#fdca26"
            ],
            [
             1,
             "#f0f921"
            ]
           ]
          },
          "colorway": [
           "#636efa",
           "#EF553B",
           "#00cc96",
           "#ab63fa",
           "#FFA15A",
           "#19d3f3",
           "#FF6692",
           "#B6E880",
           "#FF97FF",
           "#FECB52"
          ],
          "font": {
           "color": "#2a3f5f"
          },
          "geo": {
           "bgcolor": "white",
           "lakecolor": "white",
           "landcolor": "#E5ECF6",
           "showlakes": true,
           "showland": true,
           "subunitcolor": "white"
          },
          "hoverlabel": {
           "align": "left"
          },
          "hovermode": "closest",
          "mapbox": {
           "style": "light"
          },
          "paper_bgcolor": "white",
          "plot_bgcolor": "#E5ECF6",
          "polar": {
           "angularaxis": {
            "gridcolor": "white",
            "linecolor": "white",
            "ticks": ""
           },
           "bgcolor": "#E5ECF6",
           "radialaxis": {
            "gridcolor": "white",
            "linecolor": "white",
            "ticks": ""
           }
          },
          "scene": {
           "xaxis": {
            "backgroundcolor": "#E5ECF6",
            "gridcolor": "white",
            "gridwidth": 2,
            "linecolor": "white",
            "showbackground": true,
            "ticks": "",
            "zerolinecolor": "white"
           },
           "yaxis": {
            "backgroundcolor": "#E5ECF6",
            "gridcolor": "white",
            "gridwidth": 2,
            "linecolor": "white",
            "showbackground": true,
            "ticks": "",
            "zerolinecolor": "white"
           },
           "zaxis": {
            "backgroundcolor": "#E5ECF6",
            "gridcolor": "white",
            "gridwidth": 2,
            "linecolor": "white",
            "showbackground": true,
            "ticks": "",
            "zerolinecolor": "white"
           }
          },
          "shapedefaults": {
           "line": {
            "color": "#2a3f5f"
           }
          },
          "ternary": {
           "aaxis": {
            "gridcolor": "white",
            "linecolor": "white",
            "ticks": ""
           },
           "baxis": {
            "gridcolor": "white",
            "linecolor": "white",
            "ticks": ""
           },
           "bgcolor": "#E5ECF6",
           "caxis": {
            "gridcolor": "white",
            "linecolor": "white",
            "ticks": ""
           }
          },
          "title": {
           "x": 0.05
          },
          "xaxis": {
           "automargin": true,
           "gridcolor": "white",
           "linecolor": "white",
           "ticks": "",
           "title": {
            "standoff": 15
           },
           "zerolinecolor": "white",
           "zerolinewidth": 2
          },
          "yaxis": {
           "automargin": true,
           "gridcolor": "white",
           "linecolor": "white",
           "ticks": "",
           "title": {
            "standoff": 15
           },
           "zerolinecolor": "white",
           "zerolinewidth": 2
          }
         }
        },
        "title": {
         "text": "Selected family: ['Andropadus', 'Macronyx'], there are 9 recordings"
        },
        "xaxis": {
         "anchor": "y",
         "domain": [
          0,
          0.48
         ],
         "title": {
          "text": "ROI_id"
         }
        },
        "xaxis2": {
         "anchor": "y2",
         "domain": [
          0.5,
          0.98
         ],
         "matches": "x",
         "title": {
          "text": "ROI_id"
         }
        },
        "xaxis3": {
         "anchor": "y3",
         "domain": [
          0,
          0.48
         ],
         "matches": "x",
         "showticklabels": false
        },
        "xaxis4": {
         "anchor": "y4",
         "domain": [
          0.5,
          0.98
         ],
         "matches": "x",
         "showticklabels": false
        },
        "xaxis5": {
         "anchor": "y5",
         "domain": [
          0,
          0.48
         ],
         "matches": "x",
         "showticklabels": false
        },
        "xaxis6": {
         "anchor": "y6",
         "domain": [
          0.5,
          0.98
         ],
         "matches": "x",
         "showticklabels": false
        },
        "yaxis": {
         "anchor": "x",
         "domain": [
          0,
          0.3133333333333333
         ],
         "title": {
          "text": "bandwidth_f"
         }
        },
        "yaxis2": {
         "anchor": "x2",
         "domain": [
          0,
          0.3133333333333333
         ],
         "matches": "y",
         "showticklabels": false
        },
        "yaxis3": {
         "anchor": "x3",
         "domain": [
          0.34333333333333327,
          0.6566666666666665
         ],
         "matches": "y",
         "title": {
          "text": "bandwidth_f"
         }
        },
        "yaxis4": {
         "anchor": "x4",
         "domain": [
          0.34333333333333327,
          0.6566666666666665
         ],
         "matches": "y",
         "showticklabels": false
        },
        "yaxis5": {
         "anchor": "x5",
         "domain": [
          0.6866666666666665,
          0.9999999999999998
         ],
         "matches": "y",
         "title": {
          "text": "bandwidth_f"
         }
        },
        "yaxis6": {
         "anchor": "x6",
         "domain": [
          0.6866666666666665,
          0.9999999999999998
         ],
         "matches": "y",
         "showticklabels": false
        }
       }
      }
     },
     "metadata": {},
     "output_type": "display_data"
    }
   ],
   "source": [
    "dff = df_final.copy()\n",
    "dff['sound_id'] = dff['sound_id'].astype(str)\n",
    "dff = dff[dff['gen'].isin(gen)]\n",
    "recno = len(dff['sound_id'].unique())\n",
    "\n",
    "# fig = make_subplots(rows=3, cols=1)\n",
    "\n",
    "px.bar(dff, x=\"ROI_id\", y=\"bandwidth_f\", \n",
    "                 color=\"sound_id\",facet_row='species',facet_col = 'gen', title=f'Selected family: {gen}, there are {recno} recordings',height=1000)\n",
    "\n",
    "# # #groupby recording and compute mean_roi\n",
    "# dff_grouped = dff.groupby('sound_id').mean()\n",
    "# dff_grouped = dff_grouped.reset_index()\n",
    "# dff_grouped['ROI_id'] = dff_grouped['ROI_id'].astype(str)\n",
    "\n",
    "# fig = px.bar(dff_grouped, x=\"ROI_id\", y=\"bandwidth_f\", \n",
    "#                  color=\"sound_id\", barmode='group',facet_row='species', facet_col='gen', title=f'Selected family: {gen}, there are {recno} recordings')"
   ]
  },
  {
   "cell_type": "code",
   "execution_count": 39,
   "metadata": {},
   "outputs": [
    {
     "data": {
      "application/vnd.plotly.v1+json": {
       "config": {
        "plotlyServerURL": "https://plot.ly"
       },
       "data": [
        {
         "alignmentgroup": "True",
         "hovertemplate": "sound_id=104018<br>ROI_id=%{x}<br>bandwidth_f=%{y}<extra></extra>",
         "legendgroup": "104018",
         "marker": {
          "color": "#636efa",
          "pattern": {
           "shape": ""
          }
         },
         "name": "104018",
         "offsetgroup": "104018",
         "orientation": "v",
         "showlegend": true,
         "textposition": "auto",
         "type": "bar",
         "x": [
          "47.0"
         ],
         "xaxis": "x",
         "y": [
          4571.522177419355
         ],
         "yaxis": "y"
        },
        {
         "alignmentgroup": "True",
         "hovertemplate": "sound_id=104019<br>ROI_id=%{x}<br>bandwidth_f=%{y}<extra></extra>",
         "legendgroup": "104019",
         "marker": {
          "color": "#EF553B",
          "pattern": {
           "shape": ""
          }
         },
         "name": "104019",
         "offsetgroup": "104019",
         "orientation": "v",
         "showlegend": true,
         "textposition": "auto",
         "type": "bar",
         "x": [
          "9.5"
         ],
         "xaxis": "x",
         "y": [
          5636.9140625
         ],
         "yaxis": "y"
        },
        {
         "alignmentgroup": "True",
         "hovertemplate": "sound_id=104020<br>ROI_id=%{x}<br>bandwidth_f=%{y}<extra></extra>",
         "legendgroup": "104020",
         "marker": {
          "color": "#00cc96",
          "pattern": {
           "shape": ""
          }
         },
         "name": "104020",
         "offsetgroup": "104020",
         "orientation": "v",
         "showlegend": true,
         "textposition": "auto",
         "type": "bar",
         "x": [
          "5.5"
         ],
         "xaxis": "x",
         "y": [
          7846.69921875
         ],
         "yaxis": "y"
        },
        {
         "alignmentgroup": "True",
         "hovertemplate": "sound_id=316658<br>ROI_id=%{x}<br>bandwidth_f=%{y}<extra></extra>",
         "legendgroup": "316658",
         "marker": {
          "color": "#ab63fa",
          "pattern": {
           "shape": ""
          }
         },
         "name": "316658",
         "offsetgroup": "316658",
         "orientation": "v",
         "showlegend": true,
         "textposition": "auto",
         "type": "bar",
         "x": [
          "7.5"
         ],
         "xaxis": "x",
         "y": [
          9019.3359375
         ],
         "yaxis": "y"
        },
        {
         "alignmentgroup": "True",
         "hovertemplate": "sound_id=316661<br>ROI_id=%{x}<br>bandwidth_f=%{y}<extra></extra>",
         "legendgroup": "316661",
         "marker": {
          "color": "#FFA15A",
          "pattern": {
           "shape": ""
          }
         },
         "name": "316661",
         "offsetgroup": "316661",
         "orientation": "v",
         "showlegend": true,
         "textposition": "auto",
         "type": "bar",
         "x": [
          "3.5"
         ],
         "xaxis": "x",
         "y": [
          14671.2890625
         ],
         "yaxis": "y"
        },
        {
         "alignmentgroup": "True",
         "hovertemplate": "sound_id=392008<br>ROI_id=%{x}<br>bandwidth_f=%{y}<extra></extra>",
         "legendgroup": "392008",
         "marker": {
          "color": "#19d3f3",
          "pattern": {
           "shape": ""
          }
         },
         "name": "392008",
         "offsetgroup": "392008",
         "orientation": "v",
         "showlegend": true,
         "textposition": "auto",
         "type": "bar",
         "x": [
          "14.5"
         ],
         "xaxis": "x",
         "y": [
          6564.55078125
         ],
         "yaxis": "y"
        },
        {
         "alignmentgroup": "True",
         "hovertemplate": "sound_id=452897<br>ROI_id=%{x}<br>bandwidth_f=%{y}<extra></extra>",
         "legendgroup": "452897",
         "marker": {
          "color": "#FF6692",
          "pattern": {
           "shape": ""
          }
         },
         "name": "452897",
         "offsetgroup": "452897",
         "orientation": "v",
         "showlegend": true,
         "textposition": "auto",
         "type": "bar",
         "x": [
          "5.0"
         ],
         "xaxis": "x",
         "y": [
          6220.703125
         ],
         "yaxis": "y"
        },
        {
         "alignmentgroup": "True",
         "hovertemplate": "sound_id=452898<br>ROI_id=%{x}<br>bandwidth_f=%{y}<extra></extra>",
         "legendgroup": "452898",
         "marker": {
          "color": "#B6E880",
          "pattern": {
           "shape": ""
          }
         },
         "name": "452898",
         "offsetgroup": "452898",
         "orientation": "v",
         "showlegend": true,
         "textposition": "auto",
         "type": "bar",
         "x": [
          "19.5"
         ],
         "xaxis": "x",
         "y": [
          4835.904091282895
         ],
         "yaxis": "y"
        },
        {
         "alignmentgroup": "True",
         "hovertemplate": "sound_id=453958<br>ROI_id=%{x}<br>bandwidth_f=%{y}<extra></extra>",
         "legendgroup": "453958",
         "marker": {
          "color": "#FF97FF",
          "pattern": {
           "shape": ""
          }
         },
         "name": "453958",
         "offsetgroup": "453958",
         "orientation": "v",
         "showlegend": true,
         "textposition": "auto",
         "type": "bar",
         "x": [
          "28.0"
         ],
         "xaxis": "x",
         "y": [
          2411.71875
         ],
         "yaxis": "y"
        },
        {
         "alignmentgroup": "True",
         "hovertemplate": "sound_id=59737<br>ROI_id=%{x}<br>bandwidth_f=%{y}<extra></extra>",
         "legendgroup": "59737",
         "marker": {
          "color": "#FECB52",
          "pattern": {
           "shape": ""
          }
         },
         "name": "59737",
         "offsetgroup": "59737",
         "orientation": "v",
         "showlegend": true,
         "textposition": "auto",
         "type": "bar",
         "x": [
          "18.0"
         ],
         "xaxis": "x",
         "y": [
          5193.80859375
         ],
         "yaxis": "y"
        }
       ],
       "layout": {
        "barmode": "group",
        "legend": {
         "title": {
          "text": "sound_id"
         },
         "tracegroupgap": 0
        },
        "template": {
         "data": {
          "bar": [
           {
            "error_x": {
             "color": "#2a3f5f"
            },
            "error_y": {
             "color": "#2a3f5f"
            },
            "marker": {
             "line": {
              "color": "#E5ECF6",
              "width": 0.5
             },
             "pattern": {
              "fillmode": "overlay",
              "size": 10,
              "solidity": 0.2
             }
            },
            "type": "bar"
           }
          ],
          "barpolar": [
           {
            "marker": {
             "line": {
              "color": "#E5ECF6",
              "width": 0.5
             },
             "pattern": {
              "fillmode": "overlay",
              "size": 10,
              "solidity": 0.2
             }
            },
            "type": "barpolar"
           }
          ],
          "carpet": [
           {
            "aaxis": {
             "endlinecolor": "#2a3f5f",
             "gridcolor": "white",
             "linecolor": "white",
             "minorgridcolor": "white",
             "startlinecolor": "#2a3f5f"
            },
            "baxis": {
             "endlinecolor": "#2a3f5f",
             "gridcolor": "white",
             "linecolor": "white",
             "minorgridcolor": "white",
             "startlinecolor": "#2a3f5f"
            },
            "type": "carpet"
           }
          ],
          "choropleth": [
           {
            "colorbar": {
             "outlinewidth": 0,
             "ticks": ""
            },
            "type": "choropleth"
           }
          ],
          "contour": [
           {
            "colorbar": {
             "outlinewidth": 0,
             "ticks": ""
            },
            "colorscale": [
             [
              0,
              "#0d0887"
             ],
             [
              0.1111111111111111,
              "#46039f"
             ],
             [
              0.2222222222222222,
              "#7201a8"
             ],
             [
              0.3333333333333333,
              "#9c179e"
             ],
             [
              0.4444444444444444,
              "#bd3786"
             ],
             [
              0.5555555555555556,
              "#d8576b"
             ],
             [
              0.6666666666666666,
              "#ed7953"
             ],
             [
              0.7777777777777778,
              "#fb9f3a"
             ],
             [
              0.8888888888888888,
              "#fdca26"
             ],
             [
              1,
              "#f0f921"
             ]
            ],
            "type": "contour"
           }
          ],
          "contourcarpet": [
           {
            "colorbar": {
             "outlinewidth": 0,
             "ticks": ""
            },
            "type": "contourcarpet"
           }
          ],
          "heatmap": [
           {
            "colorbar": {
             "outlinewidth": 0,
             "ticks": ""
            },
            "colorscale": [
             [
              0,
              "#0d0887"
             ],
             [
              0.1111111111111111,
              "#46039f"
             ],
             [
              0.2222222222222222,
              "#7201a8"
             ],
             [
              0.3333333333333333,
              "#9c179e"
             ],
             [
              0.4444444444444444,
              "#bd3786"
             ],
             [
              0.5555555555555556,
              "#d8576b"
             ],
             [
              0.6666666666666666,
              "#ed7953"
             ],
             [
              0.7777777777777778,
              "#fb9f3a"
             ],
             [
              0.8888888888888888,
              "#fdca26"
             ],
             [
              1,
              "#f0f921"
             ]
            ],
            "type": "heatmap"
           }
          ],
          "heatmapgl": [
           {
            "colorbar": {
             "outlinewidth": 0,
             "ticks": ""
            },
            "colorscale": [
             [
              0,
              "#0d0887"
             ],
             [
              0.1111111111111111,
              "#46039f"
             ],
             [
              0.2222222222222222,
              "#7201a8"
             ],
             [
              0.3333333333333333,
              "#9c179e"
             ],
             [
              0.4444444444444444,
              "#bd3786"
             ],
             [
              0.5555555555555556,
              "#d8576b"
             ],
             [
              0.6666666666666666,
              "#ed7953"
             ],
             [
              0.7777777777777778,
              "#fb9f3a"
             ],
             [
              0.8888888888888888,
              "#fdca26"
             ],
             [
              1,
              "#f0f921"
             ]
            ],
            "type": "heatmapgl"
           }
          ],
          "histogram": [
           {
            "marker": {
             "pattern": {
              "fillmode": "overlay",
              "size": 10,
              "solidity": 0.2
             }
            },
            "type": "histogram"
           }
          ],
          "histogram2d": [
           {
            "colorbar": {
             "outlinewidth": 0,
             "ticks": ""
            },
            "colorscale": [
             [
              0,
              "#0d0887"
             ],
             [
              0.1111111111111111,
              "#46039f"
             ],
             [
              0.2222222222222222,
              "#7201a8"
             ],
             [
              0.3333333333333333,
              "#9c179e"
             ],
             [
              0.4444444444444444,
              "#bd3786"
             ],
             [
              0.5555555555555556,
              "#d8576b"
             ],
             [
              0.6666666666666666,
              "#ed7953"
             ],
             [
              0.7777777777777778,
              "#fb9f3a"
             ],
             [
              0.8888888888888888,
              "#fdca26"
             ],
             [
              1,
              "#f0f921"
             ]
            ],
            "type": "histogram2d"
           }
          ],
          "histogram2dcontour": [
           {
            "colorbar": {
             "outlinewidth": 0,
             "ticks": ""
            },
            "colorscale": [
             [
              0,
              "#0d0887"
             ],
             [
              0.1111111111111111,
              "#46039f"
             ],
             [
              0.2222222222222222,
              "#7201a8"
             ],
             [
              0.3333333333333333,
              "#9c179e"
             ],
             [
              0.4444444444444444,
              "#bd3786"
             ],
             [
              0.5555555555555556,
              "#d8576b"
             ],
             [
              0.6666666666666666,
              "#ed7953"
             ],
             [
              0.7777777777777778,
              "#fb9f3a"
             ],
             [
              0.8888888888888888,
              "#fdca26"
             ],
             [
              1,
              "#f0f921"
             ]
            ],
            "type": "histogram2dcontour"
           }
          ],
          "mesh3d": [
           {
            "colorbar": {
             "outlinewidth": 0,
             "ticks": ""
            },
            "type": "mesh3d"
           }
          ],
          "parcoords": [
           {
            "line": {
             "colorbar": {
              "outlinewidth": 0,
              "ticks": ""
             }
            },
            "type": "parcoords"
           }
          ],
          "pie": [
           {
            "automargin": true,
            "type": "pie"
           }
          ],
          "scatter": [
           {
            "fillpattern": {
             "fillmode": "overlay",
             "size": 10,
             "solidity": 0.2
            },
            "type": "scatter"
           }
          ],
          "scatter3d": [
           {
            "line": {
             "colorbar": {
              "outlinewidth": 0,
              "ticks": ""
             }
            },
            "marker": {
             "colorbar": {
              "outlinewidth": 0,
              "ticks": ""
             }
            },
            "type": "scatter3d"
           }
          ],
          "scattercarpet": [
           {
            "marker": {
             "colorbar": {
              "outlinewidth": 0,
              "ticks": ""
             }
            },
            "type": "scattercarpet"
           }
          ],
          "scattergeo": [
           {
            "marker": {
             "colorbar": {
              "outlinewidth": 0,
              "ticks": ""
             }
            },
            "type": "scattergeo"
           }
          ],
          "scattergl": [
           {
            "marker": {
             "colorbar": {
              "outlinewidth": 0,
              "ticks": ""
             }
            },
            "type": "scattergl"
           }
          ],
          "scattermapbox": [
           {
            "marker": {
             "colorbar": {
              "outlinewidth": 0,
              "ticks": ""
             }
            },
            "type": "scattermapbox"
           }
          ],
          "scatterpolar": [
           {
            "marker": {
             "colorbar": {
              "outlinewidth": 0,
              "ticks": ""
             }
            },
            "type": "scatterpolar"
           }
          ],
          "scatterpolargl": [
           {
            "marker": {
             "colorbar": {
              "outlinewidth": 0,
              "ticks": ""
             }
            },
            "type": "scatterpolargl"
           }
          ],
          "scatterternary": [
           {
            "marker": {
             "colorbar": {
              "outlinewidth": 0,
              "ticks": ""
             }
            },
            "type": "scatterternary"
           }
          ],
          "surface": [
           {
            "colorbar": {
             "outlinewidth": 0,
             "ticks": ""
            },
            "colorscale": [
             [
              0,
              "#0d0887"
             ],
             [
              0.1111111111111111,
              "#46039f"
             ],
             [
              0.2222222222222222,
              "#7201a8"
             ],
             [
              0.3333333333333333,
              "#9c179e"
             ],
             [
              0.4444444444444444,
              "#bd3786"
             ],
             [
              0.5555555555555556,
              "#d8576b"
             ],
             [
              0.6666666666666666,
              "#ed7953"
             ],
             [
              0.7777777777777778,
              "#fb9f3a"
             ],
             [
              0.8888888888888888,
              "#fdca26"
             ],
             [
              1,
              "#f0f921"
             ]
            ],
            "type": "surface"
           }
          ],
          "table": [
           {
            "cells": {
             "fill": {
              "color": "#EBF0F8"
             },
             "line": {
              "color": "white"
             }
            },
            "header": {
             "fill": {
              "color": "#C8D4E3"
             },
             "line": {
              "color": "white"
             }
            },
            "type": "table"
           }
          ]
         },
         "layout": {
          "annotationdefaults": {
           "arrowcolor": "#2a3f5f",
           "arrowhead": 0,
           "arrowwidth": 1
          },
          "autotypenumbers": "strict",
          "coloraxis": {
           "colorbar": {
            "outlinewidth": 0,
            "ticks": ""
           }
          },
          "colorscale": {
           "diverging": [
            [
             0,
             "#8e0152"
            ],
            [
             0.1,
             "#c51b7d"
            ],
            [
             0.2,
             "#de77ae"
            ],
            [
             0.3,
             "#f1b6da"
            ],
            [
             0.4,
             "#fde0ef"
            ],
            [
             0.5,
             "#f7f7f7"
            ],
            [
             0.6,
             "#e6f5d0"
            ],
            [
             0.7,
             "#b8e186"
            ],
            [
             0.8,
             "#7fbc41"
            ],
            [
             0.9,
             "#4d9221"
            ],
            [
             1,
             "#276419"
            ]
           ],
           "sequential": [
            [
             0,
             "#0d0887"
            ],
            [
             0.1111111111111111,
             "#46039f"
            ],
            [
             0.2222222222222222,
             "#7201a8"
            ],
            [
             0.3333333333333333,
             "#9c179e"
            ],
            [
             0.4444444444444444,
             "#bd3786"
            ],
            [
             0.5555555555555556,
             "#d8576b"
            ],
            [
             0.6666666666666666,
             "#ed7953"
            ],
            [
             0.7777777777777778,
             "#fb9f3a"
            ],
            [
             0.8888888888888888,
             "#fdca26"
            ],
            [
             1,
             "#f0f921"
            ]
           ],
           "sequentialminus": [
            [
             0,
             "#0d0887"
            ],
            [
             0.1111111111111111,
             "#46039f"
            ],
            [
             0.2222222222222222,
             "#7201a8"
            ],
            [
             0.3333333333333333,
             "#9c179e"
            ],
            [
             0.4444444444444444,
             "#bd3786"
            ],
            [
             0.5555555555555556,
             "#d8576b"
            ],
            [
             0.6666666666666666,
             "#ed7953"
            ],
            [
             0.7777777777777778,
             "#fb9f3a"
            ],
            [
             0.8888888888888888,
             "#fdca26"
            ],
            [
             1,
             "#f0f921"
            ]
           ]
          },
          "colorway": [
           "#636efa",
           "#EF553B",
           "#00cc96",
           "#ab63fa",
           "#FFA15A",
           "#19d3f3",
           "#FF6692",
           "#B6E880",
           "#FF97FF",
           "#FECB52"
          ],
          "font": {
           "color": "#2a3f5f"
          },
          "geo": {
           "bgcolor": "white",
           "lakecolor": "white",
           "landcolor": "#E5ECF6",
           "showlakes": true,
           "showland": true,
           "subunitcolor": "white"
          },
          "hoverlabel": {
           "align": "left"
          },
          "hovermode": "closest",
          "mapbox": {
           "style": "light"
          },
          "paper_bgcolor": "white",
          "plot_bgcolor": "#E5ECF6",
          "polar": {
           "angularaxis": {
            "gridcolor": "white",
            "linecolor": "white",
            "ticks": ""
           },
           "bgcolor": "#E5ECF6",
           "radialaxis": {
            "gridcolor": "white",
            "linecolor": "white",
            "ticks": ""
           }
          },
          "scene": {
           "xaxis": {
            "backgroundcolor": "#E5ECF6",
            "gridcolor": "white",
            "gridwidth": 2,
            "linecolor": "white",
            "showbackground": true,
            "ticks": "",
            "zerolinecolor": "white"
           },
           "yaxis": {
            "backgroundcolor": "#E5ECF6",
            "gridcolor": "white",
            "gridwidth": 2,
            "linecolor": "white",
            "showbackground": true,
            "ticks": "",
            "zerolinecolor": "white"
           },
           "zaxis": {
            "backgroundcolor": "#E5ECF6",
            "gridcolor": "white",
            "gridwidth": 2,
            "linecolor": "white",
            "showbackground": true,
            "ticks": "",
            "zerolinecolor": "white"
           }
          },
          "shapedefaults": {
           "line": {
            "color": "#2a3f5f"
           }
          },
          "ternary": {
           "aaxis": {
            "gridcolor": "white",
            "linecolor": "white",
            "ticks": ""
           },
           "baxis": {
            "gridcolor": "white",
            "linecolor": "white",
            "ticks": ""
           },
           "bgcolor": "#E5ECF6",
           "caxis": {
            "gridcolor": "white",
            "linecolor": "white",
            "ticks": ""
           }
          },
          "title": {
           "x": 0.05
          },
          "xaxis": {
           "automargin": true,
           "gridcolor": "white",
           "linecolor": "white",
           "ticks": "",
           "title": {
            "standoff": 15
           },
           "zerolinecolor": "white",
           "zerolinewidth": 2
          },
          "yaxis": {
           "automargin": true,
           "gridcolor": "white",
           "linecolor": "white",
           "ticks": "",
           "title": {
            "standoff": 15
           },
           "zerolinecolor": "white",
           "zerolinewidth": 2
          }
         }
        },
        "title": {
         "text": "Selected family: ['Andropadus', 'Macronyx', 'Treron'], there are 10 recordings"
        },
        "xaxis": {
         "anchor": "y",
         "domain": [
          0,
          1
         ],
         "title": {
          "text": "ROI_id"
         }
        },
        "yaxis": {
         "anchor": "x",
         "domain": [
          0,
          1
         ],
         "title": {
          "text": "bandwidth_f"
         }
        }
       }
      }
     },
     "metadata": {},
     "output_type": "display_data"
    }
   ],
   "source": [
    "fig"
   ]
  },
  {
   "cell_type": "code",
   "execution_count": 63,
   "metadata": {},
   "outputs": [],
   "source": [
    "features_by_recording = dff.groupby('sound_id').agg(\n",
    "mean_bandwidth = ('bandwidth_f','mean'),\n",
    "min_bandwidth = ('bandwidth_f','min'),\n",
    "max_bandwidth= ('bandwidth_f','max'),\n",
    "nRoi = ('ROI_id','max'),\n",
    "mean_duration_s = ('duration_t','mean'),\n",
    "max_duration_s = ('duration_t','max'),\n",
    "min_duration_s = ('duration_t','min'))"
   ]
  },
  {
   "cell_type": "code",
   "execution_count": 62,
   "metadata": {},
   "outputs": [
    {
     "data": {
      "text/html": [
       "<div>\n",
       "<style scoped>\n",
       "    .dataframe tbody tr th:only-of-type {\n",
       "        vertical-align: middle;\n",
       "    }\n",
       "\n",
       "    .dataframe tbody tr th {\n",
       "        vertical-align: top;\n",
       "    }\n",
       "\n",
       "    .dataframe thead th {\n",
       "        text-align: right;\n",
       "    }\n",
       "</style>\n",
       "<table border=\"1\" class=\"dataframe\">\n",
       "  <thead>\n",
       "    <tr style=\"text-align: right;\">\n",
       "      <th></th>\n",
       "      <th>mean_bandwidth</th>\n",
       "      <th>min_bandwidth</th>\n",
       "      <th>max_bandwidth</th>\n",
       "      <th>nRoi</th>\n",
       "      <th>mean_duration_s</th>\n",
       "      <th>max_duration_s</th>\n",
       "      <th>min_duration_s</th>\n",
       "    </tr>\n",
       "    <tr>\n",
       "      <th>sound_id</th>\n",
       "      <th></th>\n",
       "      <th></th>\n",
       "      <th></th>\n",
       "      <th></th>\n",
       "      <th></th>\n",
       "      <th></th>\n",
       "      <th></th>\n",
       "    </tr>\n",
       "  </thead>\n",
       "  <tbody>\n",
       "    <tr>\n",
       "      <th>104018</th>\n",
       "      <td>4571.52</td>\n",
       "      <td>387.60</td>\n",
       "      <td>20585.74</td>\n",
       "      <td>93</td>\n",
       "      <td>0.45</td>\n",
       "      <td>2.50</td>\n",
       "      <td>0.06</td>\n",
       "    </tr>\n",
       "    <tr>\n",
       "      <th>104019</th>\n",
       "      <td>5636.91</td>\n",
       "      <td>1550.39</td>\n",
       "      <td>15676.17</td>\n",
       "      <td>18</td>\n",
       "      <td>0.29</td>\n",
       "      <td>0.41</td>\n",
       "      <td>0.07</td>\n",
       "    </tr>\n",
       "    <tr>\n",
       "      <th>104020</th>\n",
       "      <td>7846.70</td>\n",
       "      <td>1033.59</td>\n",
       "      <td>12144.73</td>\n",
       "      <td>10</td>\n",
       "      <td>0.51</td>\n",
       "      <td>1.27</td>\n",
       "      <td>0.16</td>\n",
       "    </tr>\n",
       "    <tr>\n",
       "      <th>316658</th>\n",
       "      <td>9019.34</td>\n",
       "      <td>1981.05</td>\n",
       "      <td>22006.93</td>\n",
       "      <td>14</td>\n",
       "      <td>0.46</td>\n",
       "      <td>1.75</td>\n",
       "      <td>0.15</td>\n",
       "    </tr>\n",
       "    <tr>\n",
       "      <th>316661</th>\n",
       "      <td>14671.29</td>\n",
       "      <td>7838.09</td>\n",
       "      <td>22006.93</td>\n",
       "      <td>6</td>\n",
       "      <td>0.56</td>\n",
       "      <td>1.37</td>\n",
       "      <td>0.13</td>\n",
       "    </tr>\n",
       "    <tr>\n",
       "      <th>392008</th>\n",
       "      <td>6564.55</td>\n",
       "      <td>818.26</td>\n",
       "      <td>20973.34</td>\n",
       "      <td>28</td>\n",
       "      <td>0.58</td>\n",
       "      <td>3.38</td>\n",
       "      <td>0.06</td>\n",
       "    </tr>\n",
       "    <tr>\n",
       "      <th>452897</th>\n",
       "      <td>6220.70</td>\n",
       "      <td>1636.52</td>\n",
       "      <td>8871.68</td>\n",
       "      <td>9</td>\n",
       "      <td>0.25</td>\n",
       "      <td>0.65</td>\n",
       "      <td>0.03</td>\n",
       "    </tr>\n",
       "    <tr>\n",
       "      <th>452898</th>\n",
       "      <td>4835.90</td>\n",
       "      <td>215.33</td>\n",
       "      <td>22006.93</td>\n",
       "      <td>38</td>\n",
       "      <td>0.31</td>\n",
       "      <td>2.08</td>\n",
       "      <td>0.03</td>\n",
       "    </tr>\n",
       "    <tr>\n",
       "      <th>453958</th>\n",
       "      <td>2411.72</td>\n",
       "      <td>258.40</td>\n",
       "      <td>5426.37</td>\n",
       "      <td>54</td>\n",
       "      <td>0.26</td>\n",
       "      <td>0.81</td>\n",
       "      <td>0.03</td>\n",
       "    </tr>\n",
       "    <tr>\n",
       "      <th>59737</th>\n",
       "      <td>5193.81</td>\n",
       "      <td>344.53</td>\n",
       "      <td>10551.27</td>\n",
       "      <td>35</td>\n",
       "      <td>0.34</td>\n",
       "      <td>0.99</td>\n",
       "      <td>0.06</td>\n",
       "    </tr>\n",
       "  </tbody>\n",
       "</table>\n",
       "</div>"
      ],
      "text/plain": [
       "          mean_bandwidth  min_bandwidth  max_bandwidth  nRoi  mean_duration_s  \\\n",
       "sound_id                                                                        \n",
       "104018           4571.52         387.60       20585.74    93             0.45   \n",
       "104019           5636.91        1550.39       15676.17    18             0.29   \n",
       "104020           7846.70        1033.59       12144.73    10             0.51   \n",
       "316658           9019.34        1981.05       22006.93    14             0.46   \n",
       "316661          14671.29        7838.09       22006.93     6             0.56   \n",
       "392008           6564.55         818.26       20973.34    28             0.58   \n",
       "452897           6220.70        1636.52        8871.68     9             0.25   \n",
       "452898           4835.90         215.33       22006.93    38             0.31   \n",
       "453958           2411.72         258.40        5426.37    54             0.26   \n",
       "59737            5193.81         344.53       10551.27    35             0.34   \n",
       "\n",
       "          max_duration_s  min_duration_s  \n",
       "sound_id                                  \n",
       "104018              2.50            0.06  \n",
       "104019              0.41            0.07  \n",
       "104020              1.27            0.16  \n",
       "316658              1.75            0.15  \n",
       "316661              1.37            0.13  \n",
       "392008              3.38            0.06  \n",
       "452897              0.65            0.03  \n",
       "452898              2.08            0.03  \n",
       "453958              0.81            0.03  \n",
       "59737               0.99            0.06  "
      ]
     },
     "execution_count": 62,
     "metadata": {},
     "output_type": "execute_result"
    }
   ],
   "source": [
    "features_by_recording.round(2)"
   ]
  }
 ],
 "metadata": {
  "interpreter": {
   "hash": "5f092c625b54717e6fbd4d91ce8d85fe7e6620ef8c41f32022d30ea320c9fdb9"
  },
  "kernelspec": {
   "display_name": "Python 3.8.9 64-bit ('.venv': venv)",
   "language": "python",
   "name": "python3"
  },
  "language_info": {
   "codemirror_mode": {
    "name": "ipython",
    "version": 3
   },
   "file_extension": ".py",
   "mimetype": "text/x-python",
   "name": "python",
   "nbconvert_exporter": "python",
   "pygments_lexer": "ipython3",
   "version": "3.8.9"
  },
  "orig_nbformat": 4
 },
 "nbformat": 4,
 "nbformat_minor": 2
}
