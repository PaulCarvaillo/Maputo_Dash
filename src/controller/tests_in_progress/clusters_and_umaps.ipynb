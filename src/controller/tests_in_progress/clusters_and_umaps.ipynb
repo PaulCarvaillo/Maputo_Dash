{
 "cells": [
  {
   "cell_type": "code",
   "execution_count": 7,
   "metadata": {},
   "outputs": [
    {
     "data": {
      "text/plain": [
       "127"
      ]
     },
     "execution_count": 7,
     "metadata": {},
     "output_type": "execute_result"
    }
   ],
   "source": [
    "import os\n",
    "from glob import glob\n",
    "datapath = '/Users/Paul/Paul/Desktop/My_projects/Bioacoustics/Maputo_Dash/datasets/wav/xenocanto'\n",
    "filelist = glob(datapath+'/**/*.wav', recursive = True)\n",
    "len(filelist)"
   ]
  },
  {
   "cell_type": "code",
   "execution_count": 38,
   "metadata": {},
   "outputs": [],
   "source": [
    "from glob import glob\n",
    "from pathlib import Path\n",
    "import pandas as pd\n",
    "import warnings\n",
    "warnings.filterwarnings(action='ignore')\n",
    "# scikit-learn (machine learning) package\n",
    "from sklearn.preprocessing import RobustScaler, MinMaxScaler, StandardScaler\n",
    "from sklearn.decomposition import PCA\n",
    "from sklearn.model_selection import train_test_split\n",
    "from sklearn.utils import shuffle\n",
    "\n"
   ]
  },
  {
   "cell_type": "code",
   "execution_count": 31,
   "metadata": {},
   "outputs": [],
   "source": [
    "# Global vars\n",
    "datapath = '/Users/Paul/Paul/Desktop/My_projects/Bioacoustics/Maputo_Dash/datasets/wav/xenocanto'\n",
    "RANDOM_SEED = 1993        # Fix the random seed to be able to repeat the results \n",
    "NFFT = 2024               # Number of points of the spectrogram\n",
    "CHANNEL = 'left'          # if stereo, keep only the left channel of the audio file\n",
    "SAMPLE_RATE = 44100       # Sampling frequency in Hz\n",
    "LOW_FREQ = 250            # Low frequency in Hz of the bandpass filter applied to the audio\n",
    "AUDIO_DURATION = None     # Max duration of the audio files that we will use to compute the features\n",
    "SIGNAL_LENGTH = 10        # Split the audio signal of chunk with duration = SIGNAL LENGTH (in second)\n",
    "OVLP = 0.5                # Define the overlap ratio between each chunk. This is intersting in order to catch full signatures as much as possible\n",
    "CSV_FEATURES_FILE = 'all_roi_features.csv'    # Neame of the csv file that contains the features extracted from each audio file"
   ]
  },
  {
   "cell_type": "code",
   "execution_count": 25,
   "metadata": {},
   "outputs": [],
   "source": [
    "filelist = glob(datapath+'/**/*.wav', recursive = True)\n",
    "df_data=pd.DataFrame()\n",
    "for file in filelist:\n",
    "    species = Path(file).parts[-2].rsplit(sep='_')[1]\n",
    "    gen = Path(file).parts[-2].rsplit(sep='_')[0]\n",
    "    df_data = df_data.append({'fullfilename': file,\n",
    "                              'sound_id': Path(file).parts[-1][:-4],\n",
    "                              'species': species,\n",
    "                              'gen' : gen},\n",
    "                            ignore_index=True)\n"
   ]
  },
  {
   "cell_type": "code",
   "execution_count": 26,
   "metadata": {},
   "outputs": [
    {
     "data": {
      "text/html": [
       "<div>\n",
       "<style scoped>\n",
       "    .dataframe tbody tr th:only-of-type {\n",
       "        vertical-align: middle;\n",
       "    }\n",
       "\n",
       "    .dataframe tbody tr th {\n",
       "        vertical-align: top;\n",
       "    }\n",
       "\n",
       "    .dataframe thead th {\n",
       "        text-align: right;\n",
       "    }\n",
       "</style>\n",
       "<table border=\"1\" class=\"dataframe\">\n",
       "  <thead>\n",
       "    <tr style=\"text-align: right;\">\n",
       "      <th></th>\n",
       "      <th>fullfilename</th>\n",
       "      <th>sound_id</th>\n",
       "      <th>species</th>\n",
       "      <th>gen</th>\n",
       "    </tr>\n",
       "  </thead>\n",
       "  <tbody>\n",
       "    <tr>\n",
       "      <th>0</th>\n",
       "      <td>/Users/Paul/Paul/Desktop/My_projects/Bioacoust...</td>\n",
       "      <td>449420</td>\n",
       "      <td>africanoides</td>\n",
       "      <td>Calendulauda</td>\n",
       "    </tr>\n",
       "    <tr>\n",
       "      <th>1</th>\n",
       "      <td>/Users/Paul/Paul/Desktop/My_projects/Bioacoust...</td>\n",
       "      <td>452901</td>\n",
       "      <td>galactotes</td>\n",
       "      <td>Cisticola</td>\n",
       "    </tr>\n",
       "    <tr>\n",
       "      <th>2</th>\n",
       "      <td>/Users/Paul/Paul/Desktop/My_projects/Bioacoust...</td>\n",
       "      <td>201332</td>\n",
       "      <td>galactotes</td>\n",
       "      <td>Cisticola</td>\n",
       "    </tr>\n",
       "  </tbody>\n",
       "</table>\n",
       "</div>"
      ],
      "text/plain": [
       "                                        fullfilename sound_id       species  \\\n",
       "0  /Users/Paul/Paul/Desktop/My_projects/Bioacoust...   449420  africanoides   \n",
       "1  /Users/Paul/Paul/Desktop/My_projects/Bioacoust...   452901    galactotes   \n",
       "2  /Users/Paul/Paul/Desktop/My_projects/Bioacoust...   201332    galactotes   \n",
       "\n",
       "            gen  \n",
       "0  Calendulauda  \n",
       "1     Cisticola  \n",
       "2     Cisticola  "
      ]
     },
     "execution_count": 26,
     "metadata": {},
     "output_type": "execute_result"
    }
   ],
   "source": [
    "df_data.head(3)"
   ]
  },
  {
   "cell_type": "code",
   "execution_count": 34,
   "metadata": {},
   "outputs": [
    {
     "name": "stdout",
     "output_type": "stream",
     "text": [
      "Missing Data :  0  shape is :  (101, 4)\n"
     ]
    }
   ],
   "source": [
    "subdf_data = df_data.copy()\n",
    "# Shuffle the birds in the dataframe \n",
    "subdf_data = shuffle(subdf_data, random_state=RANDOM_SEED)\n",
    "\n",
    "# split the dataset into train and test dataset with stratification on species\n",
    "df_train, df_test = train_test_split(subdf_data, test_size=0.2, random_state=RANDOM_SEED)\n",
    "\n",
    "df_train.head(10)\n",
    "print(\"Missing Data : \", df_train.isna().sum().sum(), ' shape is : ', df_train.shape)\n"
   ]
  },
  {
   "cell_type": "code",
   "execution_count": 40,
   "metadata": {},
   "outputs": [
    {
     "data": {
      "text/plain": [
       "(26, 4)"
      ]
     },
     "execution_count": 40,
     "metadata": {},
     "output_type": "execute_result"
    }
   ],
   "source": [
    "df_test.shape"
   ]
  },
  {
   "cell_type": "code",
   "execution_count": null,
   "metadata": {},
   "outputs": [],
   "source": []
  }
 ],
 "metadata": {
  "interpreter": {
   "hash": "5f092c625b54717e6fbd4d91ce8d85fe7e6620ef8c41f32022d30ea320c9fdb9"
  },
  "kernelspec": {
   "display_name": "Python 3.8.9 64-bit ('.venv': venv)",
   "language": "python",
   "name": "python3"
  },
  "language_info": {
   "codemirror_mode": {
    "name": "ipython",
    "version": 3
   },
   "file_extension": ".py",
   "mimetype": "text/x-python",
   "name": "python",
   "nbconvert_exporter": "python",
   "pygments_lexer": "ipython3",
   "version": "3.8.9"
  },
  "orig_nbformat": 4
 },
 "nbformat": 4,
 "nbformat_minor": 2
}
