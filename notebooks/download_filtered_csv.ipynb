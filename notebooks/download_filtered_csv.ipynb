{
 "cells": [
  {
   "cell_type": "markdown",
   "metadata": {},
   "source": [
    "# TESTING DOWNLOAD BASED ON FILTERED DATASET (AFTER QUERY AND USER CHECK)\n",
    "## Using ChatGPT to code this"
   ]
  },
  {
   "cell_type": "code",
   "execution_count": 1,
   "metadata": {},
   "outputs": [],
   "source": [
    "import requests\n",
    "import pandas as pd\n",
    "import os\n"
   ]
  },
  {
   "cell_type": "code",
   "execution_count": 2,
   "metadata": {},
   "outputs": [],
   "source": [
    "df_recordings = pd.read_csv('/Users/Paul/Paul/Desktop/My_projects/Bioacoustics/Maputo_Dash/datasets/tables/filtered_df.csv')"
   ]
  },
  {
   "cell_type": "code",
   "execution_count": 3,
   "metadata": {},
   "outputs": [
    {
     "data": {
      "text/html": [
       "<div>\n",
       "<style scoped>\n",
       "    .dataframe tbody tr th:only-of-type {\n",
       "        vertical-align: middle;\n",
       "    }\n",
       "\n",
       "    .dataframe tbody tr th {\n",
       "        vertical-align: top;\n",
       "    }\n",
       "\n",
       "    .dataframe thead th {\n",
       "        text-align: right;\n",
       "    }\n",
       "</style>\n",
       "<table border=\"1\" class=\"dataframe\">\n",
       "  <thead>\n",
       "    <tr style=\"text-align: right;\">\n",
       "      <th></th>\n",
       "      <th>Unnamed: 0</th>\n",
       "      <th>id</th>\n",
       "      <th>rec</th>\n",
       "      <th>loc</th>\n",
       "      <th>gen</th>\n",
       "      <th>sp</th>\n",
       "      <th>lat</th>\n",
       "      <th>lng</th>\n",
       "      <th>alt</th>\n",
       "      <th>type</th>\n",
       "      <th>q</th>\n",
       "      <th>length</th>\n",
       "      <th>bird-seen</th>\n",
       "      <th>file</th>\n",
       "      <th>en</th>\n",
       "    </tr>\n",
       "  </thead>\n",
       "  <tbody>\n",
       "    <tr>\n",
       "      <th>0</th>\n",
       "      <td>0</td>\n",
       "      <td>162251</td>\n",
       "      <td>Mike Nelson</td>\n",
       "      <td>Berenty Reserve, Toliara Prov.</td>\n",
       "      <td>Coua</td>\n",
       "      <td>gigas</td>\n",
       "      <td>-25.0590</td>\n",
       "      <td>46.3028</td>\n",
       "      <td>160</td>\n",
       "      <td>song</td>\n",
       "      <td>B</td>\n",
       "      <td>9:06</td>\n",
       "      <td>yes</td>\n",
       "      <td>https://xeno-canto.org/162251/download</td>\n",
       "      <td>Giant Coua</td>\n",
       "    </tr>\n",
       "    <tr>\n",
       "      <th>1</th>\n",
       "      <td>1</td>\n",
       "      <td>162878</td>\n",
       "      <td>Mike Nelson</td>\n",
       "      <td>Ranomafana National Park, Fianarantsoa</td>\n",
       "      <td>Coua</td>\n",
       "      <td>caerulea</td>\n",
       "      <td>-21.4326</td>\n",
       "      <td>47.3978</td>\n",
       "      <td>1100</td>\n",
       "      <td>alarm call</td>\n",
       "      <td>B</td>\n",
       "      <td>3:06</td>\n",
       "      <td>yes</td>\n",
       "      <td>https://xeno-canto.org/162878/download</td>\n",
       "      <td>Blue Coua</td>\n",
       "    </tr>\n",
       "    <tr>\n",
       "      <th>2</th>\n",
       "      <td>2</td>\n",
       "      <td>68027</td>\n",
       "      <td>Frank Lambert</td>\n",
       "      <td>Zombitse Forest</td>\n",
       "      <td>Coua</td>\n",
       "      <td>gigas</td>\n",
       "      <td>-22.9000</td>\n",
       "      <td>44.7000</td>\n",
       "      <td>800</td>\n",
       "      <td>call, song</td>\n",
       "      <td>A</td>\n",
       "      <td>2:56</td>\n",
       "      <td>unknown</td>\n",
       "      <td>https://xeno-canto.org/68027/download</td>\n",
       "      <td>Giant Coua</td>\n",
       "    </tr>\n",
       "  </tbody>\n",
       "</table>\n",
       "</div>"
      ],
      "text/plain": [
       "   Unnamed: 0      id            rec                                     loc  \\\n",
       "0           0  162251    Mike Nelson          Berenty Reserve, Toliara Prov.   \n",
       "1           1  162878    Mike Nelson  Ranomafana National Park, Fianarantsoa   \n",
       "2           2   68027  Frank Lambert                         Zombitse Forest   \n",
       "\n",
       "    gen        sp      lat      lng   alt        type  q length bird-seen  \\\n",
       "0  Coua     gigas -25.0590  46.3028   160        song  B   9:06       yes   \n",
       "1  Coua  caerulea -21.4326  47.3978  1100  alarm call  B   3:06       yes   \n",
       "2  Coua     gigas -22.9000  44.7000   800  call, song  A   2:56   unknown   \n",
       "\n",
       "                                     file          en  \n",
       "0  https://xeno-canto.org/162251/download  Giant Coua  \n",
       "1  https://xeno-canto.org/162878/download   Blue Coua  \n",
       "2   https://xeno-canto.org/68027/download  Giant Coua  "
      ]
     },
     "execution_count": 3,
     "metadata": {},
     "output_type": "execute_result"
    }
   ],
   "source": [
    "df_recordings[:3].head()"
   ]
  },
  {
   "cell_type": "code",
   "execution_count": 10,
   "metadata": {},
   "outputs": [],
   "source": [
    "for index, row in df_recordings[:3].iterrows():\n",
    "    gen = row['gen']\n",
    "    sp = row['sp']\n",
    "    ID = row['id']\n",
    "    URL = row['file']\n",
    "    \n",
    "    # Create directory if it doesn't exist\n",
    "    directory = gen + '_' + sp\n",
    "    if not os.path.exists(directory):\n",
    "        os.makedirs(directory)\n",
    "    \n",
    "    # Download file\n",
    "    response = requests.get(URL)\n",
    "    open(directory + '/' + str(ID) + '.wav', 'wb').write(response.content)"
   ]
  },
  {
   "cell_type": "code",
   "execution_count": 11,
   "metadata": {},
   "outputs": [],
   "source": [
    "import os\n",
    "import requests\n",
    "\n",
    "for index, row in df_recordings[:3].iterrows():\n",
    "    directory = row[\"gen\"] + '_' + row[\"sp\"]\n",
    "    os.makedirs(directory, exist_ok=True)\n",
    "    open(directory + '/' + str(row[\"id\"]) + '.wav', 'wb').write(requests.get(row[\"file\"]).content)\n"
   ]
  },
  {
   "cell_type": "code",
   "execution_count": 12,
   "metadata": {},
   "outputs": [],
   "source": [
    "import os\n",
    "import requests\n",
    "\n",
    "for index, row in df_recordings.iterrows():\n",
    "    directory = row[\"gen\"] + '_' + row[\"sp\"]\n",
    "    os.makedirs(directory, exist_ok=True)\n",
    "    file_path = directory + '/' + str(row[\"id\"]) + '.wav'\n",
    "    try:\n",
    "        response = requests.get(row[\"file\"], stream=True, timeout=5)\n",
    "        response.raise_for_status()\n",
    "        with open(file_path, 'wb') as f:\n",
    "            for chunk in response.iter_content(1024):\n",
    "                f.write(chunk)\n",
    "    except (requests.exceptions.RequestException, IOError) as e:\n",
    "        if os.path.exists(file_path):\n",
    "            os.remove(file_path)\n",
    "        print(\"An error occurred while processing: \" + row[\"file\"])\n",
    "        print(\"Error: \", e)\n"
   ]
  },
  {
   "cell_type": "code",
   "execution_count": 5,
   "metadata": {},
   "outputs": [
    {
     "name": "stderr",
     "output_type": "stream",
     "text": []
    }
   ],
   "source": [
    "import os\n",
    "import requests\n",
    "from tqdm import tqdm\n",
    "\n",
    "overwrite=True\n",
    "for index, row in df_recordings[:3].iterrows():\n",
    "    directory = row[\"gen\"] + '_' + row[\"sp\"]\n",
    "    os.makedirs(directory, exist_ok=True)\n",
    "    file_path = directory + '/' + str(row[\"id\"]) + '.wav'\n",
    "    if os.path.exists(file_path) and not overwrite:\n",
    "        continue\n",
    "    try:\n",
    "        response = requests.get(row[\"file\"], stream=True, timeout=5)\n",
    "        response.raise_for_status()\n",
    "        with open(file_path, \"wb\") as f:\n",
    "            total_size = int(response.headers.get(\"content-length\", 0))\n",
    "            for data in tqdm(response.iter_content(1024), total=total_size, unit='B', unit_scale=True, desc=file_path, leave=False):\n",
    "                f.write(data)\n",
    "    except (requests.exceptions.RequestException, IOError) as e:\n",
    "        if os.path.exists(file_path):\n",
    "            os.remove(file_path)\n",
    "        print(\"An error occurred while processing: \" + row[\"file\"])\n",
    "        print(\"Error: \", e)\n"
   ]
  },
  {
   "cell_type": "markdown",
   "metadata": {},
   "source": [
    "### SINGLE DOWNLOAD"
   ]
  },
  {
   "cell_type": "code",
   "execution_count": 6,
   "metadata": {},
   "outputs": [],
   "source": [
    "import os\n",
    "import requests\n",
    "from tqdm import tqdm\n",
    "\n",
    "def download_files(df_recordings, root_dir='.', overwrite=True):\n",
    "    for index, row in df_recordings.iterrows():\n",
    "        directory = os.path.join(root_dir, row[\"gen\"] + '_' + row[\"sp\"])\n",
    "        os.makedirs(directory, exist_ok=True)\n",
    "        file_path = os.path.join(directory, str(row[\"id\"]) + '.wav')\n",
    "        if os.path.exists(file_path) and not overwrite:\n",
    "            continue\n",
    "        try:\n",
    "            response = requests.get(row[\"file\"], stream=True, timeout=5)\n",
    "            response.raise_for_status()\n",
    "            with open(file_path, \"wb\") as f:\n",
    "                total_size = int(response.headers.get(\"content-length\", 0))\n",
    "                for data in tqdm(response.iter_content(1024), total=total_size, unit='B', unit_scale=True, desc=file_path, leave=False):\n",
    "                    f.write(data)\n",
    "        except (requests.exceptions.RequestException, IOError) as e:\n",
    "            if os.path.exists(file_path):\n",
    "                os.remove(file_path)\n",
    "            print(\"An error occurred while processing: \" + row[\"file\"])\n",
    "            print(\"Error: \", e)\n"
   ]
  },
  {
   "cell_type": "code",
   "execution_count": 7,
   "metadata": {},
   "outputs": [
    {
     "name": "stderr",
     "output_type": "stream",
     "text": []
    },
    {
     "name": "stdout",
     "output_type": "stream",
     "text": [
      "An error occurred while processing: https://xeno-canto.org/162251/download\n",
      "Error:  HTTPSConnectionPool(host='xeno-canto.org', port=443): Read timed out.\n"
     ]
    },
    {
     "name": "stderr",
     "output_type": "stream",
     "text": []
    },
    {
     "name": "stdout",
     "output_type": "stream",
     "text": [
      "An error occurred while processing: https://xeno-canto.org/26705/download\n",
      "Error:  500 Server Error: Internal Server Error for url: https://xeno-canto.org/26705/download\n"
     ]
    },
    {
     "name": "stderr",
     "output_type": "stream",
     "text": []
    },
    {
     "name": "stdout",
     "output_type": "stream",
     "text": [
      "An error occurred while processing: https://xeno-canto.org/26704/download\n",
      "Error:  500 Server Error: Internal Server Error for url: https://xeno-canto.org/26704/download\n"
     ]
    },
    {
     "name": "stderr",
     "output_type": "stream",
     "text": []
    },
    {
     "name": "stdout",
     "output_type": "stream",
     "text": [
      "An error occurred while processing: https://xeno-canto.org/26702/download\n",
      "Error:  500 Server Error: Internal Server Error for url: https://xeno-canto.org/26702/download\n"
     ]
    },
    {
     "name": "stderr",
     "output_type": "stream",
     "text": []
    },
    {
     "name": "stdout",
     "output_type": "stream",
     "text": [
      "An error occurred while processing: https://xeno-canto.org/26703/download\n",
      "Error:  500 Server Error: Internal Server Error for url: https://xeno-canto.org/26703/download\n"
     ]
    },
    {
     "name": "stderr",
     "output_type": "stream",
     "text": []
    }
   ],
   "source": [
    "download_files(df_recordings=df_recordings,root_dir='/Users/Paul/Paul/Desktop/My_projects/Bioacoustics/Maputo_Dash/datasets/wav/TEST')"
   ]
  },
  {
   "cell_type": "markdown",
   "metadata": {},
   "source": [
    "### MULTICORE DOWNLOAD"
   ]
  },
  {
   "cell_type": "code",
   "execution_count": null,
   "metadata": {},
   "outputs": [],
   "source": [
    "import os\n",
    "import requests\n",
    "from tqdm import tqdm\n",
    "from concurrent.futures import ProcessPoolExecutor\n",
    "\n",
    "def download_file(file_path, url, overwrite):\n",
    "    if os.path.exists(file_path) and not overwrite:\n",
    "        return\n",
    "    try:\n",
    "        response = requests.get(url, stream=True, timeout=5)\n",
    "        response.raise_for_status()\n",
    "        with open(file_path, \"wb\") as f:\n",
    "            total_size = int(response.headers.get(\"content-length\", 0))\n",
    "            for data in tqdm(response.iter_content(1024), total=total_size, unit='B', unit_scale=True, desc=file_path, leave=False):\n",
    "                f.write(data)\n",
    "    except (requests.exceptions.RequestException, IOError) as e:\n",
    "        if os.path.exists(file_path):\n",
    "            os.remove(file_path)\n",
    "        print(\"An error occurred while processing: \" + url)\n",
    "        print(\"Error: \", e)\n",
    "\n",
    "def download_files(df_recordings, root_dir='.', overwrite=True):\n",
    "    with ProcessPoolExecutor(max_workers=2) as executor:\n",
    "        futures = []\n",
    "        for index, row in df_recordings.iterrows():\n",
    "            directory = os.path.join(root_dir, row[\"gen\"] + '_' + row[\"sp\"])\n",
    "            os.makedirs(directory, exist_ok=True)\n",
    "            file_path = os.path.join(directory, str(row[\"id\"]) + '.wav')\n",
    "            futures.append(executor.submit(download_file, file_path, row[\"file\"], overwrite))\n",
    "        for future in futures:\n",
    "            future.result()\n"
   ]
  }
 ],
 "metadata": {
  "interpreter": {
   "hash": "ec7ce093d51e5022648eb246f2dd6fb875b104fc4fa5d1a5191328c7ab8d6e62"
  },
  "kernelspec": {
   "display_name": "Python 3.10.8 64-bit ('venv': venv)",
   "language": "python",
   "name": "python3"
  },
  "language_info": {
   "codemirror_mode": {
    "name": "ipython",
    "version": 3
   },
   "file_extension": ".py",
   "mimetype": "text/x-python",
   "name": "python",
   "nbconvert_exporter": "python",
   "pygments_lexer": "ipython3",
   "version": "3.10.8"
  },
  "orig_nbformat": 4
 },
 "nbformat": 4,
 "nbformat_minor": 2
}
